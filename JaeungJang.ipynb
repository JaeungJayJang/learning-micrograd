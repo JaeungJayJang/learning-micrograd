{
  "nbformat": 4,
  "nbformat_minor": 0,
  "metadata": {
    "colab": {
      "provenance": [],
      "toc_visible": true,
      "authorship_tag": "ABX9TyPStrk2xRhnnxgKstIeS7jp",
      "include_colab_link": true
    },
    "kernelspec": {
      "name": "python3",
      "display_name": "Python 3"
    },
    "language_info": {
      "name": "python"
    }
  },
  "cells": [
    {
      "cell_type": "markdown",
      "metadata": {
        "id": "view-in-github",
        "colab_type": "text"
      },
      "source": [
        "<a href=\"https://colab.research.google.com/github/qmffkem/learning-micrograd/blob/main/JaeungJang.ipynb\" target=\"_parent\"><img src=\"https://colab.research.google.com/assets/colab-badge.svg\" alt=\"Open In Colab\"/></a>"
      ]
    },
    {
      "cell_type": "markdown",
      "source": [
        "Starting to watch video \"The spelled-out intro to neural networks and backpropagation: building micrograd\" by Andreyj Karpathy.\n",
        "Link: https://www.youtube.com/watch?v=VMj-3S1tku0\n",
        "\n",
        "Thanks, Wills for setting this up and thank you everyone who is on the same journey to take this course together! Glad to meet you all. I am farely new to neural networks and any of AI related topics and hope to learn a lot from you all! :)"
      ],
      "metadata": {
        "id": "3216Sfyp5qvq"
      }
    },
    {
      "cell_type": "markdown",
      "source": [
        "# 4/13/2024"
      ],
      "metadata": {
        "id": "WqTSCkIuLUNd"
      }
    },
    {
      "cell_type": "markdown",
      "source": [
        "# Overview\n",
        "Link:https://www.youtube.com/watch?v=VMj-3S1tku0&t=25s\n",
        "\n",
        "\n",
        "micrograd: tiny autograd engine\n",
        "\n",
        "autograd: automatic gradient(?) -> this does backpropagation...\n",
        "\n",
        "backpropagation: algorithm to efficiently evaluate the gradient of some kind of loss function respect to the weights of neural network\n",
        "\n",
        "  -> This allows to iteratively tune the weights of the neural network to minimize the loss function and therefore improve the acuracy of the network\n",
        "\n",
        "\n",
        "---\n",
        "\n",
        "**Link to micrograd**:https://github.com/karpathy/micrograd\n",
        "\n",
        "Things defined:\n",
        "* neuron\n",
        "* layer\n",
        "* MLP: multi-layer perceptron == sequence of layers of neurons\n",
        "\n"
      ],
      "metadata": {
        "id": "2UYt3J8a6lDx"
      }
    },
    {
      "cell_type": "markdown",
      "source": [
        "# Derivative of a simple function with one input\n",
        "\n",
        "Link:https://www.youtube.com/watch?v=VMj-3S1tku0&t=488s\n",
        "\n",
        "\n",
        "\n",
        "---\n",
        "\n"
      ],
      "metadata": {
        "id": "mU76WxQl_hyL"
      }
    },
    {
      "cell_type": "code",
      "source": [
        "import math\n",
        "import numpy as np\n",
        "import matplotlib.pyplot as plt\n",
        "%matplotlib inline"
      ],
      "metadata": {
        "id": "A-LaEOS574fs"
      },
      "execution_count": 84,
      "outputs": []
    },
    {
      "cell_type": "code",
      "source": [
        "def f(x):\n",
        "  return 3*x**2 - 4*x + 5"
      ],
      "metadata": {
        "id": "cv3-voD_ADu1"
      },
      "execution_count": 85,
      "outputs": []
    },
    {
      "cell_type": "code",
      "source": [
        "f(3.0)"
      ],
      "metadata": {
        "colab": {
          "base_uri": "https://localhost:8080/"
        },
        "id": "PZ2ITSZvAVvg",
        "outputId": "b2e83a86-54d1-4755-b370-cd1b489528ca"
      },
      "execution_count": 86,
      "outputs": [
        {
          "output_type": "execute_result",
          "data": {
            "text/plain": [
              "20.0"
            ]
          },
          "metadata": {},
          "execution_count": 86
        }
      ]
    },
    {
      "cell_type": "code",
      "source": [
        "xs = np.arange(-5, 5, 0.25)\n",
        "xs"
      ],
      "metadata": {
        "colab": {
          "base_uri": "https://localhost:8080/"
        },
        "id": "AvQGVdZ6AZL8",
        "outputId": "f701c214-c45d-467a-cd5d-a34cb48c4a8b"
      },
      "execution_count": 87,
      "outputs": [
        {
          "output_type": "execute_result",
          "data": {
            "text/plain": [
              "array([-5.  , -4.75, -4.5 , -4.25, -4.  , -3.75, -3.5 , -3.25, -3.  ,\n",
              "       -2.75, -2.5 , -2.25, -2.  , -1.75, -1.5 , -1.25, -1.  , -0.75,\n",
              "       -0.5 , -0.25,  0.  ,  0.25,  0.5 ,  0.75,  1.  ,  1.25,  1.5 ,\n",
              "        1.75,  2.  ,  2.25,  2.5 ,  2.75,  3.  ,  3.25,  3.5 ,  3.75,\n",
              "        4.  ,  4.25,  4.5 ,  4.75])"
            ]
          },
          "metadata": {},
          "execution_count": 87
        }
      ]
    },
    {
      "cell_type": "code",
      "source": [
        "ys = f(xs)\n",
        "ys\n",
        "plt.plot(xs, ys)"
      ],
      "metadata": {
        "colab": {
          "base_uri": "https://localhost:8080/",
          "height": 448
        },
        "id": "u8GOG70JAhuF",
        "outputId": "8a4e09c2-4345-4d8c-b23d-aeefe7aefc1d"
      },
      "execution_count": 88,
      "outputs": [
        {
          "output_type": "execute_result",
          "data": {
            "text/plain": [
              "[<matplotlib.lines.Line2D at 0x784eb88028c0>]"
            ]
          },
          "metadata": {},
          "execution_count": 88
        },
        {
          "output_type": "display_data",
          "data": {
            "text/plain": [
              "<Figure size 640x480 with 1 Axes>"
            ],
            "image/png": "[encoded data removed]"
          },
          "metadata": {}
        }
      ]
    },
    {
      "cell_type": "code",
      "source": [
        "h = 0.000001\n",
        "x = 2/3\n",
        "(f(x + h) - f(x))/h"
      ],
      "metadata": {
        "colab": {
          "base_uri": "https://localhost:8080/"
        },
        "id": "PmaxBRg8AsHK",
        "outputId": "cfd45c4b-6543-4bed-f1ec-1dbadcbf1950"
      },
      "execution_count": 89,
      "outputs": [
        {
          "output_type": "execute_result",
          "data": {
            "text/plain": [
              "2.999378523327323e-06"
            ]
          },
          "metadata": {},
          "execution_count": 89
        }
      ]
    },
    {
      "cell_type": "markdown",
      "source": [
        "# Derivative of a function with multiple inputs\n",
        "\n",
        "Link:https://youtu.be/VMj-3S1tku0?t=873\n",
        "\n",
        "\n"
      ],
      "metadata": {
        "id": "cAQDeJVECt1v"
      }
    },
    {
      "cell_type": "code",
      "source": [
        "# let's get more complex\n",
        "\n",
        "a = 2.0\n",
        "b = -3.0\n",
        "c = 10.0\n",
        "d = a*b + c\n",
        "print(d)"
      ],
      "metadata": {
        "colab": {
          "base_uri": "https://localhost:8080/"
        },
        "id": "r3VXGuprC0nQ",
        "outputId": "e1fa7bba-d30e-402e-d9ed-52d71370cd0a"
      },
      "execution_count": 90,
      "outputs": [
        {
          "output_type": "stream",
          "name": "stdout",
          "text": [
            "4.0\n"
          ]
        }
      ]
    },
    {
      "cell_type": "code",
      "source": [
        "h = 0.00001\n",
        "\n",
        "# inputs\n",
        "a = 2.0\n",
        "b = -3.0\n",
        "c = 10.0\n",
        "\n",
        "d1 = a*b + c\n",
        "a += h\n",
        "d2 = a*b + c\n",
        "print('d1', d1)\n",
        "print('d2', d2)\n",
        "print('slope', (d2 - d1)/ h)"
      ],
      "metadata": {
        "colab": {
          "base_uri": "https://localhost:8080/"
        },
        "id": "oDtfAKOTDLxa",
        "outputId": "f8f14936-01ef-4118-af2e-d72c77559381"
      },
      "execution_count": 91,
      "outputs": [
        {
          "output_type": "stream",
          "name": "stdout",
          "text": [
            "d1 4.0\n",
            "d2 3.9999699999999994\n",
            "slope -3.000000000064062\n"
          ]
        }
      ]
    },
    {
      "cell_type": "code",
      "source": [
        "h = 0.00001\n",
        "\n",
        "# inputs\n",
        "a = 2.0\n",
        "b = -3.0\n",
        "c = 10.0\n",
        "\n",
        "d1 = a*b + c\n",
        "b += h\n",
        "d2 = a*b + c\n",
        "print('d1', d1)\n",
        "print('d2', d2)\n",
        "print('slope', (d2 - d1)/ h)"
      ],
      "metadata": {
        "colab": {
          "base_uri": "https://localhost:8080/"
        },
        "outputId": "ff2cb559-a77b-462c-bbe3-e9d5c25a5f0a",
        "id": "lQQLfe2xEqq2"
      },
      "execution_count": 92,
      "outputs": [
        {
          "output_type": "stream",
          "name": "stdout",
          "text": [
            "d1 4.0\n",
            "d2 4.00002\n",
            "slope 2.0000000000131024\n"
          ]
        }
      ]
    },
    {
      "cell_type": "code",
      "source": [
        "h = 0.00001\n",
        "\n",
        "# inputs\n",
        "a = 2.0\n",
        "b = -3.0\n",
        "c = 10.0\n",
        "\n",
        "d1 = a*b + c\n",
        "c += h\n",
        "d2 = a*b + c\n",
        "print('d1', d1)\n",
        "print('d2', d2)\n",
        "print('slope', (d2 - d1)/ h)"
      ],
      "metadata": {
        "colab": {
          "base_uri": "https://localhost:8080/"
        },
        "id": "fOD9GcY2FJjl",
        "outputId": "62cec803-8167-42cd-9f68-5e7e79adefab"
      },
      "execution_count": 93,
      "outputs": [
        {
          "output_type": "stream",
          "name": "stdout",
          "text": [
            "d1 4.0\n",
            "d2 4.00001\n",
            "slope 0.9999999999621422\n"
          ]
        }
      ]
    },
    {
      "cell_type": "markdown",
      "source": [
        "# 4/14/2024"
      ],
      "metadata": {
        "id": "0jcZ7aDFLZXx"
      }
    },
    {
      "cell_type": "markdown",
      "source": [
        "## Starting the core Value object of micrograd and its visualization\n",
        "\n",
        "Link:https://youtu.be/VMj-3S1tku0?t=1154"
      ],
      "metadata": {
        "id": "uh_W0RHMFhBH"
      }
    },
    {
      "cell_type": "markdown",
      "source": [
        "### Value class"
      ],
      "metadata": {
        "id": "LCTwZZYXEjbu"
      }
    },
    {
      "cell_type": "code",
      "source": [
        "class Value:\n",
        "  def __init__(self, data, _children=(), _op='', label=''):\n",
        "    self.data = data\n",
        "    self.grad = 0.0 # 0 means no effect;\n",
        "    self._backward = lambda: None  # case for leaf node; there is nothing to do\n",
        "    self._prev = set(_children)\n",
        "    self._op = _op\n",
        "    self.label = label\n",
        "\n",
        "\n",
        "  def __repr__(self):\n",
        "    return f\"Value(data={self.data})\"\n",
        "\n",
        "  def __add__(self, other): # self * other\n",
        "    other = other if isinstance(other, Value) else Value(other)\n",
        "    out = Value(self.data + other.data, (self, other), \"+\")\n",
        "\n",
        "    def _backward():\n",
        "      self.grad += 1.0 * out.grad\n",
        "      other.grad += 1.0 * out.grad\n",
        "    out._backward = _backward\n",
        "    return out\n",
        "\n",
        "  def __radd__(self, other):\n",
        "    return self + other\n",
        "\n",
        "  def __mul__(self, other): # self * other\n",
        "    other = other if isinstance(other, Value) else Value(other)\n",
        "    out = Value(self.data * other.data, (self, other), \"*\")\n",
        "\n",
        "    def _backward():\n",
        "      self.grad += other.data * out.grad\n",
        "      other.grad += self.data * out.grad\n",
        "    out._backward = _backward\n",
        "    return out\n",
        "\n",
        "  def __rmul__(self, other):\n",
        "    return self * other\n",
        "\n",
        "  def __pow__(self, other):\n",
        "    assert isinstance(other, (int, float)), \"only supporting int/float powers for now\"\n",
        "    out = Value(self.data**other, (self,), f'**{other}')\n",
        "\n",
        "    def _backward():\n",
        "      self.grad += other * (self.data**(other - 1)) * out.grad\n",
        "    out._backward = _backward\n",
        "\n",
        "    return out\n",
        "\n",
        "  def __truediv__(self, other): # self / other\n",
        "    return self * other**-1\n",
        "\n",
        "  def __neg__(self): # -self\n",
        "    return self * -1\n",
        "\n",
        "  def __sub__(self, other): # self - other\n",
        "    return self + (-other)\n",
        "\n",
        "  def tanh(self):\n",
        "    x = self.data\n",
        "    t = (math.exp(2*x) - 1) / (math.exp(2*x) + 1)\n",
        "    out = Value(t, (self, ), 'tanh')\n",
        "\n",
        "    def _backward():\n",
        "      self.grad += (1 - t**2) * out.grad\n",
        "    out._backward = _backward\n",
        "    return out\n",
        "\n",
        "  def exp(self):\n",
        "    x = self.data\n",
        "    out = Value(math.exp(x), (self, ), 'exp')\n",
        "\n",
        "    def _backward():\n",
        "      print(self)\n",
        "      self.grad += out.data * out.grad\n",
        "    out._backward = _backward\n",
        "\n",
        "    return out\n",
        "\n",
        "  def backward(self):\n",
        "\n",
        "    topo = []\n",
        "    visited = set()\n",
        "    def build_topo(v):\n",
        "      if v not in visited:\n",
        "        visited.add(v)\n",
        "        for child in v._prev:\n",
        "          build_topo(child)\n",
        "        topo.append(v)\n",
        "    build_topo(self)\n",
        "\n",
        "    self.grad = 1.0\n",
        "    for node in reversed(topo):\n",
        "      node._backward()\n"
      ],
      "metadata": {
        "id": "Va8l_Hn4FQOI"
      },
      "execution_count": 94,
      "outputs": []
    },
    {
      "cell_type": "markdown",
      "source": [
        "With children, I can keep track of which values were used to create the current value, and with op, I know which operation was used to generate the current data with the children.\n",
        "\n",
        "He mentioned that the reason for using set is for the performance optimization."
      ],
      "metadata": {
        "id": "hs9CZa2DDjFX"
      }
    },
    {
      "cell_type": "code",
      "source": [
        "from graphviz import Digraph\n",
        "\n",
        "def trace(root):\n",
        "  # builds a set of all nodes and edges in a graph\n",
        "  nodes, edges = set(), set()\n",
        "  def build(v):\n",
        "    if v not in nodes:\n",
        "      nodes.add(v)\n",
        "      for child in v._prev:\n",
        "        edges.add((child, v))\n",
        "        build(child)\n",
        "  build(root)\n",
        "  return nodes, edges\n",
        "\n",
        "def draw_dot(root):\n",
        "  dot = Digraph(format='svg', graph_attr={'rankdir': \"LR\"}) # LR = left to right\n",
        "\n",
        "  nodes, edges = trace(root)\n",
        "  for n in nodes:\n",
        "    uid = str(id(n))\n",
        "    #  for any value in the graph, create a rectangular ('record') node for it\n",
        "    dot.node(name = uid, label = \"{ %s | data %.4f | grad %.4f }\" % (n.label, n.data, n.grad), shape='record')\n",
        "    if n._op:\n",
        "      # if this value is a result of some operation, create an op node for it\n",
        "      dot.node(name = uid + n._op, label = n._op)\n",
        "      # and connect this node to it\n",
        "      dot.edge(uid + n._op, uid)\n",
        "  for n1, n2 in edges:\n",
        "    # connect n1 to the op node of n2\n",
        "    dot.edge(str(id(n1)), str(id(n2)) + n2._op)\n",
        "\n",
        "  return dot"
      ],
      "metadata": {
        "id": "GxmZSCFeDuzz"
      },
      "execution_count": 95,
      "outputs": []
    },
    {
      "cell_type": "code",
      "source": [
        "def lol():\n",
        "  h = 0.001\n",
        "\n",
        "\n",
        "  a = Value(2.0, label='a')\n",
        "  b = Value(-3.0, label='b')\n",
        "  c = Value(10.0, label='c')\n",
        "  e = a * b; e.label = 'e'\n",
        "  d = e + c; d.label = 'd'\n",
        "  f = Value(-2.0, label='f')\n",
        "  L = d * f; L.label = 'L'\n",
        "  L1 = L.data\n",
        "\n",
        "  a = Value(2.0, label='a')\n",
        "  b = Value(-3.0, label='b')\n",
        "  c = Value(10.0, label='c')\n",
        "  e = a * b; e.label = 'e'\n",
        "  d = e + c; d.label = 'd'\n",
        "  f = Value(-2.0, label='f')\n",
        "  L = d * f; L.label = 'L'\n",
        "  L2 = L.data\n",
        "\n",
        "  print((L2 - L1)/h)\n",
        "\n",
        "lol()"
      ],
      "metadata": {
        "colab": {
          "base_uri": "https://localhost:8080/"
        },
        "id": "yykzpIedK5Wm",
        "outputId": "0687d10a-618c-4a54-b344-5da86122086a"
      },
      "execution_count": 96,
      "outputs": [
        {
          "output_type": "stream",
          "name": "stdout",
          "text": [
            "0.0\n"
          ]
        }
      ]
    },
    {
      "cell_type": "markdown",
      "source": [
        "# 4/15/2024"
      ],
      "metadata": {
        "id": "BrcOZXwRhxVY"
      }
    },
    {
      "cell_type": "markdown",
      "source": [
        "## manual backpropagation example \\#1: simple expression"
      ],
      "metadata": {
        "id": "vFzgZwTOcpur"
      }
    },
    {
      "cell_type": "markdown",
      "source": [
        "This sets up the grad manually.\n",
        "Since there is no change on derivate of L respect to L, we set 1 to it.\n",
        "\n",
        "for **d** and **f** they become each other after derivative using manual calculation and by testing with by injecting the value."
      ],
      "metadata": {
        "id": "aSWnP_X7h2VO"
      }
    },
    {
      "cell_type": "code",
      "source": [
        "# manually setting it up here\n",
        "# L.grad = 1.0\n",
        "\n",
        "# L = d * f        # based on the expression expression above.\n",
        "                 # if taking derivative on d, grad = f; if on f, grad = d\n",
        "# d.grad = -2.0\n",
        "# f.grad = 4.0"
      ],
      "metadata": {
        "id": "eTsd4zSXfUq5"
      },
      "execution_count": 97,
      "outputs": []
    },
    {
      "cell_type": "code",
      "source": [
        "# draw_dot(L)"
      ],
      "metadata": {
        "id": "OPLOikX_alb4"
      },
      "execution_count": 98,
      "outputs": []
    },
    {
      "cell_type": "markdown",
      "source": [
        "# 4/16/2024\n"
      ],
      "metadata": {
        "id": "9DAWUf06XLxR"
      }
    },
    {
      "cell_type": "markdown",
      "source": [
        "covering how to calculate derivate L respecte to c, and derivative of L respect to e.\n",
        "\n",
        "This is a bit more comprex than the previous example of d and f.\n",
        "\n",
        "dd / dc = 1.0\n",
        "\n",
        "dd / de = 1.0\n",
        "\n",
        "d = c + e\n",
        "\n",
        "we want to know how L is affected by the change of c and change of e; derivative of L respect to c and derivate of L respect to e.\n",
        "\n",
        "we know the local derivative; dL/dd and dL/df from above.\n",
        "\n",
        "now we know the local derivate as well; dd/dc and dd/de.\n",
        "\n",
        "what we need here to find the dL/dc or dL/de is the **chain rule**.\n",
        "\n",
        "\n",
        "**want:**\n",
        "dL / dc = (dL / dd) * (dd / dc)\n",
        "\n",
        "**know:**\n",
        "dL / dd\n",
        "dd / dc\n"
      ],
      "metadata": {
        "id": "379t8l7iXPPz"
      }
    },
    {
      "cell_type": "code",
      "source": [
        "# c.grad = -2.0\n",
        "# e.grad = -2.0\n"
      ],
      "metadata": {
        "id": "rLnzybhhWge0"
      },
      "execution_count": 99,
      "outputs": []
    },
    {
      "cell_type": "code",
      "source": [
        "# draw_dot(L)"
      ],
      "metadata": {
        "id": "7LAW8A45ajTe"
      },
      "execution_count": 100,
      "outputs": []
    },
    {
      "cell_type": "markdown",
      "source": [
        "dL / de = -2.0\n",
        "\n",
        "dL / da = (dL / de) * (de / da)\\\n",
        "        = (-2.0) * (-3.0)\\\n",
        "        = 6.0\n",
        "\n",
        "dL / db = (dL / de) * (de / db)\\\n",
        "        = (-2.0) * (2.0)\\\n",
        "        = -4.0"
      ],
      "metadata": {
        "id": "Y5Uku_m8bbyX"
      }
    },
    {
      "cell_type": "code",
      "source": [
        "# a.grad = -2.0 * -3.0\n",
        "# b.grad = -2.0 * 2.0"
      ],
      "metadata": {
        "id": "GYlATvkeanAF"
      },
      "execution_count": 101,
      "outputs": []
    },
    {
      "cell_type": "code",
      "source": [
        "# draw_dot(L)"
      ],
      "metadata": {
        "id": "hjgq31GxbbQ8"
      },
      "execution_count": 102,
      "outputs": []
    },
    {
      "cell_type": "markdown",
      "source": [
        "## preview of a single optimixation step"
      ],
      "metadata": {
        "id": "9EtLPyu6dGL9"
      }
    },
    {
      "cell_type": "markdown",
      "source": [
        "if we want to increase value of L up, we increase the leaf node to the direction of gradient."
      ],
      "metadata": {
        "id": "hA8sTU-EeDLo"
      }
    },
    {
      "cell_type": "code",
      "source": [
        "# a.data += 0.01 * a.grad\n",
        "# b.data += 0.01 * b.grad\n",
        "# c.data += 0.01 * c.grad\n",
        "# f.data += 0.01 * f.grad\n",
        "\n",
        "# e = a * b\n",
        "# d = e + c\n",
        "# L = f * d"
      ],
      "metadata": {
        "id": "InJVFBeQeCf6"
      },
      "execution_count": 103,
      "outputs": []
    },
    {
      "cell_type": "code",
      "source": [
        "# print(L.data)"
      ],
      "metadata": {
        "id": "eEW6toercVLM"
      },
      "execution_count": 104,
      "outputs": []
    },
    {
      "cell_type": "markdown",
      "source": [
        "## manual backpropagation example \\#2: a neuron"
      ],
      "metadata": {
        "id": "buzejTYMfhfB"
      }
    },
    {
      "cell_type": "code",
      "source": [
        "# inputs x1, x2\n",
        "x1 = Value(2.0, label='x1')\n",
        "x2 = Value(0.0, label='x2')\n",
        "# weights w1,s2\n",
        "w1 = Value(-3.0, label='w1')\n",
        "w2 = Value(1.0, label='w2')\n",
        "# bias of the neuron\n",
        "b = Value(6.8813735870195432, label='b')\n",
        "# x1*w1 + x2*w2 + b\n",
        "x1w1 = x1*w1; x1w1.label = 'x1w1'\n",
        "x2w2 = x2*w2; x2w2.label = 'x2w2'\n",
        "x1w1x2w2 = x1w1 + x2w2; x1w1x2w2.label = 'x1*w1 + x2*w2'\n",
        "n = x1w1x2w2 + b; n.label = 'n'\n",
        "o = n.tanh(); o.label = 'o'"
      ],
      "metadata": {
        "id": "fOK-oaG1ewOS"
      },
      "execution_count": 105,
      "outputs": []
    },
    {
      "cell_type": "code",
      "source": [
        "draw_dot(o)"
      ],
      "metadata": {
        "colab": {
          "base_uri": "https://localhost:8080/",
          "height": 321
        },
        "id": "dXHPeVI3gkJh",
        "outputId": "fe42a2cd-1c97-40ac-cd12-50fb651e944a"
      },
      "execution_count": 106,
      "outputs": [
        {
          "output_type": "execute_result",
          "data": {
            "image/svg+xml": "<?xml version=\"1.0\" encoding=\"UTF-8\" standalone=\"no\"?>\n<!DOCTYPE svg PUBLIC \"-//W3C//DTD SVG 1.1//EN\"\n \"http://www.w3.org/Graphics/SVG/1.1/DTD/svg11.dtd\">\n<!-- Generated by graphviz version 2.43.0 (0)\n -->\n<!-- Title: %3 Pages: 1 -->\n<svg width=\"1569pt\" height=\"210pt\"\n viewBox=\"0.00 0.00 1569.00 210.00\" xmlns=\"http://www.w3.org/2000/svg\" xmlns:xlink=\"http://www.w3.org/1999/xlink\">\n<g id=\"graph0\" class=\"graph\" transform=\"scale(1 1) rotate(0) translate(4 206)\">\n<title>%3</title>\n<polygon fill=\"white\" stroke=\"transparent\" points=\"-4,4 -4,-206 1565,-206 1565,4 -4,4\"/>\n<!-- 132279498614784 -->\n<g id=\"node1\" class=\"node\">\n<title>132279498614784</title>\n<polygon fill=\"none\" stroke=\"black\" points=\"1065,-54.5 1065,-90.5 1250,-90.5 1250,-54.5 1065,-54.5\"/>\n<text text-anchor=\"middle\" x=\"1076.5\" y=\"-68.8\" font-family=\"Times,serif\" font-size=\"14.00\">n</text>\n<polyline fill=\"none\" stroke=\"black\" points=\"1088,-54.5 1088,-90.5 \"/>\n<text text-anchor=\"middle\" x=\"1128\" y=\"-68.8\" font-family=\"Times,serif\" font-size=\"14.00\">data 0.8814</text>\n<polyline fill=\"none\" stroke=\"black\" points=\"1168,-54.5 1168,-90.5 \"/>\n<text text-anchor=\"middle\" x=\"1209\" y=\"-68.8\" font-family=\"Times,serif\" font-size=\"14.00\">grad 0.0000</text>\n</g>\n<!-- 132279498615744tanh -->\n<g id=\"node15\" class=\"node\">\n<title>132279498615744tanh</title>\n<ellipse fill=\"none\" stroke=\"black\" cx=\"1313\" cy=\"-72.5\" rx=\"27\" ry=\"18\"/>\n<text text-anchor=\"middle\" x=\"1313\" y=\"-68.8\" font-family=\"Times,serif\" font-size=\"14.00\">tanh</text>\n</g>\n<!-- 132279498614784&#45;&gt;132279498615744tanh -->\n<g id=\"edge13\" class=\"edge\">\n<title>132279498614784&#45;&gt;132279498615744tanh</title>\n<path fill=\"none\" stroke=\"black\" d=\"M1250.01,-72.5C1259.01,-72.5 1267.74,-72.5 1275.66,-72.5\"/>\n<polygon fill=\"black\" stroke=\"black\" points=\"1275.91,-76 1285.91,-72.5 1275.91,-69 1275.91,-76\"/>\n</g>\n<!-- 132279498614784+ -->\n<g id=\"node2\" class=\"node\">\n<title>132279498614784+</title>\n<ellipse fill=\"none\" stroke=\"black\" cx=\"1002\" cy=\"-72.5\" rx=\"27\" ry=\"18\"/>\n<text text-anchor=\"middle\" x=\"1002\" y=\"-68.8\" font-family=\"Times,serif\" font-size=\"14.00\">+</text>\n</g>\n<!-- 132279498614784+&#45;&gt;132279498614784 -->\n<g id=\"edge1\" class=\"edge\">\n<title>132279498614784+&#45;&gt;132279498614784</title>\n<path fill=\"none\" stroke=\"black\" d=\"M1029.04,-72.5C1036.58,-72.5 1045.3,-72.5 1054.57,-72.5\"/>\n<polygon fill=\"black\" stroke=\"black\" points=\"1054.81,-76 1064.81,-72.5 1054.81,-69 1054.81,-76\"/>\n</g>\n<!-- 132279498618912 -->\n<g id=\"node3\" class=\"node\">\n<title>132279498618912</title>\n<polygon fill=\"none\" stroke=\"black\" points=\"666,-82.5 666,-118.5 939,-118.5 939,-82.5 666,-82.5\"/>\n<text text-anchor=\"middle\" x=\"719\" y=\"-96.8\" font-family=\"Times,serif\" font-size=\"14.00\">x1*w1 + x2*w2</text>\n<polyline fill=\"none\" stroke=\"black\" points=\"772,-82.5 772,-118.5 \"/>\n<text text-anchor=\"middle\" x=\"814.5\" y=\"-96.8\" font-family=\"Times,serif\" font-size=\"14.00\">data &#45;6.0000</text>\n<polyline fill=\"none\" stroke=\"black\" points=\"857,-82.5 857,-118.5 \"/>\n<text text-anchor=\"middle\" x=\"898\" y=\"-96.8\" font-family=\"Times,serif\" font-size=\"14.00\">grad 0.0000</text>\n</g>\n<!-- 132279498618912&#45;&gt;132279498614784+ -->\n<g id=\"edge12\" class=\"edge\">\n<title>132279498618912&#45;&gt;132279498614784+</title>\n<path fill=\"none\" stroke=\"black\" d=\"M930.53,-82.49C943.09,-80.71 954.99,-79.02 965.3,-77.56\"/>\n<polygon fill=\"black\" stroke=\"black\" points=\"966.03,-80.99 975.44,-76.12 965.05,-74.06 966.03,-80.99\"/>\n</g>\n<!-- 132279498618912+ -->\n<g id=\"node4\" class=\"node\">\n<title>132279498618912+</title>\n<ellipse fill=\"none\" stroke=\"black\" cx=\"603\" cy=\"-100.5\" rx=\"27\" ry=\"18\"/>\n<text text-anchor=\"middle\" x=\"603\" y=\"-96.8\" font-family=\"Times,serif\" font-size=\"14.00\">+</text>\n</g>\n<!-- 132279498618912+&#45;&gt;132279498618912 -->\n<g id=\"edge2\" class=\"edge\">\n<title>132279498618912+&#45;&gt;132279498618912</title>\n<path fill=\"none\" stroke=\"black\" d=\"M630.23,-100.5C637.7,-100.5 646.41,-100.5 655.87,-100.5\"/>\n<polygon fill=\"black\" stroke=\"black\" points=\"655.98,-104 665.98,-100.5 655.98,-97 655.98,-104\"/>\n</g>\n<!-- 132279498608160 -->\n<g id=\"node5\" class=\"node\">\n<title>132279498608160</title>\n<polygon fill=\"none\" stroke=\"black\" points=\"0,-165.5 0,-201.5 200,-201.5 200,-165.5 0,-165.5\"/>\n<text text-anchor=\"middle\" x=\"16.5\" y=\"-179.8\" font-family=\"Times,serif\" font-size=\"14.00\">w1</text>\n<polyline fill=\"none\" stroke=\"black\" points=\"33,-165.5 33,-201.5 \"/>\n<text text-anchor=\"middle\" x=\"75.5\" y=\"-179.8\" font-family=\"Times,serif\" font-size=\"14.00\">data &#45;3.0000</text>\n<polyline fill=\"none\" stroke=\"black\" points=\"118,-165.5 118,-201.5 \"/>\n<text text-anchor=\"middle\" x=\"159\" y=\"-179.8\" font-family=\"Times,serif\" font-size=\"14.00\">grad 0.0000</text>\n</g>\n<!-- 132279498607920* -->\n<g id=\"node8\" class=\"node\">\n<title>132279498607920*</title>\n<ellipse fill=\"none\" stroke=\"black\" cx=\"263\" cy=\"-128.5\" rx=\"27\" ry=\"18\"/>\n<text text-anchor=\"middle\" x=\"263\" y=\"-124.8\" font-family=\"Times,serif\" font-size=\"14.00\">*</text>\n</g>\n<!-- 132279498608160&#45;&gt;132279498607920* -->\n<g id=\"edge8\" class=\"edge\">\n<title>132279498608160&#45;&gt;132279498607920*</title>\n<path fill=\"none\" stroke=\"black\" d=\"M172.53,-165.44C181.84,-162.67 191.2,-159.67 200,-156.5 210.53,-152.71 221.75,-147.9 231.72,-143.33\"/>\n<polygon fill=\"black\" stroke=\"black\" points=\"233.25,-146.48 240.82,-139.07 230.28,-140.14 233.25,-146.48\"/>\n</g>\n<!-- 132279498610464 -->\n<g id=\"node6\" class=\"node\">\n<title>132279498610464</title>\n<polygon fill=\"none\" stroke=\"black\" points=\"4,-55.5 4,-91.5 196,-91.5 196,-55.5 4,-55.5\"/>\n<text text-anchor=\"middle\" x=\"19\" y=\"-69.8\" font-family=\"Times,serif\" font-size=\"14.00\">x2</text>\n<polyline fill=\"none\" stroke=\"black\" points=\"34,-55.5 34,-91.5 \"/>\n<text text-anchor=\"middle\" x=\"74\" y=\"-69.8\" font-family=\"Times,serif\" font-size=\"14.00\">data 0.0000</text>\n<polyline fill=\"none\" stroke=\"black\" points=\"114,-55.5 114,-91.5 \"/>\n<text text-anchor=\"middle\" x=\"155\" y=\"-69.8\" font-family=\"Times,serif\" font-size=\"14.00\">grad 0.0000</text>\n</g>\n<!-- 132279498614640* -->\n<g id=\"node12\" class=\"node\">\n<title>132279498614640*</title>\n<ellipse fill=\"none\" stroke=\"black\" cx=\"263\" cy=\"-73.5\" rx=\"27\" ry=\"18\"/>\n<text text-anchor=\"middle\" x=\"263\" y=\"-69.8\" font-family=\"Times,serif\" font-size=\"14.00\">*</text>\n</g>\n<!-- 132279498610464&#45;&gt;132279498614640* -->\n<g id=\"edge9\" class=\"edge\">\n<title>132279498610464&#45;&gt;132279498614640*</title>\n<path fill=\"none\" stroke=\"black\" d=\"M196.05,-73.5C206.52,-73.5 216.65,-73.5 225.71,-73.5\"/>\n<polygon fill=\"black\" stroke=\"black\" points=\"225.79,-77 235.79,-73.5 225.79,-70 225.79,-77\"/>\n</g>\n<!-- 132279498607920 -->\n<g id=\"node7\" class=\"node\">\n<title>132279498607920</title>\n<polygon fill=\"none\" stroke=\"black\" points=\"326,-110.5 326,-146.5 540,-146.5 540,-110.5 326,-110.5\"/>\n<text text-anchor=\"middle\" x=\"349.5\" y=\"-124.8\" font-family=\"Times,serif\" font-size=\"14.00\">x1w1</text>\n<polyline fill=\"none\" stroke=\"black\" points=\"373,-110.5 373,-146.5 \"/>\n<text text-anchor=\"middle\" x=\"415.5\" y=\"-124.8\" font-family=\"Times,serif\" font-size=\"14.00\">data &#45;6.0000</text>\n<polyline fill=\"none\" stroke=\"black\" points=\"458,-110.5 458,-146.5 \"/>\n<text text-anchor=\"middle\" x=\"499\" y=\"-124.8\" font-family=\"Times,serif\" font-size=\"14.00\">grad 0.0000</text>\n</g>\n<!-- 132279498607920&#45;&gt;132279498618912+ -->\n<g id=\"edge7\" class=\"edge\">\n<title>132279498607920&#45;&gt;132279498618912+</title>\n<path fill=\"none\" stroke=\"black\" d=\"M540.4,-110.77C549.72,-109.21 558.65,-107.72 566.68,-106.39\"/>\n<polygon fill=\"black\" stroke=\"black\" points=\"567.38,-109.82 576.66,-104.72 566.22,-102.91 567.38,-109.82\"/>\n</g>\n<!-- 132279498607920*&#45;&gt;132279498607920 -->\n<g id=\"edge3\" class=\"edge\">\n<title>132279498607920*&#45;&gt;132279498607920</title>\n<path fill=\"none\" stroke=\"black\" d=\"M290.25,-128.5C297.7,-128.5 306.34,-128.5 315.59,-128.5\"/>\n<polygon fill=\"black\" stroke=\"black\" points=\"315.84,-132 325.84,-128.5 315.84,-125 315.84,-132\"/>\n</g>\n<!-- 132279498608064 -->\n<g id=\"node9\" class=\"node\">\n<title>132279498608064</title>\n<polygon fill=\"none\" stroke=\"black\" points=\"2.5,-0.5 2.5,-36.5 197.5,-36.5 197.5,-0.5 2.5,-0.5\"/>\n<text text-anchor=\"middle\" x=\"19\" y=\"-14.8\" font-family=\"Times,serif\" font-size=\"14.00\">w2</text>\n<polyline fill=\"none\" stroke=\"black\" points=\"35.5,-0.5 35.5,-36.5 \"/>\n<text text-anchor=\"middle\" x=\"75.5\" y=\"-14.8\" font-family=\"Times,serif\" font-size=\"14.00\">data 1.0000</text>\n<polyline fill=\"none\" stroke=\"black\" points=\"115.5,-0.5 115.5,-36.5 \"/>\n<text text-anchor=\"middle\" x=\"156.5\" y=\"-14.8\" font-family=\"Times,serif\" font-size=\"14.00\">grad 0.0000</text>\n</g>\n<!-- 132279498608064&#45;&gt;132279498614640* -->\n<g id=\"edge11\" class=\"edge\">\n<title>132279498608064&#45;&gt;132279498614640*</title>\n<path fill=\"none\" stroke=\"black\" d=\"M172.53,-36.56C181.84,-39.33 191.2,-42.33 200,-45.5 210.53,-49.29 221.75,-54.1 231.72,-58.67\"/>\n<polygon fill=\"black\" stroke=\"black\" points=\"230.28,-61.86 240.82,-62.93 233.25,-55.52 230.28,-61.86\"/>\n</g>\n<!-- 132279498607968 -->\n<g id=\"node10\" class=\"node\">\n<title>132279498607968</title>\n<polygon fill=\"none\" stroke=\"black\" points=\"4,-110.5 4,-146.5 196,-146.5 196,-110.5 4,-110.5\"/>\n<text text-anchor=\"middle\" x=\"19\" y=\"-124.8\" font-family=\"Times,serif\" font-size=\"14.00\">x1</text>\n<polyline fill=\"none\" stroke=\"black\" points=\"34,-110.5 34,-146.5 \"/>\n<text text-anchor=\"middle\" x=\"74\" y=\"-124.8\" font-family=\"Times,serif\" font-size=\"14.00\">data 2.0000</text>\n<polyline fill=\"none\" stroke=\"black\" points=\"114,-110.5 114,-146.5 \"/>\n<text text-anchor=\"middle\" x=\"155\" y=\"-124.8\" font-family=\"Times,serif\" font-size=\"14.00\">grad 0.0000</text>\n</g>\n<!-- 132279498607968&#45;&gt;132279498607920* -->\n<g id=\"edge6\" class=\"edge\">\n<title>132279498607968&#45;&gt;132279498607920*</title>\n<path fill=\"none\" stroke=\"black\" d=\"M196.05,-128.5C206.52,-128.5 216.65,-128.5 225.71,-128.5\"/>\n<polygon fill=\"black\" stroke=\"black\" points=\"225.79,-132 235.79,-128.5 225.79,-125 225.79,-132\"/>\n</g>\n<!-- 132279498614640 -->\n<g id=\"node11\" class=\"node\">\n<title>132279498614640</title>\n<polygon fill=\"none\" stroke=\"black\" points=\"328.5,-55.5 328.5,-91.5 537.5,-91.5 537.5,-55.5 328.5,-55.5\"/>\n<text text-anchor=\"middle\" x=\"352\" y=\"-69.8\" font-family=\"Times,serif\" font-size=\"14.00\">x2w2</text>\n<polyline fill=\"none\" stroke=\"black\" points=\"375.5,-55.5 375.5,-91.5 \"/>\n<text text-anchor=\"middle\" x=\"415.5\" y=\"-69.8\" font-family=\"Times,serif\" font-size=\"14.00\">data 0.0000</text>\n<polyline fill=\"none\" stroke=\"black\" points=\"455.5,-55.5 455.5,-91.5 \"/>\n<text text-anchor=\"middle\" x=\"496.5\" y=\"-69.8\" font-family=\"Times,serif\" font-size=\"14.00\">grad 0.0000</text>\n</g>\n<!-- 132279498614640&#45;&gt;132279498618912+ -->\n<g id=\"edge10\" class=\"edge\">\n<title>132279498614640&#45;&gt;132279498618912+</title>\n<path fill=\"none\" stroke=\"black\" d=\"M537.53,-90.14C547.8,-91.79 557.66,-93.37 566.45,-94.79\"/>\n<polygon fill=\"black\" stroke=\"black\" points=\"566.16,-98.28 576.59,-96.42 567.27,-91.37 566.16,-98.28\"/>\n</g>\n<!-- 132279498614640*&#45;&gt;132279498614640 -->\n<g id=\"edge4\" class=\"edge\">\n<title>132279498614640*&#45;&gt;132279498614640</title>\n<path fill=\"none\" stroke=\"black\" d=\"M290.25,-73.5C298.43,-73.5 308.03,-73.5 318.31,-73.5\"/>\n<polygon fill=\"black\" stroke=\"black\" points=\"318.35,-77 328.35,-73.5 318.35,-70 318.35,-77\"/>\n</g>\n<!-- 132279498610608 -->\n<g id=\"node13\" class=\"node\">\n<title>132279498610608</title>\n<polygon fill=\"none\" stroke=\"black\" points=\"710,-27.5 710,-63.5 895,-63.5 895,-27.5 710,-27.5\"/>\n<text text-anchor=\"middle\" x=\"721.5\" y=\"-41.8\" font-family=\"Times,serif\" font-size=\"14.00\">b</text>\n<polyline fill=\"none\" stroke=\"black\" points=\"733,-27.5 733,-63.5 \"/>\n<text text-anchor=\"middle\" x=\"773\" y=\"-41.8\" font-family=\"Times,serif\" font-size=\"14.00\">data 6.8814</text>\n<polyline fill=\"none\" stroke=\"black\" points=\"813,-27.5 813,-63.5 \"/>\n<text text-anchor=\"middle\" x=\"854\" y=\"-41.8\" font-family=\"Times,serif\" font-size=\"14.00\">grad 0.0000</text>\n</g>\n<!-- 132279498610608&#45;&gt;132279498614784+ -->\n<g id=\"edge14\" class=\"edge\">\n<title>132279498610608&#45;&gt;132279498614784+</title>\n<path fill=\"none\" stroke=\"black\" d=\"M895.02,-58.01C920,-61.43 945.59,-64.93 965.37,-67.63\"/>\n<polygon fill=\"black\" stroke=\"black\" points=\"965.05,-71.12 975.43,-69.01 966,-64.18 965.05,-71.12\"/>\n</g>\n<!-- 132279498615744 -->\n<g id=\"node14\" class=\"node\">\n<title>132279498615744</title>\n<polygon fill=\"none\" stroke=\"black\" points=\"1376,-54.5 1376,-90.5 1561,-90.5 1561,-54.5 1376,-54.5\"/>\n<text text-anchor=\"middle\" x=\"1387.5\" y=\"-68.8\" font-family=\"Times,serif\" font-size=\"14.00\">o</text>\n<polyline fill=\"none\" stroke=\"black\" points=\"1399,-54.5 1399,-90.5 \"/>\n<text text-anchor=\"middle\" x=\"1439\" y=\"-68.8\" font-family=\"Times,serif\" font-size=\"14.00\">data 0.7071</text>\n<polyline fill=\"none\" stroke=\"black\" points=\"1479,-54.5 1479,-90.5 \"/>\n<text text-anchor=\"middle\" x=\"1520\" y=\"-68.8\" font-family=\"Times,serif\" font-size=\"14.00\">grad 0.0000</text>\n</g>\n<!-- 132279498615744tanh&#45;&gt;132279498615744 -->\n<g id=\"edge5\" class=\"edge\">\n<title>132279498615744tanh&#45;&gt;132279498615744</title>\n<path fill=\"none\" stroke=\"black\" d=\"M1340.04,-72.5C1347.58,-72.5 1356.3,-72.5 1365.57,-72.5\"/>\n<polygon fill=\"black\" stroke=\"black\" points=\"1365.81,-76 1375.81,-72.5 1365.81,-69 1365.81,-76\"/>\n</g>\n</g>\n</svg>\n",
            "text/plain": [
              "<graphviz.graphs.Digraph at 0x784eb88698d0>"
            ]
          },
          "metadata": {},
          "execution_count": 106
        }
      ]
    },
    {
      "cell_type": "markdown",
      "source": [
        "how we just built a single neuron and going to manually feed and set the backpropagation.\n"
      ],
      "metadata": {
        "id": "NtMz3QKGkAfk"
      }
    },
    {
      "cell_type": "code",
      "source": [
        "o.grad = 1.0\n",
        "# do/dn = 1 - tanh**2 = 1 - o**2 ; the equation is from wikipedia\n",
        "n.grad = 0.5\n",
        "\n",
        "b.grad = 0.5\n",
        "x1w1x2w2.grad = 0.5\n",
        "\n",
        "x1w1.grad = 0.5\n",
        "x2w2.grad = 0.5\n",
        "\n",
        "x2.grad = w2.data * x2w2.grad\n",
        "w2.grad = x2.data * x2w2.grad\n",
        "\n",
        "x1.grad = w1.data * x1w1.grad\n",
        "w1.grad = x1.data * x1w1.grad"
      ],
      "metadata": {
        "id": "fQb6wh7gg-Z2"
      },
      "execution_count": 107,
      "outputs": []
    },
    {
      "cell_type": "markdown",
      "source": [
        "## implementing the backward function for each operation"
      ],
      "metadata": {
        "id": "OCTI-WWGm5Ih"
      }
    },
    {
      "cell_type": "markdown",
      "source": [
        "implemented the logic to perform the manual backpropagation to the **Value** class in a code and run the _backward() function to set the gradient now."
      ],
      "metadata": {
        "id": "Sr2ZgVh2qQ3S"
      }
    },
    {
      "cell_type": "code",
      "source": [
        "o.grad = 1.0"
      ],
      "metadata": {
        "id": "vxY-Uzjupbn5"
      },
      "execution_count": 108,
      "outputs": []
    },
    {
      "cell_type": "code",
      "source": [
        "o._backward()\n",
        "n._backward()\n",
        "b._backward()\n",
        "x1w1x2w2._backward()\n",
        "x1w1._backward()\n",
        "x2w2._backward()"
      ],
      "metadata": {
        "id": "iyUkIf65kM1i"
      },
      "execution_count": 109,
      "outputs": []
    },
    {
      "cell_type": "markdown",
      "source": [
        "## implementing the backward function for a whole expression gpaph"
      ],
      "metadata": {
        "id": "MFEw86Nzrxya"
      }
    },
    {
      "cell_type": "markdown",
      "source": [
        "the backward fucntion need to be called from the root node and then the childrens follow.\n",
        "\n",
        "to perform the backward function this order, he implements topological sort, set base case, and call the function with root node."
      ],
      "metadata": {
        "id": "LE5h-4-er4uA"
      }
    },
    {
      "cell_type": "code",
      "source": [
        "o.grad = 1.0\n",
        "\n",
        "topo = []\n",
        "visited = set()\n",
        "def build_topo(v):\n",
        "  if v not in visited:\n",
        "    visited.add(v)\n",
        "  for child in v._prev:\n",
        "    build_topo(child)\n",
        "  topo.append(v)\n",
        "\n",
        "build_topo(o)\n",
        "\n",
        "for node in reversed(topo):\n",
        "  node._backward()"
      ],
      "metadata": {
        "id": "KBGC1gfEppU5"
      },
      "execution_count": 110,
      "outputs": []
    },
    {
      "cell_type": "code",
      "source": [
        "draw_dot(o)"
      ],
      "metadata": {
        "colab": {
          "base_uri": "https://localhost:8080/",
          "height": 321
        },
        "id": "JO-x5lMUsvkw",
        "outputId": "148401f0-9c65-4578-a175-7d1664845e64"
      },
      "execution_count": 111,
      "outputs": [
        {
          "output_type": "execute_result",
          "data": {
            "image/svg+xml": "<?xml version=\"1.0\" encoding=\"UTF-8\" standalone=\"no\"?>\n<!DOCTYPE svg PUBLIC \"-//W3C//DTD SVG 1.1//EN\"\n \"http://www.w3.org/Graphics/SVG/1.1/DTD/svg11.dtd\">\n<!-- Generated by graphviz version 2.43.0 (0)\n -->\n<!-- Title: %3 Pages: 1 -->\n<svg width=\"1576pt\" height=\"210pt\"\n viewBox=\"0.00 0.00 1576.00 210.00\" xmlns=\"http://www.w3.org/2000/svg\" xmlns:xlink=\"http://www.w3.org/1999/xlink\">\n<g id=\"graph0\" class=\"graph\" transform=\"scale(1 1) rotate(0) translate(4 206)\">\n<title>%3</title>\n<polygon fill=\"white\" stroke=\"transparent\" points=\"-4,4 -4,-206 1572,-206 1572,4 -4,4\"/>\n<!-- 132279498614784 -->\n<g id=\"node1\" class=\"node\">\n<title>132279498614784</title>\n<polygon fill=\"none\" stroke=\"black\" points=\"1072,-54.5 1072,-90.5 1257,-90.5 1257,-54.5 1072,-54.5\"/>\n<text text-anchor=\"middle\" x=\"1083.5\" y=\"-68.8\" font-family=\"Times,serif\" font-size=\"14.00\">n</text>\n<polyline fill=\"none\" stroke=\"black\" points=\"1095,-54.5 1095,-90.5 \"/>\n<text text-anchor=\"middle\" x=\"1135\" y=\"-68.8\" font-family=\"Times,serif\" font-size=\"14.00\">data 0.8814</text>\n<polyline fill=\"none\" stroke=\"black\" points=\"1175,-54.5 1175,-90.5 \"/>\n<text text-anchor=\"middle\" x=\"1216\" y=\"-68.8\" font-family=\"Times,serif\" font-size=\"14.00\">grad 1.5000</text>\n</g>\n<!-- 132279498615744tanh -->\n<g id=\"node15\" class=\"node\">\n<title>132279498615744tanh</title>\n<ellipse fill=\"none\" stroke=\"black\" cx=\"1320\" cy=\"-72.5\" rx=\"27\" ry=\"18\"/>\n<text text-anchor=\"middle\" x=\"1320\" y=\"-68.8\" font-family=\"Times,serif\" font-size=\"14.00\">tanh</text>\n</g>\n<!-- 132279498614784&#45;&gt;132279498615744tanh -->\n<g id=\"edge13\" class=\"edge\">\n<title>132279498614784&#45;&gt;132279498615744tanh</title>\n<path fill=\"none\" stroke=\"black\" d=\"M1257.01,-72.5C1266.01,-72.5 1274.74,-72.5 1282.66,-72.5\"/>\n<polygon fill=\"black\" stroke=\"black\" points=\"1282.91,-76 1292.91,-72.5 1282.91,-69 1282.91,-76\"/>\n</g>\n<!-- 132279498614784+ -->\n<g id=\"node2\" class=\"node\">\n<title>132279498614784+</title>\n<ellipse fill=\"none\" stroke=\"black\" cx=\"1009\" cy=\"-72.5\" rx=\"27\" ry=\"18\"/>\n<text text-anchor=\"middle\" x=\"1009\" y=\"-68.8\" font-family=\"Times,serif\" font-size=\"14.00\">+</text>\n</g>\n<!-- 132279498614784+&#45;&gt;132279498614784 -->\n<g id=\"edge1\" class=\"edge\">\n<title>132279498614784+&#45;&gt;132279498614784</title>\n<path fill=\"none\" stroke=\"black\" d=\"M1036.04,-72.5C1043.58,-72.5 1052.3,-72.5 1061.57,-72.5\"/>\n<polygon fill=\"black\" stroke=\"black\" points=\"1061.81,-76 1071.81,-72.5 1061.81,-69 1061.81,-76\"/>\n</g>\n<!-- 132279498618912 -->\n<g id=\"node3\" class=\"node\">\n<title>132279498618912</title>\n<polygon fill=\"none\" stroke=\"black\" points=\"673,-82.5 673,-118.5 946,-118.5 946,-82.5 673,-82.5\"/>\n<text text-anchor=\"middle\" x=\"726\" y=\"-96.8\" font-family=\"Times,serif\" font-size=\"14.00\">x1*w1 + x2*w2</text>\n<polyline fill=\"none\" stroke=\"black\" points=\"779,-82.5 779,-118.5 \"/>\n<text text-anchor=\"middle\" x=\"821.5\" y=\"-96.8\" font-family=\"Times,serif\" font-size=\"14.00\">data &#45;6.0000</text>\n<polyline fill=\"none\" stroke=\"black\" points=\"864,-82.5 864,-118.5 \"/>\n<text text-anchor=\"middle\" x=\"905\" y=\"-96.8\" font-family=\"Times,serif\" font-size=\"14.00\">grad 3.0000</text>\n</g>\n<!-- 132279498618912&#45;&gt;132279498614784+ -->\n<g id=\"edge12\" class=\"edge\">\n<title>132279498618912&#45;&gt;132279498614784+</title>\n<path fill=\"none\" stroke=\"black\" d=\"M937.53,-82.49C950.09,-80.71 961.99,-79.02 972.3,-77.56\"/>\n<polygon fill=\"black\" stroke=\"black\" points=\"973.03,-80.99 982.44,-76.12 972.05,-74.06 973.03,-80.99\"/>\n</g>\n<!-- 132279498618912+ -->\n<g id=\"node4\" class=\"node\">\n<title>132279498618912+</title>\n<ellipse fill=\"none\" stroke=\"black\" cx=\"610\" cy=\"-100.5\" rx=\"27\" ry=\"18\"/>\n<text text-anchor=\"middle\" x=\"610\" y=\"-96.8\" font-family=\"Times,serif\" font-size=\"14.00\">+</text>\n</g>\n<!-- 132279498618912+&#45;&gt;132279498618912 -->\n<g id=\"edge2\" class=\"edge\">\n<title>132279498618912+&#45;&gt;132279498618912</title>\n<path fill=\"none\" stroke=\"black\" d=\"M637.23,-100.5C644.7,-100.5 653.41,-100.5 662.87,-100.5\"/>\n<polygon fill=\"black\" stroke=\"black\" points=\"662.98,-104 672.98,-100.5 662.98,-97 662.98,-104\"/>\n</g>\n<!-- 132279498608160 -->\n<g id=\"node5\" class=\"node\">\n<title>132279498608160</title>\n<polygon fill=\"none\" stroke=\"black\" points=\"0,-165.5 0,-201.5 207,-201.5 207,-165.5 0,-165.5\"/>\n<text text-anchor=\"middle\" x=\"16.5\" y=\"-179.8\" font-family=\"Times,serif\" font-size=\"14.00\">w1</text>\n<polyline fill=\"none\" stroke=\"black\" points=\"33,-165.5 33,-201.5 \"/>\n<text text-anchor=\"middle\" x=\"75.5\" y=\"-179.8\" font-family=\"Times,serif\" font-size=\"14.00\">data &#45;3.0000</text>\n<polyline fill=\"none\" stroke=\"black\" points=\"118,-165.5 118,-201.5 \"/>\n<text text-anchor=\"middle\" x=\"162.5\" y=\"-179.8\" font-family=\"Times,serif\" font-size=\"14.00\">grad 15.0000</text>\n</g>\n<!-- 132279498607920* -->\n<g id=\"node8\" class=\"node\">\n<title>132279498607920*</title>\n<ellipse fill=\"none\" stroke=\"black\" cx=\"270\" cy=\"-128.5\" rx=\"27\" ry=\"18\"/>\n<text text-anchor=\"middle\" x=\"270\" y=\"-124.8\" font-family=\"Times,serif\" font-size=\"14.00\">*</text>\n</g>\n<!-- 132279498608160&#45;&gt;132279498607920* -->\n<g id=\"edge8\" class=\"edge\">\n<title>132279498608160&#45;&gt;132279498607920*</title>\n<path fill=\"none\" stroke=\"black\" d=\"M178.85,-165.48C188.4,-162.71 197.98,-159.7 207,-156.5 217.54,-152.76 228.77,-147.95 238.74,-143.38\"/>\n<polygon fill=\"black\" stroke=\"black\" points=\"240.27,-146.53 247.84,-139.11 237.3,-140.19 240.27,-146.53\"/>\n</g>\n<!-- 132279498610464 -->\n<g id=\"node6\" class=\"node\">\n<title>132279498610464</title>\n<polygon fill=\"none\" stroke=\"black\" points=\"7.5,-55.5 7.5,-91.5 199.5,-91.5 199.5,-55.5 7.5,-55.5\"/>\n<text text-anchor=\"middle\" x=\"22.5\" y=\"-69.8\" font-family=\"Times,serif\" font-size=\"14.00\">x2</text>\n<polyline fill=\"none\" stroke=\"black\" points=\"37.5,-55.5 37.5,-91.5 \"/>\n<text text-anchor=\"middle\" x=\"77.5\" y=\"-69.8\" font-family=\"Times,serif\" font-size=\"14.00\">data 0.0000</text>\n<polyline fill=\"none\" stroke=\"black\" points=\"117.5,-55.5 117.5,-91.5 \"/>\n<text text-anchor=\"middle\" x=\"158.5\" y=\"-69.8\" font-family=\"Times,serif\" font-size=\"14.00\">grad 7.5000</text>\n</g>\n<!-- 132279498614640* -->\n<g id=\"node12\" class=\"node\">\n<title>132279498614640*</title>\n<ellipse fill=\"none\" stroke=\"black\" cx=\"270\" cy=\"-73.5\" rx=\"27\" ry=\"18\"/>\n<text text-anchor=\"middle\" x=\"270\" y=\"-69.8\" font-family=\"Times,serif\" font-size=\"14.00\">*</text>\n</g>\n<!-- 132279498610464&#45;&gt;132279498614640* -->\n<g id=\"edge9\" class=\"edge\">\n<title>132279498610464&#45;&gt;132279498614640*</title>\n<path fill=\"none\" stroke=\"black\" d=\"M199.71,-73.5C211.3,-73.5 222.53,-73.5 232.46,-73.5\"/>\n<polygon fill=\"black\" stroke=\"black\" points=\"232.68,-77 242.68,-73.5 232.68,-70 232.68,-77\"/>\n</g>\n<!-- 132279498607920 -->\n<g id=\"node7\" class=\"node\">\n<title>132279498607920</title>\n<polygon fill=\"none\" stroke=\"black\" points=\"333,-110.5 333,-146.5 547,-146.5 547,-110.5 333,-110.5\"/>\n<text text-anchor=\"middle\" x=\"356.5\" y=\"-124.8\" font-family=\"Times,serif\" font-size=\"14.00\">x1w1</text>\n<polyline fill=\"none\" stroke=\"black\" points=\"380,-110.5 380,-146.5 \"/>\n<text text-anchor=\"middle\" x=\"422.5\" y=\"-124.8\" font-family=\"Times,serif\" font-size=\"14.00\">data &#45;6.0000</text>\n<polyline fill=\"none\" stroke=\"black\" points=\"465,-110.5 465,-146.5 \"/>\n<text text-anchor=\"middle\" x=\"506\" y=\"-124.8\" font-family=\"Times,serif\" font-size=\"14.00\">grad 5.0000</text>\n</g>\n<!-- 132279498607920&#45;&gt;132279498618912+ -->\n<g id=\"edge7\" class=\"edge\">\n<title>132279498607920&#45;&gt;132279498618912+</title>\n<path fill=\"none\" stroke=\"black\" d=\"M547.4,-110.77C556.72,-109.21 565.65,-107.72 573.68,-106.39\"/>\n<polygon fill=\"black\" stroke=\"black\" points=\"574.38,-109.82 583.66,-104.72 573.22,-102.91 574.38,-109.82\"/>\n</g>\n<!-- 132279498607920*&#45;&gt;132279498607920 -->\n<g id=\"edge3\" class=\"edge\">\n<title>132279498607920*&#45;&gt;132279498607920</title>\n<path fill=\"none\" stroke=\"black\" d=\"M297.25,-128.5C304.7,-128.5 313.34,-128.5 322.59,-128.5\"/>\n<polygon fill=\"black\" stroke=\"black\" points=\"322.84,-132 332.84,-128.5 322.84,-125 322.84,-132\"/>\n</g>\n<!-- 132279498608064 -->\n<g id=\"node9\" class=\"node\">\n<title>132279498608064</title>\n<polygon fill=\"none\" stroke=\"black\" points=\"6,-0.5 6,-36.5 201,-36.5 201,-0.5 6,-0.5\"/>\n<text text-anchor=\"middle\" x=\"22.5\" y=\"-14.8\" font-family=\"Times,serif\" font-size=\"14.00\">w2</text>\n<polyline fill=\"none\" stroke=\"black\" points=\"39,-0.5 39,-36.5 \"/>\n<text text-anchor=\"middle\" x=\"79\" y=\"-14.8\" font-family=\"Times,serif\" font-size=\"14.00\">data 1.0000</text>\n<polyline fill=\"none\" stroke=\"black\" points=\"119,-0.5 119,-36.5 \"/>\n<text text-anchor=\"middle\" x=\"160\" y=\"-14.8\" font-family=\"Times,serif\" font-size=\"14.00\">grad 0.0000</text>\n</g>\n<!-- 132279498608064&#45;&gt;132279498614640* -->\n<g id=\"edge11\" class=\"edge\">\n<title>132279498608064&#45;&gt;132279498614640*</title>\n<path fill=\"none\" stroke=\"black\" d=\"M178.85,-36.52C188.4,-39.29 197.98,-42.3 207,-45.5 217.54,-49.24 228.77,-54.05 238.74,-58.62\"/>\n<polygon fill=\"black\" stroke=\"black\" points=\"237.3,-61.81 247.84,-62.89 240.27,-55.47 237.3,-61.81\"/>\n</g>\n<!-- 132279498607968 -->\n<g id=\"node10\" class=\"node\">\n<title>132279498607968</title>\n<polygon fill=\"none\" stroke=\"black\" points=\"2,-110.5 2,-146.5 205,-146.5 205,-110.5 2,-110.5\"/>\n<text text-anchor=\"middle\" x=\"17\" y=\"-124.8\" font-family=\"Times,serif\" font-size=\"14.00\">x1</text>\n<polyline fill=\"none\" stroke=\"black\" points=\"32,-110.5 32,-146.5 \"/>\n<text text-anchor=\"middle\" x=\"72\" y=\"-124.8\" font-family=\"Times,serif\" font-size=\"14.00\">data 2.0000</text>\n<polyline fill=\"none\" stroke=\"black\" points=\"112,-110.5 112,-146.5 \"/>\n<text text-anchor=\"middle\" x=\"158.5\" y=\"-124.8\" font-family=\"Times,serif\" font-size=\"14.00\">grad &#45;22.5000</text>\n</g>\n<!-- 132279498607968&#45;&gt;132279498607920* -->\n<g id=\"edge6\" class=\"edge\">\n<title>132279498607968&#45;&gt;132279498607920*</title>\n<path fill=\"none\" stroke=\"black\" d=\"M205.4,-128.5C215.13,-128.5 224.49,-128.5 232.89,-128.5\"/>\n<polygon fill=\"black\" stroke=\"black\" points=\"232.99,-132 242.99,-128.5 232.99,-125 232.99,-132\"/>\n</g>\n<!-- 132279498614640 -->\n<g id=\"node11\" class=\"node\">\n<title>132279498614640</title>\n<polygon fill=\"none\" stroke=\"black\" points=\"335.5,-55.5 335.5,-91.5 544.5,-91.5 544.5,-55.5 335.5,-55.5\"/>\n<text text-anchor=\"middle\" x=\"359\" y=\"-69.8\" font-family=\"Times,serif\" font-size=\"14.00\">x2w2</text>\n<polyline fill=\"none\" stroke=\"black\" points=\"382.5,-55.5 382.5,-91.5 \"/>\n<text text-anchor=\"middle\" x=\"422.5\" y=\"-69.8\" font-family=\"Times,serif\" font-size=\"14.00\">data 0.0000</text>\n<polyline fill=\"none\" stroke=\"black\" points=\"462.5,-55.5 462.5,-91.5 \"/>\n<text text-anchor=\"middle\" x=\"503.5\" y=\"-69.8\" font-family=\"Times,serif\" font-size=\"14.00\">grad 5.0000</text>\n</g>\n<!-- 132279498614640&#45;&gt;132279498618912+ -->\n<g id=\"edge10\" class=\"edge\">\n<title>132279498614640&#45;&gt;132279498618912+</title>\n<path fill=\"none\" stroke=\"black\" d=\"M544.53,-90.14C554.8,-91.79 564.66,-93.37 573.45,-94.79\"/>\n<polygon fill=\"black\" stroke=\"black\" points=\"573.16,-98.28 583.59,-96.42 574.27,-91.37 573.16,-98.28\"/>\n</g>\n<!-- 132279498614640*&#45;&gt;132279498614640 -->\n<g id=\"edge4\" class=\"edge\">\n<title>132279498614640*&#45;&gt;132279498614640</title>\n<path fill=\"none\" stroke=\"black\" d=\"M297.25,-73.5C305.43,-73.5 315.03,-73.5 325.31,-73.5\"/>\n<polygon fill=\"black\" stroke=\"black\" points=\"325.35,-77 335.35,-73.5 325.35,-70 325.35,-77\"/>\n</g>\n<!-- 132279498610608 -->\n<g id=\"node13\" class=\"node\">\n<title>132279498610608</title>\n<polygon fill=\"none\" stroke=\"black\" points=\"717,-27.5 717,-63.5 902,-63.5 902,-27.5 717,-27.5\"/>\n<text text-anchor=\"middle\" x=\"728.5\" y=\"-41.8\" font-family=\"Times,serif\" font-size=\"14.00\">b</text>\n<polyline fill=\"none\" stroke=\"black\" points=\"740,-27.5 740,-63.5 \"/>\n<text text-anchor=\"middle\" x=\"780\" y=\"-41.8\" font-family=\"Times,serif\" font-size=\"14.00\">data 6.8814</text>\n<polyline fill=\"none\" stroke=\"black\" points=\"820,-27.5 820,-63.5 \"/>\n<text text-anchor=\"middle\" x=\"861\" y=\"-41.8\" font-family=\"Times,serif\" font-size=\"14.00\">grad 3.0000</text>\n</g>\n<!-- 132279498610608&#45;&gt;132279498614784+ -->\n<g id=\"edge14\" class=\"edge\">\n<title>132279498610608&#45;&gt;132279498614784+</title>\n<path fill=\"none\" stroke=\"black\" d=\"M902.02,-58.01C927,-61.43 952.59,-64.93 972.37,-67.63\"/>\n<polygon fill=\"black\" stroke=\"black\" points=\"972.05,-71.12 982.43,-69.01 973,-64.18 972.05,-71.12\"/>\n</g>\n<!-- 132279498615744 -->\n<g id=\"node14\" class=\"node\">\n<title>132279498615744</title>\n<polygon fill=\"none\" stroke=\"black\" points=\"1383,-54.5 1383,-90.5 1568,-90.5 1568,-54.5 1383,-54.5\"/>\n<text text-anchor=\"middle\" x=\"1394.5\" y=\"-68.8\" font-family=\"Times,serif\" font-size=\"14.00\">o</text>\n<polyline fill=\"none\" stroke=\"black\" points=\"1406,-54.5 1406,-90.5 \"/>\n<text text-anchor=\"middle\" x=\"1446\" y=\"-68.8\" font-family=\"Times,serif\" font-size=\"14.00\">data 0.7071</text>\n<polyline fill=\"none\" stroke=\"black\" points=\"1486,-54.5 1486,-90.5 \"/>\n<text text-anchor=\"middle\" x=\"1527\" y=\"-68.8\" font-family=\"Times,serif\" font-size=\"14.00\">grad 1.0000</text>\n</g>\n<!-- 132279498615744tanh&#45;&gt;132279498615744 -->\n<g id=\"edge5\" class=\"edge\">\n<title>132279498615744tanh&#45;&gt;132279498615744</title>\n<path fill=\"none\" stroke=\"black\" d=\"M1347.04,-72.5C1354.58,-72.5 1363.3,-72.5 1372.57,-72.5\"/>\n<polygon fill=\"black\" stroke=\"black\" points=\"1372.81,-76 1382.81,-72.5 1372.81,-69 1372.81,-76\"/>\n</g>\n</g>\n</svg>\n",
            "text/plain": [
              "<graphviz.graphs.Digraph at 0x784eb882d6f0>"
            ]
          },
          "metadata": {},
          "execution_count": 111
        }
      ]
    },
    {
      "cell_type": "code",
      "source": [
        "o.backward()"
      ],
      "metadata": {
        "id": "z-k5jojqs0J2"
      },
      "execution_count": 112,
      "outputs": []
    },
    {
      "cell_type": "code",
      "source": [
        "draw_dot(o)"
      ],
      "metadata": {
        "colab": {
          "base_uri": "https://localhost:8080/",
          "height": 321
        },
        "id": "FBEMVAvHtkrm",
        "outputId": "4f315592-5c40-4679-c8da-4b72cd852cbe"
      },
      "execution_count": 113,
      "outputs": [
        {
          "output_type": "execute_result",
          "data": {
            "image/svg+xml": "<?xml version=\"1.0\" encoding=\"UTF-8\" standalone=\"no\"?>\n<!DOCTYPE svg PUBLIC \"-//W3C//DTD SVG 1.1//EN\"\n \"http://www.w3.org/Graphics/SVG/1.1/DTD/svg11.dtd\">\n<!-- Generated by graphviz version 2.43.0 (0)\n -->\n<!-- Title: %3 Pages: 1 -->\n<svg width=\"1583pt\" height=\"210pt\"\n viewBox=\"0.00 0.00 1583.00 210.00\" xmlns=\"http://www.w3.org/2000/svg\" xmlns:xlink=\"http://www.w3.org/1999/xlink\">\n<g id=\"graph0\" class=\"graph\" transform=\"scale(1 1) rotate(0) translate(4 206)\">\n<title>%3</title>\n<polygon fill=\"white\" stroke=\"transparent\" points=\"-4,4 -4,-206 1579,-206 1579,4 -4,4\"/>\n<!-- 132279498614784 -->\n<g id=\"node1\" class=\"node\">\n<title>132279498614784</title>\n<polygon fill=\"none\" stroke=\"black\" points=\"1079,-54.5 1079,-90.5 1264,-90.5 1264,-54.5 1079,-54.5\"/>\n<text text-anchor=\"middle\" x=\"1090.5\" y=\"-68.8\" font-family=\"Times,serif\" font-size=\"14.00\">n</text>\n<polyline fill=\"none\" stroke=\"black\" points=\"1102,-54.5 1102,-90.5 \"/>\n<text text-anchor=\"middle\" x=\"1142\" y=\"-68.8\" font-family=\"Times,serif\" font-size=\"14.00\">data 0.8814</text>\n<polyline fill=\"none\" stroke=\"black\" points=\"1182,-54.5 1182,-90.5 \"/>\n<text text-anchor=\"middle\" x=\"1223\" y=\"-68.8\" font-family=\"Times,serif\" font-size=\"14.00\">grad 2.0000</text>\n</g>\n<!-- 132279498615744tanh -->\n<g id=\"node15\" class=\"node\">\n<title>132279498615744tanh</title>\n<ellipse fill=\"none\" stroke=\"black\" cx=\"1327\" cy=\"-72.5\" rx=\"27\" ry=\"18\"/>\n<text text-anchor=\"middle\" x=\"1327\" y=\"-68.8\" font-family=\"Times,serif\" font-size=\"14.00\">tanh</text>\n</g>\n<!-- 132279498614784&#45;&gt;132279498615744tanh -->\n<g id=\"edge13\" class=\"edge\">\n<title>132279498614784&#45;&gt;132279498615744tanh</title>\n<path fill=\"none\" stroke=\"black\" d=\"M1264.01,-72.5C1273.01,-72.5 1281.74,-72.5 1289.66,-72.5\"/>\n<polygon fill=\"black\" stroke=\"black\" points=\"1289.91,-76 1299.91,-72.5 1289.91,-69 1289.91,-76\"/>\n</g>\n<!-- 132279498614784+ -->\n<g id=\"node2\" class=\"node\">\n<title>132279498614784+</title>\n<ellipse fill=\"none\" stroke=\"black\" cx=\"1016\" cy=\"-72.5\" rx=\"27\" ry=\"18\"/>\n<text text-anchor=\"middle\" x=\"1016\" y=\"-68.8\" font-family=\"Times,serif\" font-size=\"14.00\">+</text>\n</g>\n<!-- 132279498614784+&#45;&gt;132279498614784 -->\n<g id=\"edge1\" class=\"edge\">\n<title>132279498614784+&#45;&gt;132279498614784</title>\n<path fill=\"none\" stroke=\"black\" d=\"M1043.04,-72.5C1050.58,-72.5 1059.3,-72.5 1068.57,-72.5\"/>\n<polygon fill=\"black\" stroke=\"black\" points=\"1068.81,-76 1078.81,-72.5 1068.81,-69 1068.81,-76\"/>\n</g>\n<!-- 132279498618912 -->\n<g id=\"node3\" class=\"node\">\n<title>132279498618912</title>\n<polygon fill=\"none\" stroke=\"black\" points=\"680,-82.5 680,-118.5 953,-118.5 953,-82.5 680,-82.5\"/>\n<text text-anchor=\"middle\" x=\"733\" y=\"-96.8\" font-family=\"Times,serif\" font-size=\"14.00\">x1*w1 + x2*w2</text>\n<polyline fill=\"none\" stroke=\"black\" points=\"786,-82.5 786,-118.5 \"/>\n<text text-anchor=\"middle\" x=\"828.5\" y=\"-96.8\" font-family=\"Times,serif\" font-size=\"14.00\">data &#45;6.0000</text>\n<polyline fill=\"none\" stroke=\"black\" points=\"871,-82.5 871,-118.5 \"/>\n<text text-anchor=\"middle\" x=\"912\" y=\"-96.8\" font-family=\"Times,serif\" font-size=\"14.00\">grad 5.0000</text>\n</g>\n<!-- 132279498618912&#45;&gt;132279498614784+ -->\n<g id=\"edge12\" class=\"edge\">\n<title>132279498618912&#45;&gt;132279498614784+</title>\n<path fill=\"none\" stroke=\"black\" d=\"M944.53,-82.49C957.09,-80.71 968.99,-79.02 979.3,-77.56\"/>\n<polygon fill=\"black\" stroke=\"black\" points=\"980.03,-80.99 989.44,-76.12 979.05,-74.06 980.03,-80.99\"/>\n</g>\n<!-- 132279498618912+ -->\n<g id=\"node4\" class=\"node\">\n<title>132279498618912+</title>\n<ellipse fill=\"none\" stroke=\"black\" cx=\"617\" cy=\"-100.5\" rx=\"27\" ry=\"18\"/>\n<text text-anchor=\"middle\" x=\"617\" y=\"-96.8\" font-family=\"Times,serif\" font-size=\"14.00\">+</text>\n</g>\n<!-- 132279498618912+&#45;&gt;132279498618912 -->\n<g id=\"edge2\" class=\"edge\">\n<title>132279498618912+&#45;&gt;132279498618912</title>\n<path fill=\"none\" stroke=\"black\" d=\"M644.23,-100.5C651.7,-100.5 660.41,-100.5 669.87,-100.5\"/>\n<polygon fill=\"black\" stroke=\"black\" points=\"669.98,-104 679.98,-100.5 669.98,-97 669.98,-104\"/>\n</g>\n<!-- 132279498608160 -->\n<g id=\"node5\" class=\"node\">\n<title>132279498608160</title>\n<polygon fill=\"none\" stroke=\"black\" points=\"0,-165.5 0,-201.5 207,-201.5 207,-165.5 0,-165.5\"/>\n<text text-anchor=\"middle\" x=\"16.5\" y=\"-179.8\" font-family=\"Times,serif\" font-size=\"14.00\">w1</text>\n<polyline fill=\"none\" stroke=\"black\" points=\"33,-165.5 33,-201.5 \"/>\n<text text-anchor=\"middle\" x=\"75.5\" y=\"-179.8\" font-family=\"Times,serif\" font-size=\"14.00\">data &#45;3.0000</text>\n<polyline fill=\"none\" stroke=\"black\" points=\"118,-165.5 118,-201.5 \"/>\n<text text-anchor=\"middle\" x=\"162.5\" y=\"-179.8\" font-family=\"Times,serif\" font-size=\"14.00\">grad 35.0000</text>\n</g>\n<!-- 132279498607920* -->\n<g id=\"node8\" class=\"node\">\n<title>132279498607920*</title>\n<ellipse fill=\"none\" stroke=\"black\" cx=\"270\" cy=\"-128.5\" rx=\"27\" ry=\"18\"/>\n<text text-anchor=\"middle\" x=\"270\" y=\"-124.8\" font-family=\"Times,serif\" font-size=\"14.00\">*</text>\n</g>\n<!-- 132279498608160&#45;&gt;132279498607920* -->\n<g id=\"edge8\" class=\"edge\">\n<title>132279498608160&#45;&gt;132279498607920*</title>\n<path fill=\"none\" stroke=\"black\" d=\"M178.85,-165.48C188.4,-162.71 197.98,-159.7 207,-156.5 217.54,-152.76 228.77,-147.95 238.74,-143.38\"/>\n<polygon fill=\"black\" stroke=\"black\" points=\"240.27,-146.53 247.84,-139.11 237.3,-140.19 240.27,-146.53\"/>\n</g>\n<!-- 132279498610464 -->\n<g id=\"node6\" class=\"node\">\n<title>132279498610464</title>\n<polygon fill=\"none\" stroke=\"black\" points=\"4,-55.5 4,-91.5 203,-91.5 203,-55.5 4,-55.5\"/>\n<text text-anchor=\"middle\" x=\"19\" y=\"-69.8\" font-family=\"Times,serif\" font-size=\"14.00\">x2</text>\n<polyline fill=\"none\" stroke=\"black\" points=\"34,-55.5 34,-91.5 \"/>\n<text text-anchor=\"middle\" x=\"74\" y=\"-69.8\" font-family=\"Times,serif\" font-size=\"14.00\">data 0.0000</text>\n<polyline fill=\"none\" stroke=\"black\" points=\"114,-55.5 114,-91.5 \"/>\n<text text-anchor=\"middle\" x=\"158.5\" y=\"-69.8\" font-family=\"Times,serif\" font-size=\"14.00\">grad 17.5000</text>\n</g>\n<!-- 132279498614640* -->\n<g id=\"node12\" class=\"node\">\n<title>132279498614640*</title>\n<ellipse fill=\"none\" stroke=\"black\" cx=\"270\" cy=\"-73.5\" rx=\"27\" ry=\"18\"/>\n<text text-anchor=\"middle\" x=\"270\" y=\"-69.8\" font-family=\"Times,serif\" font-size=\"14.00\">*</text>\n</g>\n<!-- 132279498610464&#45;&gt;132279498614640* -->\n<g id=\"edge9\" class=\"edge\">\n<title>132279498610464&#45;&gt;132279498614640*</title>\n<path fill=\"none\" stroke=\"black\" d=\"M203.04,-73.5C213.56,-73.5 223.72,-73.5 232.77,-73.5\"/>\n<polygon fill=\"black\" stroke=\"black\" points=\"232.86,-77 242.86,-73.5 232.86,-70 232.86,-77\"/>\n</g>\n<!-- 132279498607920 -->\n<g id=\"node7\" class=\"node\">\n<title>132279498607920</title>\n<polygon fill=\"none\" stroke=\"black\" points=\"333,-110.5 333,-146.5 554,-146.5 554,-110.5 333,-110.5\"/>\n<text text-anchor=\"middle\" x=\"356.5\" y=\"-124.8\" font-family=\"Times,serif\" font-size=\"14.00\">x1w1</text>\n<polyline fill=\"none\" stroke=\"black\" points=\"380,-110.5 380,-146.5 \"/>\n<text text-anchor=\"middle\" x=\"422.5\" y=\"-124.8\" font-family=\"Times,serif\" font-size=\"14.00\">data &#45;6.0000</text>\n<polyline fill=\"none\" stroke=\"black\" points=\"465,-110.5 465,-146.5 \"/>\n<text text-anchor=\"middle\" x=\"509.5\" y=\"-124.8\" font-family=\"Times,serif\" font-size=\"14.00\">grad 10.0000</text>\n</g>\n<!-- 132279498607920&#45;&gt;132279498618912+ -->\n<g id=\"edge7\" class=\"edge\">\n<title>132279498607920&#45;&gt;132279498618912+</title>\n<path fill=\"none\" stroke=\"black\" d=\"M554.08,-110.61C563.49,-109.07 572.48,-107.61 580.54,-106.29\"/>\n<polygon fill=\"black\" stroke=\"black\" points=\"581.27,-109.72 590.58,-104.65 580.15,-102.81 581.27,-109.72\"/>\n</g>\n<!-- 132279498607920*&#45;&gt;132279498607920 -->\n<g id=\"edge3\" class=\"edge\">\n<title>132279498607920*&#45;&gt;132279498607920</title>\n<path fill=\"none\" stroke=\"black\" d=\"M297.05,-128.5C304.48,-128.5 313.1,-128.5 322.36,-128.5\"/>\n<polygon fill=\"black\" stroke=\"black\" points=\"322.64,-132 332.64,-128.5 322.64,-125 322.64,-132\"/>\n</g>\n<!-- 132279498608064 -->\n<g id=\"node9\" class=\"node\">\n<title>132279498608064</title>\n<polygon fill=\"none\" stroke=\"black\" points=\"6,-0.5 6,-36.5 201,-36.5 201,-0.5 6,-0.5\"/>\n<text text-anchor=\"middle\" x=\"22.5\" y=\"-14.8\" font-family=\"Times,serif\" font-size=\"14.00\">w2</text>\n<polyline fill=\"none\" stroke=\"black\" points=\"39,-0.5 39,-36.5 \"/>\n<text text-anchor=\"middle\" x=\"79\" y=\"-14.8\" font-family=\"Times,serif\" font-size=\"14.00\">data 1.0000</text>\n<polyline fill=\"none\" stroke=\"black\" points=\"119,-0.5 119,-36.5 \"/>\n<text text-anchor=\"middle\" x=\"160\" y=\"-14.8\" font-family=\"Times,serif\" font-size=\"14.00\">grad 0.0000</text>\n</g>\n<!-- 132279498608064&#45;&gt;132279498614640* -->\n<g id=\"edge11\" class=\"edge\">\n<title>132279498608064&#45;&gt;132279498614640*</title>\n<path fill=\"none\" stroke=\"black\" d=\"M178.85,-36.52C188.4,-39.29 197.98,-42.3 207,-45.5 217.54,-49.24 228.77,-54.05 238.74,-58.62\"/>\n<polygon fill=\"black\" stroke=\"black\" points=\"237.3,-61.81 247.84,-62.89 240.27,-55.47 237.3,-61.81\"/>\n</g>\n<!-- 132279498607968 -->\n<g id=\"node10\" class=\"node\">\n<title>132279498607968</title>\n<polygon fill=\"none\" stroke=\"black\" points=\"2,-110.5 2,-146.5 205,-146.5 205,-110.5 2,-110.5\"/>\n<text text-anchor=\"middle\" x=\"17\" y=\"-124.8\" font-family=\"Times,serif\" font-size=\"14.00\">x1</text>\n<polyline fill=\"none\" stroke=\"black\" points=\"32,-110.5 32,-146.5 \"/>\n<text text-anchor=\"middle\" x=\"72\" y=\"-124.8\" font-family=\"Times,serif\" font-size=\"14.00\">data 2.0000</text>\n<polyline fill=\"none\" stroke=\"black\" points=\"112,-110.5 112,-146.5 \"/>\n<text text-anchor=\"middle\" x=\"158.5\" y=\"-124.8\" font-family=\"Times,serif\" font-size=\"14.00\">grad &#45;52.5000</text>\n</g>\n<!-- 132279498607968&#45;&gt;132279498607920* -->\n<g id=\"edge6\" class=\"edge\">\n<title>132279498607968&#45;&gt;132279498607920*</title>\n<path fill=\"none\" stroke=\"black\" d=\"M205.4,-128.5C215.13,-128.5 224.49,-128.5 232.89,-128.5\"/>\n<polygon fill=\"black\" stroke=\"black\" points=\"232.99,-132 242.99,-128.5 232.99,-125 232.99,-132\"/>\n</g>\n<!-- 132279498614640 -->\n<g id=\"node11\" class=\"node\">\n<title>132279498614640</title>\n<polygon fill=\"none\" stroke=\"black\" points=\"335.5,-55.5 335.5,-91.5 551.5,-91.5 551.5,-55.5 335.5,-55.5\"/>\n<text text-anchor=\"middle\" x=\"359\" y=\"-69.8\" font-family=\"Times,serif\" font-size=\"14.00\">x2w2</text>\n<polyline fill=\"none\" stroke=\"black\" points=\"382.5,-55.5 382.5,-91.5 \"/>\n<text text-anchor=\"middle\" x=\"422.5\" y=\"-69.8\" font-family=\"Times,serif\" font-size=\"14.00\">data 0.0000</text>\n<polyline fill=\"none\" stroke=\"black\" points=\"462.5,-55.5 462.5,-91.5 \"/>\n<text text-anchor=\"middle\" x=\"507\" y=\"-69.8\" font-family=\"Times,serif\" font-size=\"14.00\">grad 10.0000</text>\n</g>\n<!-- 132279498614640&#45;&gt;132279498618912+ -->\n<g id=\"edge10\" class=\"edge\">\n<title>132279498614640&#45;&gt;132279498618912+</title>\n<path fill=\"none\" stroke=\"black\" d=\"M551.65,-90.37C561.86,-91.98 571.63,-93.51 580.34,-94.89\"/>\n<polygon fill=\"black\" stroke=\"black\" points=\"579.97,-98.37 590.4,-96.47 581.06,-91.46 579.97,-98.37\"/>\n</g>\n<!-- 132279498614640*&#45;&gt;132279498614640 -->\n<g id=\"edge4\" class=\"edge\">\n<title>132279498614640*&#45;&gt;132279498614640</title>\n<path fill=\"none\" stroke=\"black\" d=\"M297.05,-73.5C305.21,-73.5 314.81,-73.5 325.12,-73.5\"/>\n<polygon fill=\"black\" stroke=\"black\" points=\"325.2,-77 335.2,-73.5 325.2,-70 325.2,-77\"/>\n</g>\n<!-- 132279498610608 -->\n<g id=\"node13\" class=\"node\">\n<title>132279498610608</title>\n<polygon fill=\"none\" stroke=\"black\" points=\"724,-27.5 724,-63.5 909,-63.5 909,-27.5 724,-27.5\"/>\n<text text-anchor=\"middle\" x=\"735.5\" y=\"-41.8\" font-family=\"Times,serif\" font-size=\"14.00\">b</text>\n<polyline fill=\"none\" stroke=\"black\" points=\"747,-27.5 747,-63.5 \"/>\n<text text-anchor=\"middle\" x=\"787\" y=\"-41.8\" font-family=\"Times,serif\" font-size=\"14.00\">data 6.8814</text>\n<polyline fill=\"none\" stroke=\"black\" points=\"827,-27.5 827,-63.5 \"/>\n<text text-anchor=\"middle\" x=\"868\" y=\"-41.8\" font-family=\"Times,serif\" font-size=\"14.00\">grad 5.0000</text>\n</g>\n<!-- 132279498610608&#45;&gt;132279498614784+ -->\n<g id=\"edge14\" class=\"edge\">\n<title>132279498610608&#45;&gt;132279498614784+</title>\n<path fill=\"none\" stroke=\"black\" d=\"M909.02,-58.01C934,-61.43 959.59,-64.93 979.37,-67.63\"/>\n<polygon fill=\"black\" stroke=\"black\" points=\"979.05,-71.12 989.43,-69.01 980,-64.18 979.05,-71.12\"/>\n</g>\n<!-- 132279498615744 -->\n<g id=\"node14\" class=\"node\">\n<title>132279498615744</title>\n<polygon fill=\"none\" stroke=\"black\" points=\"1390,-54.5 1390,-90.5 1575,-90.5 1575,-54.5 1390,-54.5\"/>\n<text text-anchor=\"middle\" x=\"1401.5\" y=\"-68.8\" font-family=\"Times,serif\" font-size=\"14.00\">o</text>\n<polyline fill=\"none\" stroke=\"black\" points=\"1413,-54.5 1413,-90.5 \"/>\n<text text-anchor=\"middle\" x=\"1453\" y=\"-68.8\" font-family=\"Times,serif\" font-size=\"14.00\">data 0.7071</text>\n<polyline fill=\"none\" stroke=\"black\" points=\"1493,-54.5 1493,-90.5 \"/>\n<text text-anchor=\"middle\" x=\"1534\" y=\"-68.8\" font-family=\"Times,serif\" font-size=\"14.00\">grad 1.0000</text>\n</g>\n<!-- 132279498615744tanh&#45;&gt;132279498615744 -->\n<g id=\"edge5\" class=\"edge\">\n<title>132279498615744tanh&#45;&gt;132279498615744</title>\n<path fill=\"none\" stroke=\"black\" d=\"M1354.04,-72.5C1361.58,-72.5 1370.3,-72.5 1379.57,-72.5\"/>\n<polygon fill=\"black\" stroke=\"black\" points=\"1379.81,-76 1389.81,-72.5 1379.81,-69 1379.81,-76\"/>\n</g>\n</g>\n</svg>\n",
            "text/plain": [
              "<graphviz.graphs.Digraph at 0x784eba157eb0>"
            ]
          },
          "metadata": {},
          "execution_count": 113
        }
      ]
    },
    {
      "cell_type": "markdown",
      "source": [
        "# 4/17/2024"
      ],
      "metadata": {
        "id": "lhGH03Km1x4Z"
      }
    },
    {
      "cell_type": "markdown",
      "source": [
        "## fixing a backprop bug when one node is used multiple times\n",
        "\n",
        "There is an error on the gradient when a value is used more than once.\n",
        "In the below example for b = a + a,\n",
        "we know that the derivative of the function is 2, but the gradient is 1. The reason is because the value is overriden when it was used more than once.\n",
        "\n",
        "Therefore, based on the **multivariable case** of the derivative, the derivatives are kept added, instead of set.\n",
        "\n",
        "This is the minor change covered on this section."
      ],
      "metadata": {
        "id": "yj0N8j1t11p8"
      }
    },
    {
      "cell_type": "code",
      "source": [
        "a = Value(3.0, label='a')\n",
        "b = a + a ; b.label = 'b'\n",
        "b.backward()\n",
        "draw_dot(b)"
      ],
      "metadata": {
        "colab": {
          "base_uri": "https://localhost:8080/",
          "height": 101
        },
        "id": "-K4GaiiOtl2x",
        "outputId": "74295b30-87bc-466d-c215-0f276bca4c5b"
      },
      "execution_count": 114,
      "outputs": [
        {
          "output_type": "execute_result",
          "data": {
            "image/svg+xml": "<?xml version=\"1.0\" encoding=\"UTF-8\" standalone=\"no\"?>\n<!DOCTYPE svg PUBLIC \"-//W3C//DTD SVG 1.1//EN\"\n \"http://www.w3.org/Graphics/SVG/1.1/DTD/svg11.dtd\">\n<!-- Generated by graphviz version 2.43.0 (0)\n -->\n<!-- Title: %3 Pages: 1 -->\n<svg width=\"504pt\" height=\"45pt\"\n viewBox=\"0.00 0.00 504.00 45.00\" xmlns=\"http://www.w3.org/2000/svg\" xmlns:xlink=\"http://www.w3.org/1999/xlink\">\n<g id=\"graph0\" class=\"graph\" transform=\"scale(1 1) rotate(0) translate(4 41)\">\n<title>%3</title>\n<polygon fill=\"white\" stroke=\"transparent\" points=\"-4,4 -4,-41 500,-41 500,4 -4,4\"/>\n<!-- 132279498614304 -->\n<g id=\"node1\" class=\"node\">\n<title>132279498614304</title>\n<polygon fill=\"none\" stroke=\"black\" points=\"0,-0.5 0,-36.5 185,-36.5 185,-0.5 0,-0.5\"/>\n<text text-anchor=\"middle\" x=\"11.5\" y=\"-14.8\" font-family=\"Times,serif\" font-size=\"14.00\">a</text>\n<polyline fill=\"none\" stroke=\"black\" points=\"23,-0.5 23,-36.5 \"/>\n<text text-anchor=\"middle\" x=\"63\" y=\"-14.8\" font-family=\"Times,serif\" font-size=\"14.00\">data 3.0000</text>\n<polyline fill=\"none\" stroke=\"black\" points=\"103,-0.5 103,-36.5 \"/>\n<text text-anchor=\"middle\" x=\"144\" y=\"-14.8\" font-family=\"Times,serif\" font-size=\"14.00\">grad 2.0000</text>\n</g>\n<!-- 132279498617952+ -->\n<g id=\"node3\" class=\"node\">\n<title>132279498617952+</title>\n<ellipse fill=\"none\" stroke=\"black\" cx=\"248\" cy=\"-18.5\" rx=\"27\" ry=\"18\"/>\n<text text-anchor=\"middle\" x=\"248\" y=\"-14.8\" font-family=\"Times,serif\" font-size=\"14.00\">+</text>\n</g>\n<!-- 132279498614304&#45;&gt;132279498617952+ -->\n<g id=\"edge2\" class=\"edge\">\n<title>132279498614304&#45;&gt;132279498617952+</title>\n<path fill=\"none\" stroke=\"black\" d=\"M185.01,-18.5C194.01,-18.5 202.74,-18.5 210.66,-18.5\"/>\n<polygon fill=\"black\" stroke=\"black\" points=\"210.91,-22 220.91,-18.5 210.91,-15 210.91,-22\"/>\n</g>\n<!-- 132279498617952 -->\n<g id=\"node2\" class=\"node\">\n<title>132279498617952</title>\n<polygon fill=\"none\" stroke=\"black\" points=\"311,-0.5 311,-36.5 496,-36.5 496,-0.5 311,-0.5\"/>\n<text text-anchor=\"middle\" x=\"322.5\" y=\"-14.8\" font-family=\"Times,serif\" font-size=\"14.00\">b</text>\n<polyline fill=\"none\" stroke=\"black\" points=\"334,-0.5 334,-36.5 \"/>\n<text text-anchor=\"middle\" x=\"374\" y=\"-14.8\" font-family=\"Times,serif\" font-size=\"14.00\">data 6.0000</text>\n<polyline fill=\"none\" stroke=\"black\" points=\"414,-0.5 414,-36.5 \"/>\n<text text-anchor=\"middle\" x=\"455\" y=\"-14.8\" font-family=\"Times,serif\" font-size=\"14.00\">grad 1.0000</text>\n</g>\n<!-- 132279498617952+&#45;&gt;132279498617952 -->\n<g id=\"edge1\" class=\"edge\">\n<title>132279498617952+&#45;&gt;132279498617952</title>\n<path fill=\"none\" stroke=\"black\" d=\"M275.04,-18.5C282.58,-18.5 291.3,-18.5 300.57,-18.5\"/>\n<polygon fill=\"black\" stroke=\"black\" points=\"300.81,-22 310.81,-18.5 300.81,-15 300.81,-22\"/>\n</g>\n</g>\n</svg>\n",
            "text/plain": [
              "<graphviz.graphs.Digraph at 0x784eba157550>"
            ]
          },
          "metadata": {},
          "execution_count": 114
        }
      ]
    },
    {
      "cell_type": "code",
      "source": [
        "a = Value(-2.0, label='a')\n",
        "b = Value(3.0, label='b')\n",
        "d = a * b ; d.label = 'd'\n",
        "e = a + b ; e.label = 'e'\n",
        "f = d * e ; f.label = 'f'\n",
        "\n",
        "f.backward()\n",
        "\n",
        "draw_dot(f)"
      ],
      "metadata": {
        "colab": {
          "base_uri": "https://localhost:8080/",
          "height": 174
        },
        "id": "f4kWhdXg9psD",
        "outputId": "518f4d68-498d-4791-ab29-81026ea5e790"
      },
      "execution_count": 115,
      "outputs": [
        {
          "output_type": "execute_result",
          "data": {
            "image/svg+xml": "<?xml version=\"1.0\" encoding=\"UTF-8\" standalone=\"no\"?>\n<!DOCTYPE svg PUBLIC \"-//W3C//DTD SVG 1.1//EN\"\n \"http://www.w3.org/Graphics/SVG/1.1/DTD/svg11.dtd\">\n<!-- Generated by graphviz version 2.43.0 (0)\n -->\n<!-- Title: %3 Pages: 1 -->\n<svg width=\"832pt\" height=\"100pt\"\n viewBox=\"0.00 0.00 832.00 100.00\" xmlns=\"http://www.w3.org/2000/svg\" xmlns:xlink=\"http://www.w3.org/1999/xlink\">\n<g id=\"graph0\" class=\"graph\" transform=\"scale(1 1) rotate(0) translate(4 96)\">\n<title>%3</title>\n<polygon fill=\"white\" stroke=\"transparent\" points=\"-4,4 -4,-96 828,-96 828,4 -4,4\"/>\n<!-- 132279498620496 -->\n<g id=\"node1\" class=\"node\">\n<title>132279498620496</title>\n<polygon fill=\"none\" stroke=\"black\" points=\"636,-27.5 636,-63.5 824,-63.5 824,-27.5 636,-27.5\"/>\n<text text-anchor=\"middle\" x=\"646.5\" y=\"-41.8\" font-family=\"Times,serif\" font-size=\"14.00\">f</text>\n<polyline fill=\"none\" stroke=\"black\" points=\"657,-27.5 657,-63.5 \"/>\n<text text-anchor=\"middle\" x=\"699.5\" y=\"-41.8\" font-family=\"Times,serif\" font-size=\"14.00\">data &#45;6.0000</text>\n<polyline fill=\"none\" stroke=\"black\" points=\"742,-27.5 742,-63.5 \"/>\n<text text-anchor=\"middle\" x=\"783\" y=\"-41.8\" font-family=\"Times,serif\" font-size=\"14.00\">grad 1.0000</text>\n</g>\n<!-- 132279498620496* -->\n<g id=\"node2\" class=\"node\">\n<title>132279498620496*</title>\n<ellipse fill=\"none\" stroke=\"black\" cx=\"573\" cy=\"-45.5\" rx=\"27\" ry=\"18\"/>\n<text text-anchor=\"middle\" x=\"573\" y=\"-41.8\" font-family=\"Times,serif\" font-size=\"14.00\">*</text>\n</g>\n<!-- 132279498620496*&#45;&gt;132279498620496 -->\n<g id=\"edge1\" class=\"edge\">\n<title>132279498620496*&#45;&gt;132279498620496</title>\n<path fill=\"none\" stroke=\"black\" d=\"M600.29,-45.5C607.78,-45.5 616.42,-45.5 625.6,-45.5\"/>\n<polygon fill=\"black\" stroke=\"black\" points=\"625.76,-49 635.76,-45.5 625.76,-42 625.76,-49\"/>\n</g>\n<!-- 132279498607248 -->\n<g id=\"node3\" class=\"node\">\n<title>132279498607248</title>\n<polygon fill=\"none\" stroke=\"black\" points=\"320,-55.5 320,-91.5 510,-91.5 510,-55.5 320,-55.5\"/>\n<text text-anchor=\"middle\" x=\"331.5\" y=\"-69.8\" font-family=\"Times,serif\" font-size=\"14.00\">d</text>\n<polyline fill=\"none\" stroke=\"black\" points=\"343,-55.5 343,-91.5 \"/>\n<text text-anchor=\"middle\" x=\"385.5\" y=\"-69.8\" font-family=\"Times,serif\" font-size=\"14.00\">data &#45;6.0000</text>\n<polyline fill=\"none\" stroke=\"black\" points=\"428,-55.5 428,-91.5 \"/>\n<text text-anchor=\"middle\" x=\"469\" y=\"-69.8\" font-family=\"Times,serif\" font-size=\"14.00\">grad 1.0000</text>\n</g>\n<!-- 132279498607248&#45;&gt;132279498620496* -->\n<g id=\"edge7\" class=\"edge\">\n<title>132279498607248&#45;&gt;132279498620496*</title>\n<path fill=\"none\" stroke=\"black\" d=\"M510.34,-56.57C519.62,-54.9 528.58,-53.29 536.66,-51.84\"/>\n<polygon fill=\"black\" stroke=\"black\" points=\"537.49,-55.25 546.72,-50.04 536.26,-48.36 537.49,-55.25\"/>\n</g>\n<!-- 132279498607248* -->\n<g id=\"node4\" class=\"node\">\n<title>132279498607248*</title>\n<ellipse fill=\"none\" stroke=\"black\" cx=\"257\" cy=\"-73.5\" rx=\"27\" ry=\"18\"/>\n<text text-anchor=\"middle\" x=\"257\" y=\"-69.8\" font-family=\"Times,serif\" font-size=\"14.00\">*</text>\n</g>\n<!-- 132279498607248*&#45;&gt;132279498607248 -->\n<g id=\"edge2\" class=\"edge\">\n<title>132279498607248*&#45;&gt;132279498607248</title>\n<path fill=\"none\" stroke=\"black\" d=\"M284.11,-73.5C291.63,-73.5 300.32,-73.5 309.58,-73.5\"/>\n<polygon fill=\"black\" stroke=\"black\" points=\"309.81,-77 319.81,-73.5 309.81,-70 309.81,-77\"/>\n</g>\n<!-- 132279498610944 -->\n<g id=\"node5\" class=\"node\">\n<title>132279498610944</title>\n<polygon fill=\"none\" stroke=\"black\" points=\"320.5,-0.5 320.5,-36.5 509.5,-36.5 509.5,-0.5 320.5,-0.5\"/>\n<text text-anchor=\"middle\" x=\"332\" y=\"-14.8\" font-family=\"Times,serif\" font-size=\"14.00\">e</text>\n<polyline fill=\"none\" stroke=\"black\" points=\"343.5,-0.5 343.5,-36.5 \"/>\n<text text-anchor=\"middle\" x=\"383.5\" y=\"-14.8\" font-family=\"Times,serif\" font-size=\"14.00\">data 1.0000</text>\n<polyline fill=\"none\" stroke=\"black\" points=\"423.5,-0.5 423.5,-36.5 \"/>\n<text text-anchor=\"middle\" x=\"466.5\" y=\"-14.8\" font-family=\"Times,serif\" font-size=\"14.00\">grad &#45;6.0000</text>\n</g>\n<!-- 132279498610944&#45;&gt;132279498620496* -->\n<g id=\"edge8\" class=\"edge\">\n<title>132279498610944&#45;&gt;132279498620496*</title>\n<path fill=\"none\" stroke=\"black\" d=\"M509.9,-34.75C519.33,-36.38 528.45,-37.96 536.65,-39.38\"/>\n<polygon fill=\"black\" stroke=\"black\" points=\"536.06,-42.83 546.51,-41.09 537.26,-35.93 536.06,-42.83\"/>\n</g>\n<!-- 132279498610944+ -->\n<g id=\"node6\" class=\"node\">\n<title>132279498610944+</title>\n<ellipse fill=\"none\" stroke=\"black\" cx=\"257\" cy=\"-18.5\" rx=\"27\" ry=\"18\"/>\n<text text-anchor=\"middle\" x=\"257\" y=\"-14.8\" font-family=\"Times,serif\" font-size=\"14.00\">+</text>\n</g>\n<!-- 132279498610944+&#45;&gt;132279498610944 -->\n<g id=\"edge3\" class=\"edge\">\n<title>132279498610944+&#45;&gt;132279498610944</title>\n<path fill=\"none\" stroke=\"black\" d=\"M284.11,-18.5C291.84,-18.5 300.8,-18.5 310.35,-18.5\"/>\n<polygon fill=\"black\" stroke=\"black\" points=\"310.48,-22 320.48,-18.5 310.48,-15 310.48,-22\"/>\n</g>\n<!-- 132279498620688 -->\n<g id=\"node7\" class=\"node\">\n<title>132279498620688</title>\n<polygon fill=\"none\" stroke=\"black\" points=\"0,-55.5 0,-91.5 194,-91.5 194,-55.5 0,-55.5\"/>\n<text text-anchor=\"middle\" x=\"11.5\" y=\"-69.8\" font-family=\"Times,serif\" font-size=\"14.00\">a</text>\n<polyline fill=\"none\" stroke=\"black\" points=\"23,-55.5 23,-91.5 \"/>\n<text text-anchor=\"middle\" x=\"65.5\" y=\"-69.8\" font-family=\"Times,serif\" font-size=\"14.00\">data &#45;2.0000</text>\n<polyline fill=\"none\" stroke=\"black\" points=\"108,-55.5 108,-91.5 \"/>\n<text text-anchor=\"middle\" x=\"151\" y=\"-69.8\" font-family=\"Times,serif\" font-size=\"14.00\">grad &#45;3.0000</text>\n</g>\n<!-- 132279498620688&#45;&gt;132279498607248* -->\n<g id=\"edge4\" class=\"edge\">\n<title>132279498620688&#45;&gt;132279498607248*</title>\n<path fill=\"none\" stroke=\"black\" d=\"M194.01,-73.5C202.98,-73.5 211.65,-73.5 219.51,-73.5\"/>\n<polygon fill=\"black\" stroke=\"black\" points=\"219.7,-77 229.7,-73.5 219.7,-70 219.7,-77\"/>\n</g>\n<!-- 132279498620688&#45;&gt;132279498610944+ -->\n<g id=\"edge6\" class=\"edge\">\n<title>132279498620688&#45;&gt;132279498610944+</title>\n<path fill=\"none\" stroke=\"black\" d=\"M166.84,-55.49C176.04,-52.69 185.3,-49.67 194,-46.5 204.51,-42.67 215.73,-37.84 225.7,-33.28\"/>\n<polygon fill=\"black\" stroke=\"black\" points=\"227.23,-36.43 234.81,-29.02 224.27,-30.09 227.23,-36.43\"/>\n</g>\n<!-- 132279525026224 -->\n<g id=\"node8\" class=\"node\">\n<title>132279525026224</title>\n<polygon fill=\"none\" stroke=\"black\" points=\"2.5,-0.5 2.5,-36.5 191.5,-36.5 191.5,-0.5 2.5,-0.5\"/>\n<text text-anchor=\"middle\" x=\"14\" y=\"-14.8\" font-family=\"Times,serif\" font-size=\"14.00\">b</text>\n<polyline fill=\"none\" stroke=\"black\" points=\"25.5,-0.5 25.5,-36.5 \"/>\n<text text-anchor=\"middle\" x=\"65.5\" y=\"-14.8\" font-family=\"Times,serif\" font-size=\"14.00\">data 3.0000</text>\n<polyline fill=\"none\" stroke=\"black\" points=\"105.5,-0.5 105.5,-36.5 \"/>\n<text text-anchor=\"middle\" x=\"148.5\" y=\"-14.8\" font-family=\"Times,serif\" font-size=\"14.00\">grad &#45;8.0000</text>\n</g>\n<!-- 132279525026224&#45;&gt;132279498607248* -->\n<g id=\"edge9\" class=\"edge\">\n<title>132279525026224&#45;&gt;132279498607248*</title>\n<path fill=\"none\" stroke=\"black\" d=\"M163.94,-36.53C174.08,-39.65 184.37,-43.01 194,-46.5 204.27,-50.22 215.26,-54.8 225.09,-59.12\"/>\n<polygon fill=\"black\" stroke=\"black\" points=\"223.91,-62.43 234.47,-63.32 226.77,-56.04 223.91,-62.43\"/>\n</g>\n<!-- 132279525026224&#45;&gt;132279498610944+ -->\n<g id=\"edge5\" class=\"edge\">\n<title>132279525026224&#45;&gt;132279498610944+</title>\n<path fill=\"none\" stroke=\"black\" d=\"M191.74,-18.5C201.55,-18.5 211.04,-18.5 219.59,-18.5\"/>\n<polygon fill=\"black\" stroke=\"black\" points=\"219.87,-22 229.87,-18.5 219.87,-15 219.87,-22\"/>\n</g>\n</g>\n</svg>\n",
            "text/plain": [
              "<graphviz.graphs.Digraph at 0x784eb886bcd0>"
            ]
          },
          "metadata": {},
          "execution_count": 115
        }
      ]
    },
    {
      "cell_type": "markdown",
      "source": [
        "## breaking up a tanh, exercising with more operations"
      ],
      "metadata": {
        "id": "_TksPpKYAkBV"
      }
    },
    {
      "cell_type": "code",
      "source": [
        "# copy from above\n",
        "\n",
        "# inputs x1, x2\n",
        "x1 = Value(2.0, label='x1')\n",
        "x2 = Value(0.0, label='x2')\n",
        "# weights w1,s2\n",
        "w1 = Value(-3.0, label='w1')\n",
        "w2 = Value(1.0, label='w2')\n",
        "# bias of the neuron\n",
        "b = Value(6.8813735870195432, label='b')\n",
        "# x1*w1 + x2*w2 + b\n",
        "x1w1 = x1*w1; x1w1.label = 'x1w1'\n",
        "x2w2 = x2*w2; x2w2.label = 'x2w2'\n",
        "x1w1x2w2 = x1w1 + x2w2; x1w1x2w2.label = 'x1*w1 + x2*w2'\n",
        "n = x1w1x2w2 + b; n.label = 'n'\n",
        "o = n.tanh(); o.label = 'o'"
      ],
      "metadata": {
        "id": "FWNLhSMY-BNs"
      },
      "execution_count": 116,
      "outputs": []
    },
    {
      "cell_type": "code",
      "source": [
        "draw_dot(o)"
      ],
      "metadata": {
        "colab": {
          "base_uri": "https://localhost:8080/",
          "height": 321
        },
        "id": "LfCArHZPAtgf",
        "outputId": "389b5531-ebc2-45f7-9cdf-bf97f31adf52"
      },
      "execution_count": 117,
      "outputs": [
        {
          "output_type": "execute_result",
          "data": {
            "image/svg+xml": "<?xml version=\"1.0\" encoding=\"UTF-8\" standalone=\"no\"?>\n<!DOCTYPE svg PUBLIC \"-//W3C//DTD SVG 1.1//EN\"\n \"http://www.w3.org/Graphics/SVG/1.1/DTD/svg11.dtd\">\n<!-- Generated by graphviz version 2.43.0 (0)\n -->\n<!-- Title: %3 Pages: 1 -->\n<svg width=\"1569pt\" height=\"210pt\"\n viewBox=\"0.00 0.00 1569.00 210.00\" xmlns=\"http://www.w3.org/2000/svg\" xmlns:xlink=\"http://www.w3.org/1999/xlink\">\n<g id=\"graph0\" class=\"graph\" transform=\"scale(1 1) rotate(0) translate(4 206)\">\n<title>%3</title>\n<polygon fill=\"white\" stroke=\"transparent\" points=\"-4,4 -4,-206 1565,-206 1565,4 -4,4\"/>\n<!-- 132279498605568 -->\n<g id=\"node1\" class=\"node\">\n<title>132279498605568</title>\n<polygon fill=\"none\" stroke=\"black\" points=\"710,-137.5 710,-173.5 895,-173.5 895,-137.5 710,-137.5\"/>\n<text text-anchor=\"middle\" x=\"721.5\" y=\"-151.8\" font-family=\"Times,serif\" font-size=\"14.00\">b</text>\n<polyline fill=\"none\" stroke=\"black\" points=\"733,-137.5 733,-173.5 \"/>\n<text text-anchor=\"middle\" x=\"773\" y=\"-151.8\" font-family=\"Times,serif\" font-size=\"14.00\">data 6.8814</text>\n<polyline fill=\"none\" stroke=\"black\" points=\"813,-137.5 813,-173.5 \"/>\n<text text-anchor=\"middle\" x=\"854\" y=\"-151.8\" font-family=\"Times,serif\" font-size=\"14.00\">grad 0.0000</text>\n</g>\n<!-- 132279498613488+ -->\n<g id=\"node7\" class=\"node\">\n<title>132279498613488+</title>\n<ellipse fill=\"none\" stroke=\"black\" cx=\"1002\" cy=\"-127.5\" rx=\"27\" ry=\"18\"/>\n<text text-anchor=\"middle\" x=\"1002\" y=\"-123.8\" font-family=\"Times,serif\" font-size=\"14.00\">+</text>\n</g>\n<!-- 132279498605568&#45;&gt;132279498613488+ -->\n<g id=\"edge6\" class=\"edge\">\n<title>132279498605568&#45;&gt;132279498613488+</title>\n<path fill=\"none\" stroke=\"black\" d=\"M895.02,-142.52C920,-138.98 945.59,-135.36 965.37,-132.55\"/>\n<polygon fill=\"black\" stroke=\"black\" points=\"966.03,-135.99 975.43,-131.12 965.04,-129.06 966.03,-135.99\"/>\n</g>\n<!-- 132279498605664 -->\n<g id=\"node2\" class=\"node\">\n<title>132279498605664</title>\n<polygon fill=\"none\" stroke=\"black\" points=\"4,-55.5 4,-91.5 196,-91.5 196,-55.5 4,-55.5\"/>\n<text text-anchor=\"middle\" x=\"19\" y=\"-69.8\" font-family=\"Times,serif\" font-size=\"14.00\">x2</text>\n<polyline fill=\"none\" stroke=\"black\" points=\"34,-55.5 34,-91.5 \"/>\n<text text-anchor=\"middle\" x=\"74\" y=\"-69.8\" font-family=\"Times,serif\" font-size=\"14.00\">data 0.0000</text>\n<polyline fill=\"none\" stroke=\"black\" points=\"114,-55.5 114,-91.5 \"/>\n<text text-anchor=\"middle\" x=\"155\" y=\"-69.8\" font-family=\"Times,serif\" font-size=\"14.00\">grad 0.0000</text>\n</g>\n<!-- 132279498617760* -->\n<g id=\"node12\" class=\"node\">\n<title>132279498617760*</title>\n<ellipse fill=\"none\" stroke=\"black\" cx=\"263\" cy=\"-73.5\" rx=\"27\" ry=\"18\"/>\n<text text-anchor=\"middle\" x=\"263\" y=\"-69.8\" font-family=\"Times,serif\" font-size=\"14.00\">*</text>\n</g>\n<!-- 132279498605664&#45;&gt;132279498617760* -->\n<g id=\"edge9\" class=\"edge\">\n<title>132279498605664&#45;&gt;132279498617760*</title>\n<path fill=\"none\" stroke=\"black\" d=\"M196.05,-73.5C206.52,-73.5 216.65,-73.5 225.71,-73.5\"/>\n<polygon fill=\"black\" stroke=\"black\" points=\"225.79,-77 235.79,-73.5 225.79,-70 225.79,-77\"/>\n</g>\n<!-- 132279498606192 -->\n<g id=\"node3\" class=\"node\">\n<title>132279498606192</title>\n<polygon fill=\"none\" stroke=\"black\" points=\"2.5,-0.5 2.5,-36.5 197.5,-36.5 197.5,-0.5 2.5,-0.5\"/>\n<text text-anchor=\"middle\" x=\"19\" y=\"-14.8\" font-family=\"Times,serif\" font-size=\"14.00\">w2</text>\n<polyline fill=\"none\" stroke=\"black\" points=\"35.5,-0.5 35.5,-36.5 \"/>\n<text text-anchor=\"middle\" x=\"75.5\" y=\"-14.8\" font-family=\"Times,serif\" font-size=\"14.00\">data 1.0000</text>\n<polyline fill=\"none\" stroke=\"black\" points=\"115.5,-0.5 115.5,-36.5 \"/>\n<text text-anchor=\"middle\" x=\"156.5\" y=\"-14.8\" font-family=\"Times,serif\" font-size=\"14.00\">grad 0.0000</text>\n</g>\n<!-- 132279498606192&#45;&gt;132279498617760* -->\n<g id=\"edge10\" class=\"edge\">\n<title>132279498606192&#45;&gt;132279498617760*</title>\n<path fill=\"none\" stroke=\"black\" d=\"M169.28,-36.5C179.65,-39.61 190.16,-42.98 200,-46.5 210.28,-50.17 221.28,-54.74 231.11,-59.07\"/>\n<polygon fill=\"black\" stroke=\"black\" points=\"229.93,-62.37 240.48,-63.27 232.79,-55.99 229.93,-62.37\"/>\n</g>\n<!-- 132279498618576 -->\n<g id=\"node4\" class=\"node\">\n<title>132279498618576</title>\n<polygon fill=\"none\" stroke=\"black\" points=\"326,-110.5 326,-146.5 540,-146.5 540,-110.5 326,-110.5\"/>\n<text text-anchor=\"middle\" x=\"349.5\" y=\"-124.8\" font-family=\"Times,serif\" font-size=\"14.00\">x1w1</text>\n<polyline fill=\"none\" stroke=\"black\" points=\"373,-110.5 373,-146.5 \"/>\n<text text-anchor=\"middle\" x=\"415.5\" y=\"-124.8\" font-family=\"Times,serif\" font-size=\"14.00\">data &#45;6.0000</text>\n<polyline fill=\"none\" stroke=\"black\" points=\"458,-110.5 458,-146.5 \"/>\n<text text-anchor=\"middle\" x=\"499\" y=\"-124.8\" font-family=\"Times,serif\" font-size=\"14.00\">grad 0.0000</text>\n</g>\n<!-- 132279498617664+ -->\n<g id=\"node10\" class=\"node\">\n<title>132279498617664+</title>\n<ellipse fill=\"none\" stroke=\"black\" cx=\"603\" cy=\"-100.5\" rx=\"27\" ry=\"18\"/>\n<text text-anchor=\"middle\" x=\"603\" y=\"-96.8\" font-family=\"Times,serif\" font-size=\"14.00\">+</text>\n</g>\n<!-- 132279498618576&#45;&gt;132279498617664+ -->\n<g id=\"edge11\" class=\"edge\">\n<title>132279498618576&#45;&gt;132279498617664+</title>\n<path fill=\"none\" stroke=\"black\" d=\"M540.4,-110.77C549.72,-109.21 558.65,-107.72 566.68,-106.39\"/>\n<polygon fill=\"black\" stroke=\"black\" points=\"567.38,-109.82 576.66,-104.72 566.22,-102.91 567.38,-109.82\"/>\n</g>\n<!-- 132279498618576* -->\n<g id=\"node5\" class=\"node\">\n<title>132279498618576*</title>\n<ellipse fill=\"none\" stroke=\"black\" cx=\"263\" cy=\"-128.5\" rx=\"27\" ry=\"18\"/>\n<text text-anchor=\"middle\" x=\"263\" y=\"-124.8\" font-family=\"Times,serif\" font-size=\"14.00\">*</text>\n</g>\n<!-- 132279498618576*&#45;&gt;132279498618576 -->\n<g id=\"edge1\" class=\"edge\">\n<title>132279498618576*&#45;&gt;132279498618576</title>\n<path fill=\"none\" stroke=\"black\" d=\"M290.25,-128.5C297.7,-128.5 306.34,-128.5 315.59,-128.5\"/>\n<polygon fill=\"black\" stroke=\"black\" points=\"315.84,-132 325.84,-128.5 315.84,-125 315.84,-132\"/>\n</g>\n<!-- 132279498613488 -->\n<g id=\"node6\" class=\"node\">\n<title>132279498613488</title>\n<polygon fill=\"none\" stroke=\"black\" points=\"1065,-109.5 1065,-145.5 1250,-145.5 1250,-109.5 1065,-109.5\"/>\n<text text-anchor=\"middle\" x=\"1076.5\" y=\"-123.8\" font-family=\"Times,serif\" font-size=\"14.00\">n</text>\n<polyline fill=\"none\" stroke=\"black\" points=\"1088,-109.5 1088,-145.5 \"/>\n<text text-anchor=\"middle\" x=\"1128\" y=\"-123.8\" font-family=\"Times,serif\" font-size=\"14.00\">data 0.8814</text>\n<polyline fill=\"none\" stroke=\"black\" points=\"1168,-109.5 1168,-145.5 \"/>\n<text text-anchor=\"middle\" x=\"1209\" y=\"-123.8\" font-family=\"Times,serif\" font-size=\"14.00\">grad 0.0000</text>\n</g>\n<!-- 132279498620352tanh -->\n<g id=\"node15\" class=\"node\">\n<title>132279498620352tanh</title>\n<ellipse fill=\"none\" stroke=\"black\" cx=\"1313\" cy=\"-127.5\" rx=\"27\" ry=\"18\"/>\n<text text-anchor=\"middle\" x=\"1313\" y=\"-123.8\" font-family=\"Times,serif\" font-size=\"14.00\">tanh</text>\n</g>\n<!-- 132279498613488&#45;&gt;132279498620352tanh -->\n<g id=\"edge12\" class=\"edge\">\n<title>132279498613488&#45;&gt;132279498620352tanh</title>\n<path fill=\"none\" stroke=\"black\" d=\"M1250.01,-127.5C1259.01,-127.5 1267.74,-127.5 1275.66,-127.5\"/>\n<polygon fill=\"black\" stroke=\"black\" points=\"1275.91,-131 1285.91,-127.5 1275.91,-124 1275.91,-131\"/>\n</g>\n<!-- 132279498613488+&#45;&gt;132279498613488 -->\n<g id=\"edge2\" class=\"edge\">\n<title>132279498613488+&#45;&gt;132279498613488</title>\n<path fill=\"none\" stroke=\"black\" d=\"M1029.04,-127.5C1036.58,-127.5 1045.3,-127.5 1054.57,-127.5\"/>\n<polygon fill=\"black\" stroke=\"black\" points=\"1054.81,-131 1064.81,-127.5 1054.81,-124 1054.81,-131\"/>\n</g>\n<!-- 132279498605328 -->\n<g id=\"node8\" class=\"node\">\n<title>132279498605328</title>\n<polygon fill=\"none\" stroke=\"black\" points=\"0,-165.5 0,-201.5 200,-201.5 200,-165.5 0,-165.5\"/>\n<text text-anchor=\"middle\" x=\"16.5\" y=\"-179.8\" font-family=\"Times,serif\" font-size=\"14.00\">w1</text>\n<polyline fill=\"none\" stroke=\"black\" points=\"33,-165.5 33,-201.5 \"/>\n<text text-anchor=\"middle\" x=\"75.5\" y=\"-179.8\" font-family=\"Times,serif\" font-size=\"14.00\">data &#45;3.0000</text>\n<polyline fill=\"none\" stroke=\"black\" points=\"118,-165.5 118,-201.5 \"/>\n<text text-anchor=\"middle\" x=\"159\" y=\"-179.8\" font-family=\"Times,serif\" font-size=\"14.00\">grad 0.0000</text>\n</g>\n<!-- 132279498605328&#45;&gt;132279498618576* -->\n<g id=\"edge14\" class=\"edge\">\n<title>132279498605328&#45;&gt;132279498618576*</title>\n<path fill=\"none\" stroke=\"black\" d=\"M172.53,-165.44C181.84,-162.67 191.2,-159.67 200,-156.5 210.53,-152.71 221.75,-147.9 231.72,-143.33\"/>\n<polygon fill=\"black\" stroke=\"black\" points=\"233.25,-146.48 240.82,-139.07 230.28,-140.14 233.25,-146.48\"/>\n</g>\n<!-- 132279498617664 -->\n<g id=\"node9\" class=\"node\">\n<title>132279498617664</title>\n<polygon fill=\"none\" stroke=\"black\" points=\"666,-82.5 666,-118.5 939,-118.5 939,-82.5 666,-82.5\"/>\n<text text-anchor=\"middle\" x=\"719\" y=\"-96.8\" font-family=\"Times,serif\" font-size=\"14.00\">x1*w1 + x2*w2</text>\n<polyline fill=\"none\" stroke=\"black\" points=\"772,-82.5 772,-118.5 \"/>\n<text text-anchor=\"middle\" x=\"814.5\" y=\"-96.8\" font-family=\"Times,serif\" font-size=\"14.00\">data &#45;6.0000</text>\n<polyline fill=\"none\" stroke=\"black\" points=\"857,-82.5 857,-118.5 \"/>\n<text text-anchor=\"middle\" x=\"898\" y=\"-96.8\" font-family=\"Times,serif\" font-size=\"14.00\">grad 0.0000</text>\n</g>\n<!-- 132279498617664&#45;&gt;132279498613488+ -->\n<g id=\"edge8\" class=\"edge\">\n<title>132279498617664&#45;&gt;132279498613488+</title>\n<path fill=\"none\" stroke=\"black\" d=\"M935.24,-118.51C946.12,-120 956.4,-121.4 965.45,-122.64\"/>\n<polygon fill=\"black\" stroke=\"black\" points=\"965.11,-126.13 975.49,-124.01 966.05,-119.19 965.11,-126.13\"/>\n</g>\n<!-- 132279498617664+&#45;&gt;132279498617664 -->\n<g id=\"edge3\" class=\"edge\">\n<title>132279498617664+&#45;&gt;132279498617664</title>\n<path fill=\"none\" stroke=\"black\" d=\"M630.23,-100.5C637.7,-100.5 646.41,-100.5 655.87,-100.5\"/>\n<polygon fill=\"black\" stroke=\"black\" points=\"655.98,-104 665.98,-100.5 655.98,-97 655.98,-104\"/>\n</g>\n<!-- 132279498617760 -->\n<g id=\"node11\" class=\"node\">\n<title>132279498617760</title>\n<polygon fill=\"none\" stroke=\"black\" points=\"328.5,-55.5 328.5,-91.5 537.5,-91.5 537.5,-55.5 328.5,-55.5\"/>\n<text text-anchor=\"middle\" x=\"352\" y=\"-69.8\" font-family=\"Times,serif\" font-size=\"14.00\">x2w2</text>\n<polyline fill=\"none\" stroke=\"black\" points=\"375.5,-55.5 375.5,-91.5 \"/>\n<text text-anchor=\"middle\" x=\"415.5\" y=\"-69.8\" font-family=\"Times,serif\" font-size=\"14.00\">data 0.0000</text>\n<polyline fill=\"none\" stroke=\"black\" points=\"455.5,-55.5 455.5,-91.5 \"/>\n<text text-anchor=\"middle\" x=\"496.5\" y=\"-69.8\" font-family=\"Times,serif\" font-size=\"14.00\">grad 0.0000</text>\n</g>\n<!-- 132279498617760&#45;&gt;132279498617664+ -->\n<g id=\"edge7\" class=\"edge\">\n<title>132279498617760&#45;&gt;132279498617664+</title>\n<path fill=\"none\" stroke=\"black\" d=\"M537.53,-90.14C547.8,-91.79 557.66,-93.37 566.45,-94.79\"/>\n<polygon fill=\"black\" stroke=\"black\" points=\"566.16,-98.28 576.59,-96.42 567.27,-91.37 566.16,-98.28\"/>\n</g>\n<!-- 132279498617760*&#45;&gt;132279498617760 -->\n<g id=\"edge4\" class=\"edge\">\n<title>132279498617760*&#45;&gt;132279498617760</title>\n<path fill=\"none\" stroke=\"black\" d=\"M290.25,-73.5C298.43,-73.5 308.03,-73.5 318.31,-73.5\"/>\n<polygon fill=\"black\" stroke=\"black\" points=\"318.35,-77 328.35,-73.5 318.35,-70 318.35,-77\"/>\n</g>\n<!-- 132279498606000 -->\n<g id=\"node13\" class=\"node\">\n<title>132279498606000</title>\n<polygon fill=\"none\" stroke=\"black\" points=\"4,-110.5 4,-146.5 196,-146.5 196,-110.5 4,-110.5\"/>\n<text text-anchor=\"middle\" x=\"19\" y=\"-124.8\" font-family=\"Times,serif\" font-size=\"14.00\">x1</text>\n<polyline fill=\"none\" stroke=\"black\" points=\"34,-110.5 34,-146.5 \"/>\n<text text-anchor=\"middle\" x=\"74\" y=\"-124.8\" font-family=\"Times,serif\" font-size=\"14.00\">data 2.0000</text>\n<polyline fill=\"none\" stroke=\"black\" points=\"114,-110.5 114,-146.5 \"/>\n<text text-anchor=\"middle\" x=\"155\" y=\"-124.8\" font-family=\"Times,serif\" font-size=\"14.00\">grad 0.0000</text>\n</g>\n<!-- 132279498606000&#45;&gt;132279498618576* -->\n<g id=\"edge13\" class=\"edge\">\n<title>132279498606000&#45;&gt;132279498618576*</title>\n<path fill=\"none\" stroke=\"black\" d=\"M196.05,-128.5C206.52,-128.5 216.65,-128.5 225.71,-128.5\"/>\n<polygon fill=\"black\" stroke=\"black\" points=\"225.79,-132 235.79,-128.5 225.79,-125 225.79,-132\"/>\n</g>\n<!-- 132279498620352 -->\n<g id=\"node14\" class=\"node\">\n<title>132279498620352</title>\n<polygon fill=\"none\" stroke=\"black\" points=\"1376,-109.5 1376,-145.5 1561,-145.5 1561,-109.5 1376,-109.5\"/>\n<text text-anchor=\"middle\" x=\"1387.5\" y=\"-123.8\" font-family=\"Times,serif\" font-size=\"14.00\">o</text>\n<polyline fill=\"none\" stroke=\"black\" points=\"1399,-109.5 1399,-145.5 \"/>\n<text text-anchor=\"middle\" x=\"1439\" y=\"-123.8\" font-family=\"Times,serif\" font-size=\"14.00\">data 0.7071</text>\n<polyline fill=\"none\" stroke=\"black\" points=\"1479,-109.5 1479,-145.5 \"/>\n<text text-anchor=\"middle\" x=\"1520\" y=\"-123.8\" font-family=\"Times,serif\" font-size=\"14.00\">grad 0.0000</text>\n</g>\n<!-- 132279498620352tanh&#45;&gt;132279498620352 -->\n<g id=\"edge5\" class=\"edge\">\n<title>132279498620352tanh&#45;&gt;132279498620352</title>\n<path fill=\"none\" stroke=\"black\" d=\"M1340.04,-127.5C1347.58,-127.5 1356.3,-127.5 1365.57,-127.5\"/>\n<polygon fill=\"black\" stroke=\"black\" points=\"1365.81,-131 1375.81,-127.5 1365.81,-124 1365.81,-131\"/>\n</g>\n</g>\n</svg>\n",
            "text/plain": [
              "<graphviz.graphs.Digraph at 0x784eb88692d0>"
            ]
          },
          "metadata": {},
          "execution_count": 117
        }
      ]
    },
    {
      "cell_type": "code",
      "source": [
        "a = Value(2.0)\n",
        "a * 2"
      ],
      "metadata": {
        "colab": {
          "base_uri": "https://localhost:8080/"
        },
        "id": "dYLMwXvdAvJg",
        "outputId": "fc96f00b-7377-4c9f-a9b5-5565f497e3f5"
      },
      "execution_count": 118,
      "outputs": [
        {
          "output_type": "execute_result",
          "data": {
            "text/plain": [
              "Value(data=4.0)"
            ]
          },
          "metadata": {},
          "execution_count": 118
        }
      ]
    },
    {
      "cell_type": "markdown",
      "source": [
        "what's explained here is that the example of adding int object to Value object. Initial implementation did not handle this case, so we added a case that sets **other** to be other if it is an instance of Value, else wrap it with Value.\n",
        "This does not handle the case for string or other type, but for the sake of simplicity it might be okay...\n",
        "\n",
        "then the interesting concept of python came up; a function called **\\_\\_rmul\\_\\_**\n",
        "when you call `a + b`, this is equavalent to a.\\_\\_add\\_\\_(b). if a is a generic python type like int, it cannot handle my own class; thus throwing an error.\n",
        "\n",
        "what rmul does is that in the case of this error, if my own instance has this function defined, it is called instead."
      ],
      "metadata": {
        "id": "p9gUIAeYCBQ9"
      }
    },
    {
      "cell_type": "code",
      "source": [
        "3 + a"
      ],
      "metadata": {
        "colab": {
          "base_uri": "https://localhost:8080/"
        },
        "id": "ruhc3nc5BD8m",
        "outputId": "3b5f0e8a-c3b7-4ff7-b39d-8bfd4f19b1d1"
      },
      "execution_count": 119,
      "outputs": [
        {
          "output_type": "execute_result",
          "data": {
            "text/plain": [
              "Value(data=5.0)"
            ]
          },
          "metadata": {},
          "execution_count": 119
        }
      ]
    },
    {
      "cell_type": "code",
      "source": [
        "a.exp()"
      ],
      "metadata": {
        "colab": {
          "base_uri": "https://localhost:8080/"
        },
        "id": "7XgGG6wbDkh7",
        "outputId": "d9560312-f402-4fb8-da49-89d812342167"
      },
      "execution_count": 120,
      "outputs": [
        {
          "output_type": "execute_result",
          "data": {
            "text/plain": [
              "Value(data=7.38905609893065)"
            ]
          },
          "metadata": {},
          "execution_count": 120
        }
      ]
    },
    {
      "cell_type": "code",
      "source": [
        "a = Value(2.0)\n",
        "b = Value(4.0)\n",
        "a / b"
      ],
      "metadata": {
        "colab": {
          "base_uri": "https://localhost:8080/"
        },
        "id": "i0OZHkgQFvMN",
        "outputId": "ddb03c52-6af9-419d-d7b4-30082a048522"
      },
      "execution_count": 121,
      "outputs": [
        {
          "output_type": "execute_result",
          "data": {
            "text/plain": [
              "Value(data=0.5)"
            ]
          },
          "metadata": {},
          "execution_count": 121
        }
      ]
    },
    {
      "cell_type": "code",
      "source": [
        "a - b"
      ],
      "metadata": {
        "id": "C8DRTPqaUL4l",
        "colab": {
          "base_uri": "https://localhost:8080/"
        },
        "outputId": "3394088c-cabc-4788-95ab-48c250f89c7c"
      },
      "execution_count": 122,
      "outputs": [
        {
          "output_type": "execute_result",
          "data": {
            "text/plain": [
              "Value(data=-2.0)"
            ]
          },
          "metadata": {},
          "execution_count": 122
        }
      ]
    },
    {
      "cell_type": "code",
      "source": [
        "# copy from above\n",
        "\n",
        "# inputs x1, x2\n",
        "x1 = Value(2.0, label='x1')\n",
        "x2 = Value(0.0, label='x2')\n",
        "# weights w1,s2\n",
        "w1 = Value(-3.0, label='w1')\n",
        "w2 = Value(1.0, label='w2')\n",
        "# bias of the neuron\n",
        "b = Value(6.8813735870195432, label='b')\n",
        "# x1*w1 + x2*w2 + b\n",
        "x1w1 = x1*w1; x1w1.label = 'x1*w1'\n",
        "x2w2 = x2*w2; x2w2.label = 'x2*w2'\n",
        "x1w1x2w2 = x1w1 + x2w2; x1w1x2w2.label = 'x1*w1 + x2*w2'\n",
        "n = x1w1x2w2 + b; n.label = 'n'\n",
        "o = n.tanh(); o.label = 'o'\n",
        "o.backward()"
      ],
      "metadata": {
        "id": "cdCEvSs6U677"
      },
      "execution_count": 123,
      "outputs": []
    },
    {
      "cell_type": "code",
      "source": [
        "draw_dot(o)"
      ],
      "metadata": {
        "colab": {
          "base_uri": "https://localhost:8080/",
          "height": 321
        },
        "id": "cHVIdxRIVT7s",
        "outputId": "7edc6f25-ed0b-49a8-d09f-922e5dfad64f"
      },
      "execution_count": 124,
      "outputs": [
        {
          "output_type": "execute_result",
          "data": {
            "image/svg+xml": "<?xml version=\"1.0\" encoding=\"UTF-8\" standalone=\"no\"?>\n<!DOCTYPE svg PUBLIC \"-//W3C//DTD SVG 1.1//EN\"\n \"http://www.w3.org/Graphics/SVG/1.1/DTD/svg11.dtd\">\n<!-- Generated by graphviz version 2.43.0 (0)\n -->\n<!-- Title: %3 Pages: 1 -->\n<svg width=\"1575pt\" height=\"210pt\"\n viewBox=\"0.00 0.00 1575.00 210.00\" xmlns=\"http://www.w3.org/2000/svg\" xmlns:xlink=\"http://www.w3.org/1999/xlink\">\n<g id=\"graph0\" class=\"graph\" transform=\"scale(1 1) rotate(0) translate(4 206)\">\n<title>%3</title>\n<polygon fill=\"white\" stroke=\"transparent\" points=\"-4,4 -4,-206 1571,-206 1571,4 -4,4\"/>\n<!-- 132279498613296 -->\n<g id=\"node1\" class=\"node\">\n<title>132279498613296</title>\n<polygon fill=\"none\" stroke=\"black\" points=\"0,-165.5 0,-201.5 200,-201.5 200,-165.5 0,-165.5\"/>\n<text text-anchor=\"middle\" x=\"16.5\" y=\"-179.8\" font-family=\"Times,serif\" font-size=\"14.00\">w1</text>\n<polyline fill=\"none\" stroke=\"black\" points=\"33,-165.5 33,-201.5 \"/>\n<text text-anchor=\"middle\" x=\"75.5\" y=\"-179.8\" font-family=\"Times,serif\" font-size=\"14.00\">data &#45;3.0000</text>\n<polyline fill=\"none\" stroke=\"black\" points=\"118,-165.5 118,-201.5 \"/>\n<text text-anchor=\"middle\" x=\"159\" y=\"-179.8\" font-family=\"Times,serif\" font-size=\"14.00\">grad 1.0000</text>\n</g>\n<!-- 132279498617808* -->\n<g id=\"node15\" class=\"node\">\n<title>132279498617808*</title>\n<ellipse fill=\"none\" stroke=\"black\" cx=\"263\" cy=\"-128.5\" rx=\"27\" ry=\"18\"/>\n<text text-anchor=\"middle\" x=\"263\" y=\"-124.8\" font-family=\"Times,serif\" font-size=\"14.00\">*</text>\n</g>\n<!-- 132279498613296&#45;&gt;132279498617808* -->\n<g id=\"edge6\" class=\"edge\">\n<title>132279498613296&#45;&gt;132279498617808*</title>\n<path fill=\"none\" stroke=\"black\" d=\"M172.53,-165.44C181.84,-162.67 191.2,-159.67 200,-156.5 210.53,-152.71 221.75,-147.9 231.72,-143.33\"/>\n<polygon fill=\"black\" stroke=\"black\" points=\"233.25,-146.48 240.82,-139.07 230.28,-140.14 233.25,-146.48\"/>\n</g>\n<!-- 132279498609744 -->\n<g id=\"node2\" class=\"node\">\n<title>132279498609744</title>\n<polygon fill=\"none\" stroke=\"black\" points=\"4,-55.5 4,-91.5 196,-91.5 196,-55.5 4,-55.5\"/>\n<text text-anchor=\"middle\" x=\"19\" y=\"-69.8\" font-family=\"Times,serif\" font-size=\"14.00\">x2</text>\n<polyline fill=\"none\" stroke=\"black\" points=\"34,-55.5 34,-91.5 \"/>\n<text text-anchor=\"middle\" x=\"74\" y=\"-69.8\" font-family=\"Times,serif\" font-size=\"14.00\">data 0.0000</text>\n<polyline fill=\"none\" stroke=\"black\" points=\"114,-55.5 114,-91.5 \"/>\n<text text-anchor=\"middle\" x=\"155\" y=\"-69.8\" font-family=\"Times,serif\" font-size=\"14.00\">grad 0.5000</text>\n</g>\n<!-- 132279498608832* -->\n<g id=\"node8\" class=\"node\">\n<title>132279498608832*</title>\n<ellipse fill=\"none\" stroke=\"black\" cx=\"263\" cy=\"-73.5\" rx=\"27\" ry=\"18\"/>\n<text text-anchor=\"middle\" x=\"263\" y=\"-69.8\" font-family=\"Times,serif\" font-size=\"14.00\">*</text>\n</g>\n<!-- 132279498609744&#45;&gt;132279498608832* -->\n<g id=\"edge11\" class=\"edge\">\n<title>132279498609744&#45;&gt;132279498608832*</title>\n<path fill=\"none\" stroke=\"black\" d=\"M196.05,-73.5C206.52,-73.5 216.65,-73.5 225.71,-73.5\"/>\n<polygon fill=\"black\" stroke=\"black\" points=\"225.79,-77 235.79,-73.5 225.79,-70 225.79,-77\"/>\n</g>\n<!-- 132279498609840 -->\n<g id=\"node3\" class=\"node\">\n<title>132279498609840</title>\n<polygon fill=\"none\" stroke=\"black\" points=\"1071,-54.5 1071,-90.5 1256,-90.5 1256,-54.5 1071,-54.5\"/>\n<text text-anchor=\"middle\" x=\"1082.5\" y=\"-68.8\" font-family=\"Times,serif\" font-size=\"14.00\">n</text>\n<polyline fill=\"none\" stroke=\"black\" points=\"1094,-54.5 1094,-90.5 \"/>\n<text text-anchor=\"middle\" x=\"1134\" y=\"-68.8\" font-family=\"Times,serif\" font-size=\"14.00\">data 0.8814</text>\n<polyline fill=\"none\" stroke=\"black\" points=\"1174,-54.5 1174,-90.5 \"/>\n<text text-anchor=\"middle\" x=\"1215\" y=\"-68.8\" font-family=\"Times,serif\" font-size=\"14.00\">grad 0.5000</text>\n</g>\n<!-- 132279498611904tanh -->\n<g id=\"node6\" class=\"node\">\n<title>132279498611904tanh</title>\n<ellipse fill=\"none\" stroke=\"black\" cx=\"1319\" cy=\"-72.5\" rx=\"27\" ry=\"18\"/>\n<text text-anchor=\"middle\" x=\"1319\" y=\"-68.8\" font-family=\"Times,serif\" font-size=\"14.00\">tanh</text>\n</g>\n<!-- 132279498609840&#45;&gt;132279498611904tanh -->\n<g id=\"edge13\" class=\"edge\">\n<title>132279498609840&#45;&gt;132279498611904tanh</title>\n<path fill=\"none\" stroke=\"black\" d=\"M1256.01,-72.5C1265.01,-72.5 1273.74,-72.5 1281.66,-72.5\"/>\n<polygon fill=\"black\" stroke=\"black\" points=\"1281.91,-76 1291.91,-72.5 1281.91,-69 1281.91,-76\"/>\n</g>\n<!-- 132279498609840+ -->\n<g id=\"node4\" class=\"node\">\n<title>132279498609840+</title>\n<ellipse fill=\"none\" stroke=\"black\" cx=\"1008\" cy=\"-72.5\" rx=\"27\" ry=\"18\"/>\n<text text-anchor=\"middle\" x=\"1008\" y=\"-68.8\" font-family=\"Times,serif\" font-size=\"14.00\">+</text>\n</g>\n<!-- 132279498609840+&#45;&gt;132279498609840 -->\n<g id=\"edge1\" class=\"edge\">\n<title>132279498609840+&#45;&gt;132279498609840</title>\n<path fill=\"none\" stroke=\"black\" d=\"M1035.04,-72.5C1042.58,-72.5 1051.3,-72.5 1060.57,-72.5\"/>\n<polygon fill=\"black\" stroke=\"black\" points=\"1060.81,-76 1070.81,-72.5 1060.81,-69 1060.81,-76\"/>\n</g>\n<!-- 132279498611904 -->\n<g id=\"node5\" class=\"node\">\n<title>132279498611904</title>\n<polygon fill=\"none\" stroke=\"black\" points=\"1382,-54.5 1382,-90.5 1567,-90.5 1567,-54.5 1382,-54.5\"/>\n<text text-anchor=\"middle\" x=\"1393.5\" y=\"-68.8\" font-family=\"Times,serif\" font-size=\"14.00\">o</text>\n<polyline fill=\"none\" stroke=\"black\" points=\"1405,-54.5 1405,-90.5 \"/>\n<text text-anchor=\"middle\" x=\"1445\" y=\"-68.8\" font-family=\"Times,serif\" font-size=\"14.00\">data 0.7071</text>\n<polyline fill=\"none\" stroke=\"black\" points=\"1485,-54.5 1485,-90.5 \"/>\n<text text-anchor=\"middle\" x=\"1526\" y=\"-68.8\" font-family=\"Times,serif\" font-size=\"14.00\">grad 1.0000</text>\n</g>\n<!-- 132279498611904tanh&#45;&gt;132279498611904 -->\n<g id=\"edge2\" class=\"edge\">\n<title>132279498611904tanh&#45;&gt;132279498611904</title>\n<path fill=\"none\" stroke=\"black\" d=\"M1346.04,-72.5C1353.58,-72.5 1362.3,-72.5 1371.57,-72.5\"/>\n<polygon fill=\"black\" stroke=\"black\" points=\"1371.81,-76 1381.81,-72.5 1371.81,-69 1371.81,-76\"/>\n</g>\n<!-- 132279498608832 -->\n<g id=\"node7\" class=\"node\">\n<title>132279498608832</title>\n<polygon fill=\"none\" stroke=\"black\" points=\"328.5,-55.5 328.5,-91.5 543.5,-91.5 543.5,-55.5 328.5,-55.5\"/>\n<text text-anchor=\"middle\" x=\"355\" y=\"-69.8\" font-family=\"Times,serif\" font-size=\"14.00\">x2*w2</text>\n<polyline fill=\"none\" stroke=\"black\" points=\"381.5,-55.5 381.5,-91.5 \"/>\n<text text-anchor=\"middle\" x=\"421.5\" y=\"-69.8\" font-family=\"Times,serif\" font-size=\"14.00\">data 0.0000</text>\n<polyline fill=\"none\" stroke=\"black\" points=\"461.5,-55.5 461.5,-91.5 \"/>\n<text text-anchor=\"middle\" x=\"502.5\" y=\"-69.8\" font-family=\"Times,serif\" font-size=\"14.00\">grad 0.5000</text>\n</g>\n<!-- 132279498613152+ -->\n<g id=\"node12\" class=\"node\">\n<title>132279498613152+</title>\n<ellipse fill=\"none\" stroke=\"black\" cx=\"609\" cy=\"-100.5\" rx=\"27\" ry=\"18\"/>\n<text text-anchor=\"middle\" x=\"609\" y=\"-96.8\" font-family=\"Times,serif\" font-size=\"14.00\">+</text>\n</g>\n<!-- 132279498608832&#45;&gt;132279498613152+ -->\n<g id=\"edge8\" class=\"edge\">\n<title>132279498608832&#45;&gt;132279498613152+</title>\n<path fill=\"none\" stroke=\"black\" d=\"M543.84,-90.37C554.01,-91.98 563.76,-93.51 572.44,-94.89\"/>\n<polygon fill=\"black\" stroke=\"black\" points=\"572.05,-98.37 582.47,-96.47 573.14,-91.45 572.05,-98.37\"/>\n</g>\n<!-- 132279498608832*&#45;&gt;132279498608832 -->\n<g id=\"edge3\" class=\"edge\">\n<title>132279498608832*&#45;&gt;132279498608832</title>\n<path fill=\"none\" stroke=\"black\" d=\"M290.34,-73.5C298.51,-73.5 308.08,-73.5 318.36,-73.5\"/>\n<polygon fill=\"black\" stroke=\"black\" points=\"318.39,-77 328.39,-73.5 318.39,-70 318.39,-77\"/>\n</g>\n<!-- 132279498618720 -->\n<g id=\"node9\" class=\"node\">\n<title>132279498618720</title>\n<polygon fill=\"none\" stroke=\"black\" points=\"2.5,-0.5 2.5,-36.5 197.5,-36.5 197.5,-0.5 2.5,-0.5\"/>\n<text text-anchor=\"middle\" x=\"19\" y=\"-14.8\" font-family=\"Times,serif\" font-size=\"14.00\">w2</text>\n<polyline fill=\"none\" stroke=\"black\" points=\"35.5,-0.5 35.5,-36.5 \"/>\n<text text-anchor=\"middle\" x=\"75.5\" y=\"-14.8\" font-family=\"Times,serif\" font-size=\"14.00\">data 1.0000</text>\n<polyline fill=\"none\" stroke=\"black\" points=\"115.5,-0.5 115.5,-36.5 \"/>\n<text text-anchor=\"middle\" x=\"156.5\" y=\"-14.8\" font-family=\"Times,serif\" font-size=\"14.00\">grad 0.0000</text>\n</g>\n<!-- 132279498618720&#45;&gt;132279498608832* -->\n<g id=\"edge7\" class=\"edge\">\n<title>132279498618720&#45;&gt;132279498608832*</title>\n<path fill=\"none\" stroke=\"black\" d=\"M169.28,-36.5C179.65,-39.61 190.16,-42.98 200,-46.5 210.28,-50.17 221.28,-54.74 231.11,-59.07\"/>\n<polygon fill=\"black\" stroke=\"black\" points=\"229.93,-62.37 240.48,-63.27 232.79,-55.99 229.93,-62.37\"/>\n</g>\n<!-- 132279498605424 -->\n<g id=\"node10\" class=\"node\">\n<title>132279498605424</title>\n<polygon fill=\"none\" stroke=\"black\" points=\"2,-110.5 2,-146.5 198,-146.5 198,-110.5 2,-110.5\"/>\n<text text-anchor=\"middle\" x=\"17\" y=\"-124.8\" font-family=\"Times,serif\" font-size=\"14.00\">x1</text>\n<polyline fill=\"none\" stroke=\"black\" points=\"32,-110.5 32,-146.5 \"/>\n<text text-anchor=\"middle\" x=\"72\" y=\"-124.8\" font-family=\"Times,serif\" font-size=\"14.00\">data 2.0000</text>\n<polyline fill=\"none\" stroke=\"black\" points=\"112,-110.5 112,-146.5 \"/>\n<text text-anchor=\"middle\" x=\"155\" y=\"-124.8\" font-family=\"Times,serif\" font-size=\"14.00\">grad &#45;1.5000</text>\n</g>\n<!-- 132279498605424&#45;&gt;132279498617808* -->\n<g id=\"edge9\" class=\"edge\">\n<title>132279498605424&#45;&gt;132279498617808*</title>\n<path fill=\"none\" stroke=\"black\" d=\"M198.37,-128.5C208.05,-128.5 217.4,-128.5 225.8,-128.5\"/>\n<polygon fill=\"black\" stroke=\"black\" points=\"225.91,-132 235.91,-128.5 225.91,-125 225.91,-132\"/>\n</g>\n<!-- 132279498613152 -->\n<g id=\"node11\" class=\"node\">\n<title>132279498613152</title>\n<polygon fill=\"none\" stroke=\"black\" points=\"672,-82.5 672,-118.5 945,-118.5 945,-82.5 672,-82.5\"/>\n<text text-anchor=\"middle\" x=\"725\" y=\"-96.8\" font-family=\"Times,serif\" font-size=\"14.00\">x1*w1 + x2*w2</text>\n<polyline fill=\"none\" stroke=\"black\" points=\"778,-82.5 778,-118.5 \"/>\n<text text-anchor=\"middle\" x=\"820.5\" y=\"-96.8\" font-family=\"Times,serif\" font-size=\"14.00\">data &#45;6.0000</text>\n<polyline fill=\"none\" stroke=\"black\" points=\"863,-82.5 863,-118.5 \"/>\n<text text-anchor=\"middle\" x=\"904\" y=\"-96.8\" font-family=\"Times,serif\" font-size=\"14.00\">grad 0.5000</text>\n</g>\n<!-- 132279498613152&#45;&gt;132279498609840+ -->\n<g id=\"edge14\" class=\"edge\">\n<title>132279498613152&#45;&gt;132279498609840+</title>\n<path fill=\"none\" stroke=\"black\" d=\"M936.53,-82.49C949.09,-80.71 960.99,-79.02 971.3,-77.56\"/>\n<polygon fill=\"black\" stroke=\"black\" points=\"972.03,-80.99 981.44,-76.12 971.05,-74.06 972.03,-80.99\"/>\n</g>\n<!-- 132279498613152+&#45;&gt;132279498613152 -->\n<g id=\"edge4\" class=\"edge\">\n<title>132279498613152+&#45;&gt;132279498613152</title>\n<path fill=\"none\" stroke=\"black\" d=\"M636.23,-100.5C643.7,-100.5 652.41,-100.5 661.87,-100.5\"/>\n<polygon fill=\"black\" stroke=\"black\" points=\"661.98,-104 671.98,-100.5 661.98,-97 661.98,-104\"/>\n</g>\n<!-- 132279498609600 -->\n<g id=\"node13\" class=\"node\">\n<title>132279498609600</title>\n<polygon fill=\"none\" stroke=\"black\" points=\"716,-27.5 716,-63.5 901,-63.5 901,-27.5 716,-27.5\"/>\n<text text-anchor=\"middle\" x=\"727.5\" y=\"-41.8\" font-family=\"Times,serif\" font-size=\"14.00\">b</text>\n<polyline fill=\"none\" stroke=\"black\" points=\"739,-27.5 739,-63.5 \"/>\n<text text-anchor=\"middle\" x=\"779\" y=\"-41.8\" font-family=\"Times,serif\" font-size=\"14.00\">data 6.8814</text>\n<polyline fill=\"none\" stroke=\"black\" points=\"819,-27.5 819,-63.5 \"/>\n<text text-anchor=\"middle\" x=\"860\" y=\"-41.8\" font-family=\"Times,serif\" font-size=\"14.00\">grad 0.5000</text>\n</g>\n<!-- 132279498609600&#45;&gt;132279498609840+ -->\n<g id=\"edge12\" class=\"edge\">\n<title>132279498609600&#45;&gt;132279498609840+</title>\n<path fill=\"none\" stroke=\"black\" d=\"M901.02,-58.01C926,-61.43 951.59,-64.93 971.37,-67.63\"/>\n<polygon fill=\"black\" stroke=\"black\" points=\"971.05,-71.12 981.43,-69.01 972,-64.18 971.05,-71.12\"/>\n</g>\n<!-- 132279498617808 -->\n<g id=\"node14\" class=\"node\">\n<title>132279498617808</title>\n<polygon fill=\"none\" stroke=\"black\" points=\"326,-110.5 326,-146.5 546,-146.5 546,-110.5 326,-110.5\"/>\n<text text-anchor=\"middle\" x=\"352.5\" y=\"-124.8\" font-family=\"Times,serif\" font-size=\"14.00\">x1*w1</text>\n<polyline fill=\"none\" stroke=\"black\" points=\"379,-110.5 379,-146.5 \"/>\n<text text-anchor=\"middle\" x=\"421.5\" y=\"-124.8\" font-family=\"Times,serif\" font-size=\"14.00\">data &#45;6.0000</text>\n<polyline fill=\"none\" stroke=\"black\" points=\"464,-110.5 464,-146.5 \"/>\n<text text-anchor=\"middle\" x=\"505\" y=\"-124.8\" font-family=\"Times,serif\" font-size=\"14.00\">grad 0.5000</text>\n</g>\n<!-- 132279498617808&#45;&gt;132279498613152+ -->\n<g id=\"edge10\" class=\"edge\">\n<title>132279498617808&#45;&gt;132279498613152+</title>\n<path fill=\"none\" stroke=\"black\" d=\"M546.27,-110.61C555.64,-109.07 564.6,-107.61 572.65,-106.29\"/>\n<polygon fill=\"black\" stroke=\"black\" points=\"573.35,-109.72 582.65,-104.65 572.22,-102.81 573.35,-109.72\"/>\n</g>\n<!-- 132279498617808*&#45;&gt;132279498617808 -->\n<g id=\"edge5\" class=\"edge\">\n<title>132279498617808*&#45;&gt;132279498617808</title>\n<path fill=\"none\" stroke=\"black\" d=\"M290.34,-128.5C297.77,-128.5 306.37,-128.5 315.6,-128.5\"/>\n<polygon fill=\"black\" stroke=\"black\" points=\"315.84,-132 325.84,-128.5 315.84,-125 315.84,-132\"/>\n</g>\n</g>\n</svg>\n",
            "text/plain": [
              "<graphviz.graphs.Digraph at 0x784eb886bbe0>"
            ]
          },
          "metadata": {},
          "execution_count": 124
        }
      ]
    },
    {
      "cell_type": "code",
      "source": [
        "# copy from above\n",
        "\n",
        "# inputs x1, x2\n",
        "x1 = Value(2.0, label='x1')\n",
        "x2 = Value(0.0, label='x2')\n",
        "# weights w1,s2\n",
        "w1 = Value(-3.0, label='w1')\n",
        "w2 = Value(1.0, label='w2')\n",
        "# bias of the neuron\n",
        "b = Value(6.8813735870195432, label='b')\n",
        "# x1*w1 + x2*w2 + b\n",
        "x1w1 = x1*w1; x1w1.label = 'x1*w1'\n",
        "x2w2 = x2*w2; x2w2.label = 'x2*w2'\n",
        "x1w1x2w2 = x1w1 + x2w2; x1w1x2w2.label = 'x1*w1 + x2*w2'\n",
        "n = x1w1x2w2 + b; n.label = 'n'\n",
        "# ---------\n",
        "e = (2*n).exp() ; e.label = 'e'\n",
        "o = (e - 1) / (e + 1)\n",
        "# ---------\n",
        "o.label = 'o'\n",
        "o.backward()\n",
        "draw_dot(o)"
      ],
      "metadata": {
        "colab": {
          "base_uri": "https://localhost:8080/",
          "height": 378
        },
        "id": "ktUIpLNVVVmK",
        "outputId": "7ba981aa-6a87-4093-b74b-f13633f2e3f5"
      },
      "execution_count": 125,
      "outputs": [
        {
          "output_type": "stream",
          "name": "stdout",
          "text": [
            "Value(data=1.7627471740390863)\n"
          ]
        },
        {
          "output_type": "execute_result",
          "data": {
            "image/svg+xml": "<?xml version=\"1.0\" encoding=\"UTF-8\" standalone=\"no\"?>\n<!DOCTYPE svg PUBLIC \"-//W3C//DTD SVG 1.1//EN\"\n \"http://www.w3.org/Graphics/SVG/1.1/DTD/svg11.dtd\">\n<!-- Generated by graphviz version 2.43.0 (0)\n -->\n<!-- Title: %3 Pages: 1 -->\n<svg width=\"2944pt\" height=\"239pt\"\n viewBox=\"0.00 0.00 2944.00 239.00\" xmlns=\"http://www.w3.org/2000/svg\" xmlns:xlink=\"http://www.w3.org/1999/xlink\">\n<g id=\"graph0\" class=\"graph\" transform=\"scale(1 1) rotate(0) translate(4 235)\">\n<title>%3</title>\n<polygon fill=\"white\" stroke=\"transparent\" points=\"-4,4 -4,-235 2940,-235 2940,4 -4,4\"/>\n<!-- 132279498616848 -->\n<g id=\"node1\" class=\"node\">\n<title>132279498616848</title>\n<polygon fill=\"none\" stroke=\"black\" points=\"2,-194.5 2,-230.5 198,-230.5 198,-194.5 2,-194.5\"/>\n<text text-anchor=\"middle\" x=\"17\" y=\"-208.8\" font-family=\"Times,serif\" font-size=\"14.00\">x1</text>\n<polyline fill=\"none\" stroke=\"black\" points=\"32,-194.5 32,-230.5 \"/>\n<text text-anchor=\"middle\" x=\"72\" y=\"-208.8\" font-family=\"Times,serif\" font-size=\"14.00\">data 2.0000</text>\n<polyline fill=\"none\" stroke=\"black\" points=\"112,-194.5 112,-230.5 \"/>\n<text text-anchor=\"middle\" x=\"155\" y=\"-208.8\" font-family=\"Times,serif\" font-size=\"14.00\">grad &#45;1.5000</text>\n</g>\n<!-- 132279498614544* -->\n<g id=\"node14\" class=\"node\">\n<title>132279498614544*</title>\n<ellipse fill=\"none\" stroke=\"black\" cx=\"263\" cy=\"-157.5\" rx=\"27\" ry=\"18\"/>\n<text text-anchor=\"middle\" x=\"263\" y=\"-153.8\" font-family=\"Times,serif\" font-size=\"14.00\">*</text>\n</g>\n<!-- 132279498616848&#45;&gt;132279498614544* -->\n<g id=\"edge19\" class=\"edge\">\n<title>132279498616848&#45;&gt;132279498614544*</title>\n<path fill=\"none\" stroke=\"black\" d=\"M172.53,-194.44C181.84,-191.67 191.2,-188.67 200,-185.5 210.53,-181.71 221.75,-176.9 231.72,-172.33\"/>\n<polygon fill=\"black\" stroke=\"black\" points=\"233.25,-175.48 240.82,-168.07 230.28,-169.14 233.25,-175.48\"/>\n</g>\n<!-- 132279498608688 -->\n<g id=\"node2\" class=\"node\">\n<title>132279498608688</title>\n<polygon fill=\"none\" stroke=\"black\" points=\"0,-139.5 0,-175.5 200,-175.5 200,-139.5 0,-139.5\"/>\n<text text-anchor=\"middle\" x=\"16.5\" y=\"-153.8\" font-family=\"Times,serif\" font-size=\"14.00\">w1</text>\n<polyline fill=\"none\" stroke=\"black\" points=\"33,-139.5 33,-175.5 \"/>\n<text text-anchor=\"middle\" x=\"75.5\" y=\"-153.8\" font-family=\"Times,serif\" font-size=\"14.00\">data &#45;3.0000</text>\n<polyline fill=\"none\" stroke=\"black\" points=\"118,-139.5 118,-175.5 \"/>\n<text text-anchor=\"middle\" x=\"159\" y=\"-153.8\" font-family=\"Times,serif\" font-size=\"14.00\">grad 1.0000</text>\n</g>\n<!-- 132279498608688&#45;&gt;132279498614544* -->\n<g id=\"edge16\" class=\"edge\">\n<title>132279498608688&#45;&gt;132279498614544*</title>\n<path fill=\"none\" stroke=\"black\" d=\"M200.21,-157.5C209.2,-157.5 217.86,-157.5 225.7,-157.5\"/>\n<polygon fill=\"black\" stroke=\"black\" points=\"225.85,-161 235.85,-157.5 225.85,-154 225.85,-161\"/>\n</g>\n<!-- 132279524990528 -->\n<g id=\"node3\" class=\"node\">\n<title>132279524990528</title>\n<polygon fill=\"none\" stroke=\"black\" points=\"1690.5,-0.5 1690.5,-36.5 1876.5,-36.5 1876.5,-0.5 1690.5,-0.5\"/>\n<text text-anchor=\"middle\" x=\"1700.5\" y=\"-14.8\" font-family=\"Times,serif\" font-size=\"14.00\"> </text>\n<polyline fill=\"none\" stroke=\"black\" points=\"1710.5,-0.5 1710.5,-36.5 \"/>\n<text text-anchor=\"middle\" x=\"1750.5\" y=\"-14.8\" font-family=\"Times,serif\" font-size=\"14.00\">data 1.0000</text>\n<polyline fill=\"none\" stroke=\"black\" points=\"1790.5,-0.5 1790.5,-36.5 \"/>\n<text text-anchor=\"middle\" x=\"1833.5\" y=\"-14.8\" font-family=\"Times,serif\" font-size=\"14.00\">grad &#45;0.1036</text>\n</g>\n<!-- 132279524991344+ -->\n<g id=\"node22\" class=\"node\">\n<title>132279524991344+</title>\n<ellipse fill=\"none\" stroke=\"black\" cx=\"1940\" cy=\"-45.5\" rx=\"27\" ry=\"18\"/>\n<text text-anchor=\"middle\" x=\"1940\" y=\"-41.8\" font-family=\"Times,serif\" font-size=\"14.00\">+</text>\n</g>\n<!-- 132279524990528&#45;&gt;132279524991344+ -->\n<g id=\"edge13\" class=\"edge\">\n<title>132279524990528&#45;&gt;132279524991344+</title>\n<path fill=\"none\" stroke=\"black\" d=\"M1876.6,-34.6C1886.15,-36.26 1895.37,-37.88 1903.68,-39.33\"/>\n<polygon fill=\"black\" stroke=\"black\" points=\"1903.2,-42.8 1913.65,-41.07 1904.4,-35.9 1903.2,-42.8\"/>\n</g>\n<!-- 132279524995664 -->\n<g id=\"node4\" class=\"node\">\n<title>132279524995664</title>\n<polygon fill=\"none\" stroke=\"black\" points=\"1691,-55.5 1691,-91.5 1876,-91.5 1876,-55.5 1691,-55.5\"/>\n<text text-anchor=\"middle\" x=\"1702.5\" y=\"-69.8\" font-family=\"Times,serif\" font-size=\"14.00\">e</text>\n<polyline fill=\"none\" stroke=\"black\" points=\"1714,-55.5 1714,-91.5 \"/>\n<text text-anchor=\"middle\" x=\"1754\" y=\"-69.8\" font-family=\"Times,serif\" font-size=\"14.00\">data 5.8284</text>\n<polyline fill=\"none\" stroke=\"black\" points=\"1794,-55.5 1794,-91.5 \"/>\n<text text-anchor=\"middle\" x=\"1835\" y=\"-69.8\" font-family=\"Times,serif\" font-size=\"14.00\">grad 0.0429</text>\n</g>\n<!-- 132279524986160+ -->\n<g id=\"node20\" class=\"node\">\n<title>132279524986160+</title>\n<ellipse fill=\"none\" stroke=\"black\" cx=\"1940\" cy=\"-100.5\" rx=\"27\" ry=\"18\"/>\n<text text-anchor=\"middle\" x=\"1940\" y=\"-96.8\" font-family=\"Times,serif\" font-size=\"14.00\">+</text>\n</g>\n<!-- 132279524995664&#45;&gt;132279524986160+ -->\n<g id=\"edge12\" class=\"edge\">\n<title>132279524995664&#45;&gt;132279524986160+</title>\n<path fill=\"none\" stroke=\"black\" d=\"M1876.16,-89.52C1885.84,-91.21 1895.22,-92.85 1903.64,-94.32\"/>\n<polygon fill=\"black\" stroke=\"black\" points=\"1903.29,-97.81 1913.75,-96.09 1904.5,-90.92 1903.29,-97.81\"/>\n</g>\n<!-- 132279524995664&#45;&gt;132279524991344+ -->\n<g id=\"edge15\" class=\"edge\">\n<title>132279524995664&#45;&gt;132279524991344+</title>\n<path fill=\"none\" stroke=\"black\" d=\"M1876.16,-56.89C1885.84,-55.13 1895.22,-53.43 1903.64,-51.91\"/>\n<polygon fill=\"black\" stroke=\"black\" points=\"1904.53,-55.3 1913.75,-50.08 1903.28,-48.42 1904.53,-55.3\"/>\n</g>\n<!-- 132279524995664exp -->\n<g id=\"node5\" class=\"node\">\n<title>132279524995664exp</title>\n<ellipse fill=\"none\" stroke=\"black\" cx=\"1627\" cy=\"-73.5\" rx=\"27\" ry=\"18\"/>\n<text text-anchor=\"middle\" x=\"1627\" y=\"-69.8\" font-family=\"Times,serif\" font-size=\"14.00\">exp</text>\n</g>\n<!-- 132279524995664exp&#45;&gt;132279524995664 -->\n<g id=\"edge1\" class=\"edge\">\n<title>132279524995664exp&#45;&gt;132279524995664</title>\n<path fill=\"none\" stroke=\"black\" d=\"M1654.21,-73.5C1662,-73.5 1671.05,-73.5 1680.67,-73.5\"/>\n<polygon fill=\"black\" stroke=\"black\" points=\"1680.87,-77 1690.87,-73.5 1680.87,-70 1680.87,-77\"/>\n</g>\n<!-- 132279498611328 -->\n<g id=\"node6\" class=\"node\">\n<title>132279498611328</title>\n<polygon fill=\"none\" stroke=\"black\" points=\"1382,-55.5 1382,-91.5 1564,-91.5 1564,-55.5 1382,-55.5\"/>\n<text text-anchor=\"middle\" x=\"1392\" y=\"-69.8\" font-family=\"Times,serif\" font-size=\"14.00\"> </text>\n<polyline fill=\"none\" stroke=\"black\" points=\"1402,-55.5 1402,-91.5 \"/>\n<text text-anchor=\"middle\" x=\"1442\" y=\"-69.8\" font-family=\"Times,serif\" font-size=\"14.00\">data 1.7627</text>\n<polyline fill=\"none\" stroke=\"black\" points=\"1482,-55.5 1482,-91.5 \"/>\n<text text-anchor=\"middle\" x=\"1523\" y=\"-69.8\" font-family=\"Times,serif\" font-size=\"14.00\">grad 0.2500</text>\n</g>\n<!-- 132279498611328&#45;&gt;132279524995664exp -->\n<g id=\"edge28\" class=\"edge\">\n<title>132279498611328&#45;&gt;132279524995664exp</title>\n<path fill=\"none\" stroke=\"black\" d=\"M1564.18,-73.5C1573.14,-73.5 1581.83,-73.5 1589.73,-73.5\"/>\n<polygon fill=\"black\" stroke=\"black\" points=\"1589.96,-77 1599.96,-73.5 1589.96,-70 1589.96,-77\"/>\n</g>\n<!-- 132279498611328* -->\n<g id=\"node7\" class=\"node\">\n<title>132279498611328*</title>\n<ellipse fill=\"none\" stroke=\"black\" cx=\"1319\" cy=\"-73.5\" rx=\"27\" ry=\"18\"/>\n<text text-anchor=\"middle\" x=\"1319\" y=\"-69.8\" font-family=\"Times,serif\" font-size=\"14.00\">*</text>\n</g>\n<!-- 132279498611328*&#45;&gt;132279498611328 -->\n<g id=\"edge2\" class=\"edge\">\n<title>132279498611328*&#45;&gt;132279498611328</title>\n<path fill=\"none\" stroke=\"black\" d=\"M1346.13,-73.5C1353.67,-73.5 1362.39,-73.5 1371.64,-73.5\"/>\n<polygon fill=\"black\" stroke=\"black\" points=\"1371.87,-77 1381.87,-73.5 1371.87,-70 1371.87,-77\"/>\n</g>\n<!-- 132279524995232 -->\n<g id=\"node8\" class=\"node\">\n<title>132279524995232</title>\n<polygon fill=\"none\" stroke=\"black\" points=\"2443,-31.5 2443,-67.5 2625,-67.5 2625,-31.5 2443,-31.5\"/>\n<text text-anchor=\"middle\" x=\"2453\" y=\"-45.8\" font-family=\"Times,serif\" font-size=\"14.00\"> </text>\n<polyline fill=\"none\" stroke=\"black\" points=\"2463,-31.5 2463,-67.5 \"/>\n<text text-anchor=\"middle\" x=\"2503\" y=\"-45.8\" font-family=\"Times,serif\" font-size=\"14.00\">data 0.1464</text>\n<polyline fill=\"none\" stroke=\"black\" points=\"2543,-31.5 2543,-67.5 \"/>\n<text text-anchor=\"middle\" x=\"2584\" y=\"-45.8\" font-family=\"Times,serif\" font-size=\"14.00\">grad 4.8284</text>\n</g>\n<!-- 132279524987792* -->\n<g id=\"node24\" class=\"node\">\n<title>132279524987792*</title>\n<ellipse fill=\"none\" stroke=\"black\" cx=\"2688\" cy=\"-72.5\" rx=\"27\" ry=\"18\"/>\n<text text-anchor=\"middle\" x=\"2688\" y=\"-68.8\" font-family=\"Times,serif\" font-size=\"14.00\">*</text>\n</g>\n<!-- 132279524995232&#45;&gt;132279524987792* -->\n<g id=\"edge27\" class=\"edge\">\n<title>132279524995232&#45;&gt;132279524987792*</title>\n<path fill=\"none\" stroke=\"black\" d=\"M2625.18,-63.15C2634.42,-64.54 2643.38,-65.9 2651.47,-67.12\"/>\n<polygon fill=\"black\" stroke=\"black\" points=\"2651.15,-70.61 2661.56,-68.65 2652.19,-63.69 2651.15,-70.61\"/>\n</g>\n<!-- 132279524995232**&#45;1 -->\n<g id=\"node9\" class=\"node\">\n<title>132279524995232**&#45;1</title>\n<ellipse fill=\"none\" stroke=\"black\" cx=\"2316\" cy=\"-45.5\" rx=\"27\" ry=\"18\"/>\n<text text-anchor=\"middle\" x=\"2316\" y=\"-41.8\" font-family=\"Times,serif\" font-size=\"14.00\">**&#45;1</text>\n</g>\n<!-- 132279524995232**&#45;1&#45;&gt;132279524995232 -->\n<g id=\"edge3\" class=\"edge\">\n<title>132279524995232**&#45;1&#45;&gt;132279524995232</title>\n<path fill=\"none\" stroke=\"black\" d=\"M2343.05,-45.98C2365.53,-46.4 2399.48,-47.03 2432.5,-47.64\"/>\n<polygon fill=\"black\" stroke=\"black\" points=\"2432.64,-51.14 2442.7,-47.83 2432.77,-44.14 2432.64,-51.14\"/>\n</g>\n<!-- 132279498611424 -->\n<g id=\"node10\" class=\"node\">\n<title>132279498611424</title>\n<polygon fill=\"none\" stroke=\"black\" points=\"672,-111.5 672,-147.5 945,-147.5 945,-111.5 672,-111.5\"/>\n<text text-anchor=\"middle\" x=\"725\" y=\"-125.8\" font-family=\"Times,serif\" font-size=\"14.00\">x1*w1 + x2*w2</text>\n<polyline fill=\"none\" stroke=\"black\" points=\"778,-111.5 778,-147.5 \"/>\n<text text-anchor=\"middle\" x=\"820.5\" y=\"-125.8\" font-family=\"Times,serif\" font-size=\"14.00\">data &#45;6.0000</text>\n<polyline fill=\"none\" stroke=\"black\" points=\"863,-111.5 863,-147.5 \"/>\n<text text-anchor=\"middle\" x=\"904\" y=\"-125.8\" font-family=\"Times,serif\" font-size=\"14.00\">grad 0.5000</text>\n</g>\n<!-- 132279498605856+ -->\n<g id=\"node17\" class=\"node\">\n<title>132279498605856+</title>\n<ellipse fill=\"none\" stroke=\"black\" cx=\"1008\" cy=\"-101.5\" rx=\"27\" ry=\"18\"/>\n<text text-anchor=\"middle\" x=\"1008\" y=\"-97.8\" font-family=\"Times,serif\" font-size=\"14.00\">+</text>\n</g>\n<!-- 132279498611424&#45;&gt;132279498605856+ -->\n<g id=\"edge18\" class=\"edge\">\n<title>132279498611424&#45;&gt;132279498605856+</title>\n<path fill=\"none\" stroke=\"black\" d=\"M936.53,-111.49C949.09,-109.71 960.99,-108.02 971.3,-106.56\"/>\n<polygon fill=\"black\" stroke=\"black\" points=\"972.03,-109.99 981.44,-105.12 971.05,-103.06 972.03,-109.99\"/>\n</g>\n<!-- 132279498611424+ -->\n<g id=\"node11\" class=\"node\">\n<title>132279498611424+</title>\n<ellipse fill=\"none\" stroke=\"black\" cx=\"609\" cy=\"-129.5\" rx=\"27\" ry=\"18\"/>\n<text text-anchor=\"middle\" x=\"609\" y=\"-125.8\" font-family=\"Times,serif\" font-size=\"14.00\">+</text>\n</g>\n<!-- 132279498611424+&#45;&gt;132279498611424 -->\n<g id=\"edge4\" class=\"edge\">\n<title>132279498611424+&#45;&gt;132279498611424</title>\n<path fill=\"none\" stroke=\"black\" d=\"M636.23,-129.5C643.7,-129.5 652.41,-129.5 661.87,-129.5\"/>\n<polygon fill=\"black\" stroke=\"black\" points=\"661.98,-133 671.98,-129.5 661.98,-126 661.98,-133\"/>\n</g>\n<!-- 132279498615552 -->\n<g id=\"node12\" class=\"node\">\n<title>132279498615552</title>\n<polygon fill=\"none\" stroke=\"black\" points=\"4,-84.5 4,-120.5 196,-120.5 196,-84.5 4,-84.5\"/>\n<text text-anchor=\"middle\" x=\"19\" y=\"-98.8\" font-family=\"Times,serif\" font-size=\"14.00\">x2</text>\n<polyline fill=\"none\" stroke=\"black\" points=\"34,-84.5 34,-120.5 \"/>\n<text text-anchor=\"middle\" x=\"74\" y=\"-98.8\" font-family=\"Times,serif\" font-size=\"14.00\">data 0.0000</text>\n<polyline fill=\"none\" stroke=\"black\" points=\"114,-84.5 114,-120.5 \"/>\n<text text-anchor=\"middle\" x=\"155\" y=\"-98.8\" font-family=\"Times,serif\" font-size=\"14.00\">grad 0.5000</text>\n</g>\n<!-- 132279498619824* -->\n<g id=\"node26\" class=\"node\">\n<title>132279498619824*</title>\n<ellipse fill=\"none\" stroke=\"black\" cx=\"263\" cy=\"-102.5\" rx=\"27\" ry=\"18\"/>\n<text text-anchor=\"middle\" x=\"263\" y=\"-98.8\" font-family=\"Times,serif\" font-size=\"14.00\">*</text>\n</g>\n<!-- 132279498615552&#45;&gt;132279498619824* -->\n<g id=\"edge21\" class=\"edge\">\n<title>132279498615552&#45;&gt;132279498619824*</title>\n<path fill=\"none\" stroke=\"black\" d=\"M196.05,-102.5C206.52,-102.5 216.65,-102.5 225.71,-102.5\"/>\n<polygon fill=\"black\" stroke=\"black\" points=\"225.79,-106 235.79,-102.5 225.79,-99 225.79,-106\"/>\n</g>\n<!-- 132279498614544 -->\n<g id=\"node13\" class=\"node\">\n<title>132279498614544</title>\n<polygon fill=\"none\" stroke=\"black\" points=\"326,-139.5 326,-175.5 546,-175.5 546,-139.5 326,-139.5\"/>\n<text text-anchor=\"middle\" x=\"352.5\" y=\"-153.8\" font-family=\"Times,serif\" font-size=\"14.00\">x1*w1</text>\n<polyline fill=\"none\" stroke=\"black\" points=\"379,-139.5 379,-175.5 \"/>\n<text text-anchor=\"middle\" x=\"421.5\" y=\"-153.8\" font-family=\"Times,serif\" font-size=\"14.00\">data &#45;6.0000</text>\n<polyline fill=\"none\" stroke=\"black\" points=\"464,-139.5 464,-175.5 \"/>\n<text text-anchor=\"middle\" x=\"505\" y=\"-153.8\" font-family=\"Times,serif\" font-size=\"14.00\">grad 0.5000</text>\n</g>\n<!-- 132279498614544&#45;&gt;132279498611424+ -->\n<g id=\"edge26\" class=\"edge\">\n<title>132279498614544&#45;&gt;132279498611424+</title>\n<path fill=\"none\" stroke=\"black\" d=\"M546.27,-139.61C555.64,-138.07 564.6,-136.61 572.65,-135.29\"/>\n<polygon fill=\"black\" stroke=\"black\" points=\"573.35,-138.72 582.65,-133.65 572.22,-131.81 573.35,-138.72\"/>\n</g>\n<!-- 132279498614544*&#45;&gt;132279498614544 -->\n<g id=\"edge5\" class=\"edge\">\n<title>132279498614544*&#45;&gt;132279498614544</title>\n<path fill=\"none\" stroke=\"black\" d=\"M290.34,-157.5C297.77,-157.5 306.37,-157.5 315.6,-157.5\"/>\n<polygon fill=\"black\" stroke=\"black\" points=\"315.84,-161 325.84,-157.5 315.84,-154 315.84,-161\"/>\n</g>\n<!-- 132279498607392 -->\n<g id=\"node15\" class=\"node\">\n<title>132279498607392</title>\n<polygon fill=\"none\" stroke=\"black\" points=\"1072.5,-28.5 1072.5,-64.5 1254.5,-64.5 1254.5,-28.5 1072.5,-28.5\"/>\n<text text-anchor=\"middle\" x=\"1082.5\" y=\"-42.8\" font-family=\"Times,serif\" font-size=\"14.00\"> </text>\n<polyline fill=\"none\" stroke=\"black\" points=\"1092.5,-28.5 1092.5,-64.5 \"/>\n<text text-anchor=\"middle\" x=\"1132.5\" y=\"-42.8\" font-family=\"Times,serif\" font-size=\"14.00\">data 2.0000</text>\n<polyline fill=\"none\" stroke=\"black\" points=\"1172.5,-28.5 1172.5,-64.5 \"/>\n<text text-anchor=\"middle\" x=\"1213.5\" y=\"-42.8\" font-family=\"Times,serif\" font-size=\"14.00\">grad 0.2203</text>\n</g>\n<!-- 132279498607392&#45;&gt;132279498611328* -->\n<g id=\"edge24\" class=\"edge\">\n<title>132279498607392&#45;&gt;132279498611328*</title>\n<path fill=\"none\" stroke=\"black\" d=\"M1254.68,-62.36C1264.61,-64.11 1274.23,-65.8 1282.84,-67.32\"/>\n<polygon fill=\"black\" stroke=\"black\" points=\"1282.36,-70.78 1292.81,-69.07 1283.57,-63.89 1282.36,-70.78\"/>\n</g>\n<!-- 132279498605856 -->\n<g id=\"node16\" class=\"node\">\n<title>132279498605856</title>\n<polygon fill=\"none\" stroke=\"black\" points=\"1071,-83.5 1071,-119.5 1256,-119.5 1256,-83.5 1071,-83.5\"/>\n<text text-anchor=\"middle\" x=\"1082.5\" y=\"-97.8\" font-family=\"Times,serif\" font-size=\"14.00\">n</text>\n<polyline fill=\"none\" stroke=\"black\" points=\"1094,-83.5 1094,-119.5 \"/>\n<text text-anchor=\"middle\" x=\"1134\" y=\"-97.8\" font-family=\"Times,serif\" font-size=\"14.00\">data 0.8814</text>\n<polyline fill=\"none\" stroke=\"black\" points=\"1174,-83.5 1174,-119.5 \"/>\n<text text-anchor=\"middle\" x=\"1215\" y=\"-97.8\" font-family=\"Times,serif\" font-size=\"14.00\">grad 0.5000</text>\n</g>\n<!-- 132279498605856&#45;&gt;132279498611328* -->\n<g id=\"edge25\" class=\"edge\">\n<title>132279498605856&#45;&gt;132279498611328*</title>\n<path fill=\"none\" stroke=\"black\" d=\"M1256.01,-84.81C1265.49,-83.08 1274.66,-81.41 1282.9,-79.9\"/>\n<polygon fill=\"black\" stroke=\"black\" points=\"1283.6,-83.33 1292.81,-78.09 1282.35,-76.45 1283.6,-83.33\"/>\n</g>\n<!-- 132279498605856+&#45;&gt;132279498605856 -->\n<g id=\"edge6\" class=\"edge\">\n<title>132279498605856+&#45;&gt;132279498605856</title>\n<path fill=\"none\" stroke=\"black\" d=\"M1035.04,-101.5C1042.58,-101.5 1051.3,-101.5 1060.57,-101.5\"/>\n<polygon fill=\"black\" stroke=\"black\" points=\"1060.81,-105 1070.81,-101.5 1060.81,-98 1060.81,-105\"/>\n</g>\n<!-- 132279498617136 -->\n<g id=\"node18\" class=\"node\">\n<title>132279498617136</title>\n<polygon fill=\"none\" stroke=\"black\" points=\"716,-56.5 716,-92.5 901,-92.5 901,-56.5 716,-56.5\"/>\n<text text-anchor=\"middle\" x=\"727.5\" y=\"-70.8\" font-family=\"Times,serif\" font-size=\"14.00\">b</text>\n<polyline fill=\"none\" stroke=\"black\" points=\"739,-56.5 739,-92.5 \"/>\n<text text-anchor=\"middle\" x=\"779\" y=\"-70.8\" font-family=\"Times,serif\" font-size=\"14.00\">data 6.8814</text>\n<polyline fill=\"none\" stroke=\"black\" points=\"819,-56.5 819,-92.5 \"/>\n<text text-anchor=\"middle\" x=\"860\" y=\"-70.8\" font-family=\"Times,serif\" font-size=\"14.00\">grad 0.5000</text>\n</g>\n<!-- 132279498617136&#45;&gt;132279498605856+ -->\n<g id=\"edge11\" class=\"edge\">\n<title>132279498617136&#45;&gt;132279498605856+</title>\n<path fill=\"none\" stroke=\"black\" d=\"M901.02,-87.01C926,-90.43 951.59,-93.93 971.37,-96.63\"/>\n<polygon fill=\"black\" stroke=\"black\" points=\"971.05,-100.12 981.43,-98.01 972,-93.18 971.05,-100.12\"/>\n</g>\n<!-- 132279524986160 -->\n<g id=\"node19\" class=\"node\">\n<title>132279524986160</title>\n<polygon fill=\"none\" stroke=\"black\" points=\"2225,-82.5 2225,-118.5 2407,-118.5 2407,-82.5 2225,-82.5\"/>\n<text text-anchor=\"middle\" x=\"2235\" y=\"-96.8\" font-family=\"Times,serif\" font-size=\"14.00\"> </text>\n<polyline fill=\"none\" stroke=\"black\" points=\"2245,-82.5 2245,-118.5 \"/>\n<text text-anchor=\"middle\" x=\"2285\" y=\"-96.8\" font-family=\"Times,serif\" font-size=\"14.00\">data 4.8284</text>\n<polyline fill=\"none\" stroke=\"black\" points=\"2325,-82.5 2325,-118.5 \"/>\n<text text-anchor=\"middle\" x=\"2366\" y=\"-96.8\" font-family=\"Times,serif\" font-size=\"14.00\">grad 0.1464</text>\n</g>\n<!-- 132279524986160&#45;&gt;132279524987792* -->\n<g id=\"edge14\" class=\"edge\">\n<title>132279524986160&#45;&gt;132279524987792*</title>\n<path fill=\"none\" stroke=\"black\" d=\"M2407.31,-93.9C2468.7,-89.37 2551.76,-83.19 2625,-77.5 2633.42,-76.85 2642.48,-76.13 2651.01,-75.44\"/>\n<polygon fill=\"black\" stroke=\"black\" points=\"2651.37,-78.92 2661.06,-74.63 2650.81,-71.94 2651.37,-78.92\"/>\n</g>\n<!-- 132279524986160+&#45;&gt;132279524986160 -->\n<g id=\"edge7\" class=\"edge\">\n<title>132279524986160+&#45;&gt;132279524986160</title>\n<path fill=\"none\" stroke=\"black\" d=\"M1967,-100.5C2017.46,-100.5 2131.06,-100.5 2214.81,-100.5\"/>\n<polygon fill=\"black\" stroke=\"black\" points=\"2214.87,-104 2224.87,-100.5 2214.87,-97 2214.87,-104\"/>\n</g>\n<!-- 132279524991344 -->\n<g id=\"node21\" class=\"node\">\n<title>132279524991344</title>\n<polygon fill=\"none\" stroke=\"black\" points=\"2003,-27.5 2003,-63.5 2189,-63.5 2189,-27.5 2003,-27.5\"/>\n<text text-anchor=\"middle\" x=\"2013\" y=\"-41.8\" font-family=\"Times,serif\" font-size=\"14.00\"> </text>\n<polyline fill=\"none\" stroke=\"black\" points=\"2023,-27.5 2023,-63.5 \"/>\n<text text-anchor=\"middle\" x=\"2063\" y=\"-41.8\" font-family=\"Times,serif\" font-size=\"14.00\">data 6.8284</text>\n<polyline fill=\"none\" stroke=\"black\" points=\"2103,-27.5 2103,-63.5 \"/>\n<text text-anchor=\"middle\" x=\"2146\" y=\"-41.8\" font-family=\"Times,serif\" font-size=\"14.00\">grad &#45;0.1036</text>\n</g>\n<!-- 132279524991344&#45;&gt;132279524995232**&#45;1 -->\n<g id=\"edge23\" class=\"edge\">\n<title>132279524991344&#45;&gt;132279524995232**&#45;1</title>\n<path fill=\"none\" stroke=\"black\" d=\"M2189.14,-45.5C2220.72,-45.5 2254.24,-45.5 2278.74,-45.5\"/>\n<polygon fill=\"black\" stroke=\"black\" points=\"2278.98,-49 2288.98,-45.5 2278.98,-42 2278.98,-49\"/>\n</g>\n<!-- 132279524991344+&#45;&gt;132279524991344 -->\n<g id=\"edge8\" class=\"edge\">\n<title>132279524991344+&#45;&gt;132279524991344</title>\n<path fill=\"none\" stroke=\"black\" d=\"M1967.12,-45.5C1974.62,-45.5 1983.29,-45.5 1992.5,-45.5\"/>\n<polygon fill=\"black\" stroke=\"black\" points=\"1992.69,-49 2002.69,-45.5 1992.69,-42 1992.69,-49\"/>\n</g>\n<!-- 132279524987792 -->\n<g id=\"node23\" class=\"node\">\n<title>132279524987792</title>\n<polygon fill=\"none\" stroke=\"black\" points=\"2751,-54.5 2751,-90.5 2936,-90.5 2936,-54.5 2751,-54.5\"/>\n<text text-anchor=\"middle\" x=\"2762.5\" y=\"-68.8\" font-family=\"Times,serif\" font-size=\"14.00\">o</text>\n<polyline fill=\"none\" stroke=\"black\" points=\"2774,-54.5 2774,-90.5 \"/>\n<text text-anchor=\"middle\" x=\"2814\" y=\"-68.8\" font-family=\"Times,serif\" font-size=\"14.00\">data 0.7071</text>\n<polyline fill=\"none\" stroke=\"black\" points=\"2854,-54.5 2854,-90.5 \"/>\n<text text-anchor=\"middle\" x=\"2895\" y=\"-68.8\" font-family=\"Times,serif\" font-size=\"14.00\">grad 1.0000</text>\n</g>\n<!-- 132279524987792*&#45;&gt;132279524987792 -->\n<g id=\"edge9\" class=\"edge\">\n<title>132279524987792*&#45;&gt;132279524987792</title>\n<path fill=\"none\" stroke=\"black\" d=\"M2715.04,-72.5C2722.58,-72.5 2731.3,-72.5 2740.57,-72.5\"/>\n<polygon fill=\"black\" stroke=\"black\" points=\"2740.81,-76 2750.81,-72.5 2740.81,-69 2740.81,-76\"/>\n</g>\n<!-- 132279498619824 -->\n<g id=\"node25\" class=\"node\">\n<title>132279498619824</title>\n<polygon fill=\"none\" stroke=\"black\" points=\"328.5,-84.5 328.5,-120.5 543.5,-120.5 543.5,-84.5 328.5,-84.5\"/>\n<text text-anchor=\"middle\" x=\"355\" y=\"-98.8\" font-family=\"Times,serif\" font-size=\"14.00\">x2*w2</text>\n<polyline fill=\"none\" stroke=\"black\" points=\"381.5,-84.5 381.5,-120.5 \"/>\n<text text-anchor=\"middle\" x=\"421.5\" y=\"-98.8\" font-family=\"Times,serif\" font-size=\"14.00\">data 0.0000</text>\n<polyline fill=\"none\" stroke=\"black\" points=\"461.5,-84.5 461.5,-120.5 \"/>\n<text text-anchor=\"middle\" x=\"502.5\" y=\"-98.8\" font-family=\"Times,serif\" font-size=\"14.00\">grad 0.5000</text>\n</g>\n<!-- 132279498619824&#45;&gt;132279498611424+ -->\n<g id=\"edge20\" class=\"edge\">\n<title>132279498619824&#45;&gt;132279498611424+</title>\n<path fill=\"none\" stroke=\"black\" d=\"M543.84,-119.37C554.01,-120.98 563.76,-122.51 572.44,-123.89\"/>\n<polygon fill=\"black\" stroke=\"black\" points=\"572.05,-127.37 582.47,-125.47 573.14,-120.45 572.05,-127.37\"/>\n</g>\n<!-- 132279498619824*&#45;&gt;132279498619824 -->\n<g id=\"edge10\" class=\"edge\">\n<title>132279498619824*&#45;&gt;132279498619824</title>\n<path fill=\"none\" stroke=\"black\" d=\"M290.34,-102.5C298.51,-102.5 308.08,-102.5 318.36,-102.5\"/>\n<polygon fill=\"black\" stroke=\"black\" points=\"318.39,-106 328.39,-102.5 318.39,-99 318.39,-106\"/>\n</g>\n<!-- 132279498604944 -->\n<g id=\"node27\" class=\"node\">\n<title>132279498604944</title>\n<polygon fill=\"none\" stroke=\"black\" points=\"2.5,-29.5 2.5,-65.5 197.5,-65.5 197.5,-29.5 2.5,-29.5\"/>\n<text text-anchor=\"middle\" x=\"19\" y=\"-43.8\" font-family=\"Times,serif\" font-size=\"14.00\">w2</text>\n<polyline fill=\"none\" stroke=\"black\" points=\"35.5,-29.5 35.5,-65.5 \"/>\n<text text-anchor=\"middle\" x=\"75.5\" y=\"-43.8\" font-family=\"Times,serif\" font-size=\"14.00\">data 1.0000</text>\n<polyline fill=\"none\" stroke=\"black\" points=\"115.5,-29.5 115.5,-65.5 \"/>\n<text text-anchor=\"middle\" x=\"156.5\" y=\"-43.8\" font-family=\"Times,serif\" font-size=\"14.00\">grad 0.0000</text>\n</g>\n<!-- 132279498604944&#45;&gt;132279498619824* -->\n<g id=\"edge22\" class=\"edge\">\n<title>132279498604944&#45;&gt;132279498619824*</title>\n<path fill=\"none\" stroke=\"black\" d=\"M169.28,-65.5C179.65,-68.61 190.16,-71.98 200,-75.5 210.28,-79.17 221.28,-83.74 231.11,-88.07\"/>\n<polygon fill=\"black\" stroke=\"black\" points=\"229.93,-91.37 240.48,-92.27 232.79,-84.99 229.93,-91.37\"/>\n</g>\n<!-- 132279524984816 -->\n<g id=\"node28\" class=\"node\">\n<title>132279524984816</title>\n<polygon fill=\"none\" stroke=\"black\" points=\"1690,-110.5 1690,-146.5 1877,-146.5 1877,-110.5 1690,-110.5\"/>\n<text text-anchor=\"middle\" x=\"1700\" y=\"-124.8\" font-family=\"Times,serif\" font-size=\"14.00\"> </text>\n<polyline fill=\"none\" stroke=\"black\" points=\"1710,-110.5 1710,-146.5 \"/>\n<text text-anchor=\"middle\" x=\"1752.5\" y=\"-124.8\" font-family=\"Times,serif\" font-size=\"14.00\">data &#45;1.0000</text>\n<polyline fill=\"none\" stroke=\"black\" points=\"1795,-110.5 1795,-146.5 \"/>\n<text text-anchor=\"middle\" x=\"1836\" y=\"-124.8\" font-family=\"Times,serif\" font-size=\"14.00\">grad 0.1464</text>\n</g>\n<!-- 132279524984816&#45;&gt;132279524986160+ -->\n<g id=\"edge17\" class=\"edge\">\n<title>132279524984816&#45;&gt;132279524986160+</title>\n<path fill=\"none\" stroke=\"black\" d=\"M1877.05,-111.73C1886.54,-110.01 1895.71,-108.35 1903.95,-106.85\"/>\n<polygon fill=\"black\" stroke=\"black\" points=\"1904.64,-110.28 1913.85,-105.06 1903.39,-103.4 1904.64,-110.28\"/>\n</g>\n</g>\n</svg>\n",
            "text/plain": [
              "<graphviz.graphs.Digraph at 0x784eb886aa70>"
            ]
          },
          "metadata": {},
          "execution_count": 125
        }
      ]
    },
    {
      "cell_type": "markdown",
      "source": [
        "# 4/18/2024"
      ],
      "metadata": {
        "id": "EF495Pp-2xGe"
      }
    },
    {
      "cell_type": "markdown",
      "source": [
        "## doing the same thing but in PyTorch\n",
        "\n",
        "micrograd is scalar, pytorch is tensor based.\n",
        "Tensor is n dimentional array\n",
        "\n",
        "* calling double function to convert default float32 value to float64 for higher precision"
      ],
      "metadata": {
        "id": "Oa_2NzOe22Rm"
      }
    },
    {
      "cell_type": "code",
      "source": [
        "import torch\n",
        "\n",
        "x1 = torch.Tensor([2.0]).double() ; x1.requires_grad = True\n",
        "x2 = torch.Tensor([0.0]).double() ; x2.requires_grad = True\n",
        "w1 = torch.Tensor([-3.0]).double() ; w1.requires_grad = True\n",
        "w2 = torch.Tensor([1.0]).double() ; w2.requires_grad = True\n",
        "b = torch.Tensor([6.8813735870195432]).double() ; b.requires_grad = True\n",
        "n = x1*w1 + x2*w2 + b\n",
        "o = torch.tanh(n)\n",
        "\n",
        "print(o.data.item())\n",
        "o.backward()\n",
        "\n",
        "print('---')\n",
        "print('x2', x2.grad.item())\n",
        "print('w2', w2.grad.item())\n",
        "print('x1', x1.grad.item())\n",
        "print('w1', w1.grad.item())"
      ],
      "metadata": {
        "colab": {
          "base_uri": "https://localhost:8080/"
        },
        "id": "Fkm8LxCXWLlj",
        "outputId": "e8831eca-1d21-4f0f-f80b-96399d8a3ed1"
      },
      "execution_count": 126,
      "outputs": [
        {
          "output_type": "stream",
          "name": "stdout",
          "text": [
            "0.7071066904050358\n",
            "---\n",
            "x2 0.5000001283844369\n",
            "w2 0.0\n",
            "x1 -1.5000003851533106\n",
            "w1 1.0000002567688737\n"
          ]
        }
      ]
    },
    {
      "cell_type": "markdown",
      "source": [
        "as we see above, the forward check, o = 0.7071 match with value above,\n",
        "and also the backward check agrees with the value above as well.\n",
        "\n",
        "What was built for the micrograd is same as pytorch, but it has more features and efficient then the micrograd."
      ],
      "metadata": {
        "id": "TtgKBy1B9QdX"
      }
    },
    {
      "cell_type": "markdown",
      "source": [
        "## Building out a neural net library (multi-layer perceptron) in micrograd"
      ],
      "metadata": {
        "id": "Sos78HbP9_if"
      }
    },
    {
      "cell_type": "markdown",
      "source": [
        "\"neural net is just a specific class of mathemetical expression\""
      ],
      "metadata": {
        "id": "NCkWycTK_EjT"
      }
    },
    {
      "cell_type": "markdown",
      "source": [
        "### Neuron, Layer, MLP classes"
      ],
      "metadata": {
        "id": "pQk8GbKZQJbh"
      }
    },
    {
      "cell_type": "code",
      "source": [
        "import random"
      ],
      "metadata": {
        "id": "2B5LFHk2_nR-"
      },
      "execution_count": 127,
      "outputs": []
    },
    {
      "cell_type": "code",
      "source": [
        "class Neuron:\n",
        "  def __init__(self, nin):                                        # number of inputs for this neuron\n",
        "    self.w = [Value(random.uniform(-1,1)) for _ in range(nin)]    # create weight for each input\n",
        "    self.b = Value(random.uniform(-1,1))                          # bias that controls overall happiness of the neuron\n",
        "\n",
        "  def __call__(self, x):\n",
        "    # w * x + b\n",
        "    act = sum((wi*xi for wi, xi in zip(self.w, x)), self.b)   # dot product\n",
        "    out = act.tanh()\n",
        "    return out\n",
        "\n",
        "  def parameters(self):\n",
        "    return self.w + [self.b]\n",
        "#--------------------------------------------------------\n",
        "\n",
        "class Layer:\n",
        "  def __init__(self, nin, nout):\n",
        "    self.neurons = [Neuron(nin) for _ in range(nout)]\n",
        "\n",
        "  def __call__(self, x):\n",
        "    outs = [n(x) for n in self.neurons]\n",
        "    return outs[0] if len(outs) == 1 else outs\n",
        "\n",
        "  def parameters(self):\n",
        "    return [p for neuron in self.neurons for p in neuron.parameters()]\n",
        "\n",
        "    # params = []\n",
        "    # for neuron in self.neurons:\n",
        "    #   ps = neuron.parameters()\n",
        "    #   params.extend(ps)\n",
        "    # return params\n",
        "\n",
        "#--------------------------------------------------------\n",
        "\n",
        "class MLP:\n",
        "  def __init__(self, nin, nouts):\n",
        "    sz = [nin] + nouts\n",
        "    self.layers = [Layer(sz[i], sz[i+1]) for i in range(len(nouts))]\n",
        "\n",
        "  def __call__(self, x):\n",
        "    for layer in self.layers:\n",
        "      x = layer(x)\n",
        "    return x\n",
        "\n",
        "  def parameters(self):\n",
        "    return [p for layer in self.layers for p in layer.parameters()]\n",
        "\n",
        "\n",
        "# x = [2.0, 3.0, -1.0]     # input\n",
        "# n = MLP(3, [4, 4, 1])    # 3 inputs, 2 layers of 4 neurons and 1 layer of output with 1 neuron\n",
        "# n(x)"
      ],
      "metadata": {
        "id": "i-yrHiR59K4d"
      },
      "execution_count": 247,
      "outputs": []
    },
    {
      "cell_type": "code",
      "source": [
        "x = [2.0, 3.0, -1.0]     # input\n",
        "n = MLP(3, [4, 4, 1])    # 3 inputs, 2 layers of 4 neurons and 1 layer of output with 1 neuron\n",
        "n(x)"
      ],
      "metadata": {
        "colab": {
          "base_uri": "https://localhost:8080/"
        },
        "id": "zzwtbvDQPYoy",
        "outputId": "c409aef6-c79e-4d15-905d-70f1bc96cbcc"
      },
      "execution_count": 254,
      "outputs": [
        {
          "output_type": "execute_result",
          "data": {
            "text/plain": [
              "Value(data=0.7379144944743825)"
            ]
          },
          "metadata": {},
          "execution_count": 254
        }
      ]
    },
    {
      "cell_type": "code",
      "source": [
        "n.parameters()\n",
        "print(len(n.parameters()))"
      ],
      "metadata": {
        "colab": {
          "base_uri": "https://localhost:8080/"
        },
        "id": "aDPkNV9HPh6w",
        "outputId": "e3044cde-e336-49dd-fa9c-a3404276eace"
      },
      "execution_count": 255,
      "outputs": [
        {
          "output_type": "stream",
          "name": "stdout",
          "text": [
            "41\n"
          ]
        }
      ]
    },
    {
      "cell_type": "code",
      "source": [
        "# draw_dot(n(x))"
      ],
      "metadata": {
        "id": "pRSuzV7p4MyI"
      },
      "execution_count": 145,
      "outputs": []
    },
    {
      "cell_type": "markdown",
      "source": [
        "## creating a tiny dataset, writing the loss function"
      ],
      "metadata": {
        "id": "d01od4uxHrv5"
      }
    },
    {
      "cell_type": "code",
      "source": [
        "xs = [                             # 4 possible input set\n",
        "    [2.0, 3.0, -1.0],\n",
        "    [3.0, -1.0, 0.5],\n",
        "    [0.5, 1.0, 1.0],\n",
        "    [1.0, 1.0, -1.0],\n",
        "]\n",
        "\n",
        "ys = [1.0, -1.0, -1.0, 1.0]        # 4 desired targets\n",
        "\n",
        "ypred = [ n(x) for x in xs ]\n",
        "ypred"
      ],
      "metadata": {
        "colab": {
          "base_uri": "https://localhost:8080/"
        },
        "id": "9OyJqpR7EvPn",
        "outputId": "148d7c21-fa9c-4e4f-b2ac-78eede46f76c"
      },
      "execution_count": 256,
      "outputs": [
        {
          "output_type": "execute_result",
          "data": {
            "text/plain": [
              "[Value(data=0.7379144944743825),\n",
              " Value(data=0.0461656645543871),\n",
              " Value(data=0.9518595268764903),\n",
              " Value(data=0.7268353410578615)]"
            ]
          },
          "metadata": {},
          "execution_count": 256
        }
      ]
    },
    {
      "cell_type": "markdown",
      "source": [
        "as we see above, we want the 1st output to be higher,\\\n",
        "2nd to be lower,\\\n",
        "3rd to be lower,\\\n",
        "4th to be higher, based on the desired targets. \\\n",
        "\n",
        "we want to calculate a single number measuring the total performance of the neural net; this is called **loss**.\n",
        "\n",
        "Because the output is not close to the desired target, we can intuitively know that the loss is high and we want to minimize it"
      ],
      "metadata": {
        "id": "B45TcOYFI7wu"
      }
    },
    {
      "cell_type": "code",
      "source": [
        "\n",
        "# ygt = y ground truth\n",
        "# yout = y output\n",
        "\n",
        "# calculating mean square loss value\n",
        "loss = sum((yout - ygt)**2 for ygt, yout in zip(ys, ypred))\n",
        "loss"
      ],
      "metadata": {
        "colab": {
          "base_uri": "https://localhost:8080/"
        },
        "id": "bT4BK_OnFSGS",
        "outputId": "0747f535-27b9-4d2f-fc90-f81d821f5616"
      },
      "execution_count": 260,
      "outputs": [
        {
          "output_type": "execute_result",
          "data": {
            "text/plain": [
              "Value(data=5.047525953452632)"
            ]
          },
          "metadata": {},
          "execution_count": 260
        }
      ]
    },
    {
      "cell_type": "code",
      "source": [
        "# draw_dot(loss)"
      ],
      "metadata": {
        "id": "ZjvYtvOeMKzu"
      },
      "execution_count": 180,
      "outputs": []
    },
    {
      "cell_type": "code",
      "source": [
        "loss.backward()"
      ],
      "metadata": {
        "id": "4ZR_UToYIz2n"
      },
      "execution_count": 258,
      "outputs": []
    },
    {
      "cell_type": "code",
      "source": [
        "n.layers[0].neurons[0].w[0].grad"
      ],
      "metadata": {
        "colab": {
          "base_uri": "https://localhost:8080/"
        },
        "id": "ERE6vUtRL5yJ",
        "outputId": "1768507b-b558-45dd-e8f4-b65eebb1ca5a"
      },
      "execution_count": 259,
      "outputs": [
        {
          "output_type": "execute_result",
          "data": {
            "text/plain": [
              "0.38597671738231776"
            ]
          },
          "metadata": {},
          "execution_count": 259
        }
      ]
    },
    {
      "cell_type": "markdown",
      "source": [
        "Because the gradient at this specific weight at this neuron at this layer is negative (currently), that the influent of this weight on loss is also negative.\n",
        "\n",
        " This means, increasing of this weight influent the loss to go down"
      ],
      "metadata": {
        "id": "0mVI1KLnNQ47"
      }
    },
    {
      "cell_type": "code",
      "source": [
        "# draw_dot(loss)"
      ],
      "metadata": {
        "id": "UC9wWxBLMs1i"
      },
      "execution_count": 170,
      "outputs": []
    },
    {
      "cell_type": "markdown",
      "source": [
        "## colecting all of the parameters of the neural net"
      ],
      "metadata": {
        "id": "wVIOpcqQOV92"
      }
    },
    {
      "cell_type": "markdown",
      "source": [
        "adding parameters function into Neurons, Layer, and MLP classes to gather all the weights in one place"
      ],
      "metadata": {
        "id": "nLOR3T5tOkow"
      }
    },
    {
      "cell_type": "code",
      "source": [
        "n.parameters()\n",
        "print(len(n.parameters()))"
      ],
      "metadata": {
        "colab": {
          "base_uri": "https://localhost:8080/"
        },
        "id": "GINs1HVGNrGX",
        "outputId": "5d0cc5a9-60bd-4668-99bb-02e6c9b362c6"
      },
      "execution_count": 177,
      "outputs": [
        {
          "output_type": "stream",
          "name": "stdout",
          "text": [
            "41\n"
          ]
        }
      ]
    },
    {
      "cell_type": "markdown",
      "source": [
        "## doing gradient optimization manually, training the network"
      ],
      "metadata": {
        "id": "Xcxk5mYLP7MJ"
      }
    },
    {
      "cell_type": "code",
      "source": [
        "print(n.layers[0].neurons[0].w[0].data)\n",
        "print(n.layers[0].neurons[0].w[0].grad)"
      ],
      "metadata": {
        "colab": {
          "base_uri": "https://localhost:8080/"
        },
        "id": "aA3qu9CPP3mu",
        "outputId": "c223d1d0-088d-4620-f207-b4dbc94671c9"
      },
      "execution_count": 222,
      "outputs": [
        {
          "output_type": "stream",
          "name": "stdout",
          "text": [
            "0.46604579200270124\n",
            "-0.8186674868204185\n"
          ]
        }
      ]
    },
    {
      "cell_type": "markdown",
      "source": [
        "Same for this case:\n",
        "the current value for grad is -, so increasing of the value influent loss to go down.\n",
        "\n",
        ""
      ],
      "metadata": {
        "id": "IAmBCysXRnrk"
      }
    },
    {
      "cell_type": "code",
      "source": [
        "for p in n.parameters():\n",
        "  p.data += -0.01 * p.grad"
      ],
      "metadata": {
        "id": "5CQwZu71Qml3"
      },
      "execution_count": 244,
      "outputs": []
    },
    {
      "cell_type": "code",
      "source": [
        "print(n.layers[0].neurons[0].w[0].data)\n",
        "print(n.layers[0].neurons[0].w[0].grad)"
      ],
      "metadata": {
        "colab": {
          "base_uri": "https://localhost:8080/"
        },
        "id": "njHxTmQnSQj1",
        "outputId": "df3ba8d4-d0f1-444f-d7bc-db26e2d34f8a"
      },
      "execution_count": 245,
      "outputs": [
        {
          "output_type": "stream",
          "name": "stdout",
          "text": [
            "0.5929920763000964\n",
            "-2.603055469944144\n"
          ]
        }
      ]
    },
    {
      "cell_type": "code",
      "source": [
        "ypred = [ n(x) for x in xs ]\n",
        "ypred\n",
        "loss = sum((yout - ygt)**2 for ygt, yout in zip(ys, ypred))\n",
        "loss"
      ],
      "metadata": {
        "colab": {
          "base_uri": "https://localhost:8080/"
        },
        "id": "on14ZFVrSTgD",
        "outputId": "3291cdd5-37db-46ce-9cd8-12084dd689d2"
      },
      "execution_count": 261,
      "outputs": [
        {
          "output_type": "execute_result",
          "data": {
            "text/plain": [
              "Value(data=5.047525953452632)"
            ]
          },
          "metadata": {},
          "execution_count": 261
        }
      ]
    },
    {
      "cell_type": "code",
      "source": [
        "ypred = [ n(x) for x in xs ]\n",
        "ypred\n",
        "loss = sum((yout - ygt)**2 for ygt, yout in zip(ys, ypred))\n",
        "loss"
      ],
      "metadata": {
        "colab": {
          "base_uri": "https://localhost:8080/"
        },
        "id": "Bijitb_7VLKL",
        "outputId": "31477658-45fa-43de-a44c-1ec094cd7cb2"
      },
      "execution_count": 304,
      "outputs": [
        {
          "output_type": "execute_result",
          "data": {
            "text/plain": [
              "Value(data=0.005924123742891557)"
            ]
          },
          "metadata": {},
          "execution_count": 304
        }
      ]
    },
    {
      "cell_type": "code",
      "source": [
        "loss.backward()"
      ],
      "metadata": {
        "id": "_y4DGaIaSofM"
      },
      "execution_count": 305,
      "outputs": []
    },
    {
      "cell_type": "code",
      "source": [
        "for p in n.parameters():\n",
        "  p.data += -0.01 * p.grad"
      ],
      "metadata": {
        "id": "4gHBdCq3UfE2"
      },
      "execution_count": 306,
      "outputs": []
    },
    {
      "cell_type": "code",
      "source": [
        "ypred"
      ],
      "metadata": {
        "colab": {
          "base_uri": "https://localhost:8080/"
        },
        "id": "kXDBkODHVMuS",
        "outputId": "88e869bb-1d72-4766-dcf9-30e482bfb155"
      },
      "execution_count": 307,
      "outputs": [
        {
          "output_type": "execute_result",
          "data": {
            "text/plain": [
              "[Value(data=0.993280249243025),\n",
              " Value(data=-0.9579432855195636),\n",
              " Value(data=-0.9362551534170714),\n",
              " Value(data=0.9931592402552313)]"
            ]
          },
          "metadata": {},
          "execution_count": 307
        }
      ]
    },
    {
      "cell_type": "code",
      "source": [
        "# n.parameters()"
      ],
      "metadata": {
        "id": "pdbC09vqVfog"
      },
      "execution_count": 309,
      "outputs": []
    },
    {
      "cell_type": "code",
      "source": [
        "# re-initializing neural network\n",
        "\n",
        "x = [2.0, 3.0, -1.0]     # input\n",
        "n = MLP(3, [4, 4, 1])    # 3 inputs, 2 layers of 4 neurons and 1 layer of output with 1 neuron\n",
        "n(x)"
      ],
      "metadata": {
        "colab": {
          "base_uri": "https://localhost:8080/"
        },
        "id": "039_2QvPWzxc",
        "outputId": "3c1ed44f-43f5-4021-f07d-710cd6777e38"
      },
      "execution_count": 322,
      "outputs": [
        {
          "output_type": "execute_result",
          "data": {
            "text/plain": [
              "Value(data=-0.9439070401025821)"
            ]
          },
          "metadata": {},
          "execution_count": 322
        }
      ]
    },
    {
      "cell_type": "code",
      "source": [
        "# data\n",
        "\n",
        "xs = [                             # 4 possible input set\n",
        "    [2.0, 3.0, -1.0],\n",
        "    [3.0, -1.0, 0.5],\n",
        "    [0.5, 1.0, 1.0],\n",
        "    [1.0, 1.0, -1.0],\n",
        "]\n",
        "\n",
        "ys = [1.0, -1.0, -1.0, 1.0]        # 4 desired targets"
      ],
      "metadata": {
        "id": "1pGewG_1WuhN"
      },
      "execution_count": 323,
      "outputs": []
    },
    {
      "cell_type": "code",
      "source": [
        "# above is the manual stepping to to find the best model by running forward pass, backward pass and steping.\n",
        "\n",
        "# below is updating several times\n",
        "for k in range(20):\n",
        "\n",
        "  # forward pass\n",
        "  ypred = [ n(x) for x in xs ]\n",
        "  loss = sum((yout - ygt)**2 for ygt, yout in zip(ys, ypred))\n",
        "\n",
        "  # backward pass\n",
        "  for p in n.parameters():    # zero grad whenever it runs as we are keep adding grad\n",
        "    p.grad = 0.0\n",
        "  loss.backward()\n",
        "\n",
        "  # update\n",
        "  for p in n.parameters():\n",
        "    p.data += -0.05 * p.grad\n",
        "\n",
        "  print(k, loss.data)"
      ],
      "metadata": {
        "colab": {
          "base_uri": "https://localhost:8080/"
        },
        "id": "I5K8EyDbWH_Y",
        "outputId": "f995b692-f56a-4cae-af6d-aa425d12b712"
      },
      "execution_count": 350,
      "outputs": [
        {
          "output_type": "stream",
          "name": "stdout",
          "text": [
            "0 0.002690579375055359\n",
            "1 0.0026786169948798877\n",
            "2 0.00266675282691779\n",
            "3 0.0026549857112240583\n",
            "4 0.002643314505636053\n",
            "5 0.002631738085439048\n",
            "6 0.002620255343039489\n",
            "7 0.002608865187645171\n",
            "8 0.0025975665449528016\n",
            "9 0.002586358356842245\n",
            "10 0.002575239581077416\n",
            "11 0.0025642091910139733\n",
            "12 0.0025532661753131\n",
            "13 0.0025424095376616203\n",
            "14 0.002531638296498269\n",
            "15 0.002520951484745594\n",
            "16 0.0025103481495478944\n",
            "17 0.002499827352014649\n",
            "18 0.0024893881669693953\n",
            "19 0.0024790296827040307\n"
          ]
        }
      ]
    },
    {
      "cell_type": "code",
      "source": [
        "ypred"
      ],
      "metadata": {
        "colab": {
          "base_uri": "https://localhost:8080/"
        },
        "id": "h_sRjUY8XLwD",
        "outputId": "b31fd85b-3626-4f62-b6f1-4f0b515dfd35"
      },
      "execution_count": 351,
      "outputs": [
        {
          "output_type": "execute_result",
          "data": {
            "text/plain": [
              "[Value(data=0.9799429270386676),\n",
              " Value(data=-0.9860013390086063),\n",
              " Value(data=-0.9694454451175294),\n",
              " Value(data=0.9692233826857151)]"
            ]
          },
          "metadata": {},
          "execution_count": 351
        }
      ]
    },
    {
      "cell_type": "markdown",
      "source": [
        "## summary of what we learned, how to go towards modern neural nets"
      ],
      "metadata": {
        "id": "6Ftz7gSoYthM"
      }
    },
    {
      "cell_type": "markdown",
      "source": [
        "neural net: mathematical expressions that take input as a data, that uses weight and parameters passed to mathematical expression for forward pass, which followed by a loss function that calculate accuracy of the prediction, then backward pass to tune the parameters in the case it does not work as we wanted.\n",
        "\n",
        "lower loss means better and follows prediction."
      ],
      "metadata": {
        "id": "38QPXX7_YyFM"
      }
    },
    {
      "cell_type": "code",
      "source": [],
      "metadata": {
        "id": "SN70yk6bXkVV"
      },
      "execution_count": null,
      "outputs": []
    }
  ]
}